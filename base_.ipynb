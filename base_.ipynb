{
 "cells": [
  {
   "cell_type": "markdown",
   "id": "2171f1e4",
   "metadata": {},
   "source": [
    "# 默认代码"
   ]
  },
  {
   "cell_type": "code",
   "execution_count": 1,
   "id": "649edea5",
   "metadata": {},
   "outputs": [],
   "source": [
    "# 抑制警告\n",
    "import warnings\n",
    "warnings.filterwarnings('ignore')"
   ]
  },
  {
   "cell_type": "markdown",
   "id": "2d4393d8",
   "metadata": {},
   "source": [
    "# List\n",
    ">- 可包含不同类型元素的容器\n",
    ">- `list()` 为内置函数，定义变量时应该避免使用 `list` 作为变量名"
   ]
  },
  {
   "cell_type": "code",
   "execution_count": 2,
   "id": "92c0b639",
   "metadata": {},
   "outputs": [],
   "source": [
    "L = [1 , 2. , 'abc' , True]"
   ]
  },
  {
   "cell_type": "markdown",
   "id": "268653fb",
   "metadata": {},
   "source": [
    "## 长度 `len()`\n",
    "> 对于 Tuple 和 String 和 Dictionary 也适用"
   ]
  },
  {
   "cell_type": "code",
   "execution_count": 3,
   "id": "2e9464af",
   "metadata": {},
   "outputs": [
    {
     "data": {
      "text/plain": [
       "4"
      ]
     },
     "execution_count": 3,
     "metadata": {},
     "output_type": "execute_result"
    }
   ],
   "source": [
    "len(L)"
   ]
  },
  {
   "cell_type": "markdown",
   "id": "7bd87365",
   "metadata": {},
   "source": [
    "## 用于 `for` 循环"
   ]
  },
  {
   "cell_type": "code",
   "execution_count": 4,
   "id": "e0e36fae",
   "metadata": {},
   "outputs": [
    {
     "name": "stdout",
     "output_type": "stream",
     "text": [
      "<class 'list'>\n",
      "<class 'int'>\n",
      "<class 'float'>\n",
      "<class 'str'>\n",
      "<class 'bool'>\n"
     ]
    }
   ],
   "source": [
    "print(type(L))\n",
    "\n",
    "for item in L:\n",
    "    print(type(item))"
   ]
  },
  {
   "cell_type": "code",
   "execution_count": 5,
   "id": "2797d5f0",
   "metadata": {},
   "outputs": [
    {
     "name": "stdout",
     "output_type": "stream",
     "text": [
      "[<class 'int'>, <class 'float'>, <class 'str'>, <class 'bool'>]\n"
     ]
    }
   ],
   "source": [
    "print([type(item) for item in L])"
   ]
  },
  {
   "cell_type": "markdown",
   "id": "b4ac3e4d",
   "metadata": {},
   "source": [
    "## 增"
   ]
  },
  {
   "cell_type": "markdown",
   "id": "306315b3",
   "metadata": {},
   "source": [
    "### 尾部追加"
   ]
  },
  {
   "cell_type": "code",
   "execution_count": 6,
   "id": "c6a8e3a3",
   "metadata": {},
   "outputs": [
    {
     "data": {
      "text/plain": [
       "[1, 2.0, 'abc', True, -99, 3.14, ['9', '9', '9']]"
      ]
     },
     "execution_count": 6,
     "metadata": {},
     "output_type": "execute_result"
    }
   ],
   "source": [
    "L = [1 , 2. , 'abc' , True]\n",
    "\n",
    "# append(object)\n",
    "# 作为一个元素添加在 List 尾部，直接修改原 List\n",
    "\n",
    "L.append(-99)\n",
    "L.append(3.14)\n",
    "L.append(['9' , '9' , '9'])\n",
    "L"
   ]
  },
  {
   "cell_type": "code",
   "execution_count": 7,
   "id": "cdfb995e",
   "metadata": {},
   "outputs": [
    {
     "data": {
      "text/plain": [
       "[1, 2, 3, 'a', 3.14]"
      ]
     },
     "execution_count": 7,
     "metadata": {},
     "output_type": "execute_result"
    }
   ],
   "source": [
    "L = [1 , 2 , 3]\n",
    "l = ['a' , 3.14]\n",
    "\n",
    "# extend(iterable)\n",
    "# 将可迭代对象中的元素依次追加在 List 尾部，直接修改原 List\n",
    "# 与下面的 + 拼接唯一区别是，直接修改原 List\n",
    "\n",
    "L.extend(l)\n",
    "L"
   ]
  },
  {
   "cell_type": "markdown",
   "id": "864a354c",
   "metadata": {},
   "source": [
    "### 倍增 `*`"
   ]
  },
  {
   "cell_type": "code",
   "execution_count": 8,
   "id": "ac270b68",
   "metadata": {},
   "outputs": [
    {
     "name": "stdout",
     "output_type": "stream",
     "text": [
      "6\n"
     ]
    },
    {
     "data": {
      "text/plain": [
       "[1, [-1], 1, [-1], 1, [-1]]"
      ]
     },
     "execution_count": 8,
     "metadata": {},
     "output_type": "execute_result"
    }
   ],
   "source": [
    "print(len([1 , [-1]] * 3))\n",
    "[1 , [-1]] * 3"
   ]
  },
  {
   "cell_type": "markdown",
   "id": "b4c2584c",
   "metadata": {},
   "source": [
    "### 拼接 `+`"
   ]
  },
  {
   "cell_type": "code",
   "execution_count": 9,
   "id": "49511e48",
   "metadata": {},
   "outputs": [
    {
     "name": "stdout",
     "output_type": "stream",
     "text": [
      "[-1, -2.0, [909, 808, 707], 'xxx', 2]\n",
      "[-1, -2.0]\n",
      "[[909, 808, 707]]\n",
      "['xxx', 2]\n",
      "5\n"
     ]
    }
   ],
   "source": [
    "L1 = [-1 , -2.]\n",
    "L2 = [ [909 , 808 , 707] ]\n",
    "L3 = ['xxx' , 2]\n",
    "\n",
    "# 与上面的 extend 尾部追加的唯一区别是，不影响原 List\n",
    "\n",
    "print(L1 + L2 + L3)\n",
    "print(L1)\n",
    "print(L2)\n",
    "print(L3)\n",
    "print(len(L1 + L2 + L3))"
   ]
  },
  {
   "cell_type": "markdown",
   "id": "d81106dc",
   "metadata": {},
   "source": [
    "### 首部插入"
   ]
  },
  {
   "cell_type": "code",
   "execution_count": 10,
   "id": "6a4d2356",
   "metadata": {},
   "outputs": [
    {
     "name": "stdout",
     "output_type": "stream",
     "text": [
      "[520, 0, 1, 2, 3, 4]\n"
     ]
    }
   ],
   "source": [
    "L = [0 , 1 , 2 , 3 , 4]\n",
    "\n",
    "L[:0] = [520]      # 见下述正向切片\n",
    "print(L)"
   ]
  },
  {
   "cell_type": "markdown",
   "id": "34e1053a",
   "metadata": {},
   "source": [
    "### 中间插入"
   ]
  },
  {
   "cell_type": "code",
   "execution_count": 11,
   "id": "89300b36",
   "metadata": {},
   "outputs": [
    {
     "name": "stdout",
     "output_type": "stream",
     "text": [
      "[0, 1, 1314, 2, 3, 4]\n",
      "[0, 1, 1314, 'xxx', 'yyy', 'zzz', 2, 3, 4]\n"
     ]
    }
   ],
   "source": [
    "L = [0 , 1 , 2 , 3 , 4]\n",
    "\n",
    "L[2:2] = [1314]\n",
    "print(L)\n",
    "\n",
    "L[3:3] = ['xxx' , 'yyy' , 'zzz']\n",
    "print(L)"
   ]
  },
  {
   "cell_type": "markdown",
   "id": "06294e95",
   "metadata": {},
   "source": [
    "## 切片\n",
    ">- 下标索引从 0 开始\n",
    ">- 切片操作创建了一个新的 List"
   ]
  },
  {
   "cell_type": "markdown",
   "id": "35e73364",
   "metadata": {},
   "source": [
    "### 正向\n",
    ">- [start : end : step] $\\Rightarrow$ [start , end)\n",
    ">  - start 默认为 0，包括\n",
    ">  - end  默认为列表长度，不包括\n",
    ">  - step  默认为 1"
   ]
  },
  {
   "cell_type": "code",
   "execution_count": 12,
   "id": "00735afa",
   "metadata": {},
   "outputs": [],
   "source": [
    "L = [0 , 1 , 2 , 3 , 4 , 5]"
   ]
  },
  {
   "cell_type": "code",
   "execution_count": 13,
   "id": "425a318a",
   "metadata": {},
   "outputs": [
    {
     "name": "stdout",
     "output_type": "stream",
     "text": [
      "0\n",
      "5\n"
     ]
    }
   ],
   "source": [
    "print(L[0])\n",
    "print(L[-1])       # 倒数第 1 个元素"
   ]
  },
  {
   "cell_type": "code",
   "execution_count": 14,
   "id": "647cad77",
   "metadata": {},
   "outputs": [
    {
     "name": "stdout",
     "output_type": "stream",
     "text": [
      "[2, 3, 4]\n",
      "[2, 4]\n",
      "[2]\n"
     ]
    }
   ],
   "source": [
    "print(L[2:5])\n",
    "print(L[2:5:2])\n",
    "print(L[2:5:3])"
   ]
  },
  {
   "cell_type": "code",
   "execution_count": 15,
   "id": "fd18f9b5",
   "metadata": {},
   "outputs": [
    {
     "name": "stdout",
     "output_type": "stream",
     "text": [
      "[]\n",
      "[]\n",
      "[]\n"
     ]
    }
   ],
   "source": [
    "print(L[:0])       # 见上述首部插入，start 默认为 0\n",
    "print(L[2:2])      # start = end 为空 List\n",
    "print(L[2:1])      # start > end 为空 List"
   ]
  },
  {
   "cell_type": "code",
   "execution_count": 16,
   "id": "f019d4a5",
   "metadata": {},
   "outputs": [
    {
     "name": "stdout",
     "output_type": "stream",
     "text": [
      "[0, 2, 4]\n",
      "[1, 3, 5]\n"
     ]
    }
   ],
   "source": [
    "print(L[::2])      # 偶数位\n",
    "print(L[1::2])     # 奇数位"
   ]
  },
  {
   "cell_type": "markdown",
   "id": "4387e721",
   "metadata": {},
   "source": [
    "### 反向\n",
    ">- step 指定为负值\n",
    ">- 且需 start > end\n",
    ">- 依旧不包括 end"
   ]
  },
  {
   "cell_type": "code",
   "execution_count": 17,
   "id": "195c3360",
   "metadata": {},
   "outputs": [],
   "source": [
    "L = [0 , 1 , 2 , 3 , 4 , 5]"
   ]
  },
  {
   "cell_type": "code",
   "execution_count": 18,
   "id": "c3646c8b",
   "metadata": {},
   "outputs": [
    {
     "name": "stdout",
     "output_type": "stream",
     "text": [
      "[5, 4, 3, 2, 1, 0]\n"
     ]
    }
   ],
   "source": [
    "print(L[::-1])    # 省略 start 和 end ，为倒序"
   ]
  },
  {
   "cell_type": "code",
   "execution_count": 19,
   "id": "73c3fb33",
   "metadata": {},
   "outputs": [
    {
     "name": "stdout",
     "output_type": "stream",
     "text": [
      "[5, 3, 1]\n"
     ]
    }
   ],
   "source": [
    "print(L[::-2])    # 省略 start 和 end ，为倒序"
   ]
  },
  {
   "cell_type": "code",
   "execution_count": 20,
   "id": "f6682acd",
   "metadata": {},
   "outputs": [
    {
     "name": "stdout",
     "output_type": "stream",
     "text": [
      "[5, 4, 3]\n",
      "[5, 3]\n",
      "[5]\n"
     ]
    }
   ],
   "source": [
    "print(L[5:2:-1])\n",
    "print(L[5:2:-2])\n",
    "print(L[5:2:-3])"
   ]
  },
  {
   "cell_type": "code",
   "execution_count": 21,
   "id": "07d308ac",
   "metadata": {},
   "outputs": [
    {
     "name": "stdout",
     "output_type": "stream",
     "text": [
      "[]\n",
      "[]\n"
     ]
    }
   ],
   "source": [
    "print(L[5:5:-1])       # start = end 为空 List\n",
    "print(L[4:5:-1])       # start < end 为空 List"
   ]
  },
  {
   "cell_type": "markdown",
   "id": "1cebb65c",
   "metadata": {},
   "source": [
    "## 修"
   ]
  },
  {
   "cell_type": "markdown",
   "id": "a84e3b28",
   "metadata": {},
   "source": [
    "### 修改单个"
   ]
  },
  {
   "cell_type": "code",
   "execution_count": 22,
   "id": "93c48665",
   "metadata": {},
   "outputs": [
    {
     "name": "stdout",
     "output_type": "stream",
     "text": [
      "[0, 1, 'xxx', 3, 4]\n"
     ]
    }
   ],
   "source": [
    "L = [0 , 1 , 2 , 3 , 4]\n",
    "\n",
    "L[2] = 'xxx'\n",
    "print(L)"
   ]
  },
  {
   "cell_type": "markdown",
   "id": "b206f740",
   "metadata": {},
   "source": [
    "### 修改切片"
   ]
  },
  {
   "cell_type": "code",
   "execution_count": 23,
   "id": "fe32da39",
   "metadata": {},
   "outputs": [
    {
     "name": "stdout",
     "output_type": "stream",
     "text": [
      "['x', 1, 'y', 3, 'z']\n"
     ]
    }
   ],
   "source": [
    "L = [0 , 1 , 2 , 3 , 4]\n",
    "\n",
    "L[::2] = ['x' , 'y' , 'z']         # 切片含多少个元素，就要提供多少个参数\n",
    "print(L)"
   ]
  },
  {
   "cell_type": "code",
   "execution_count": 24,
   "id": "b3ce742e",
   "metadata": {},
   "outputs": [
    {
     "name": "stdout",
     "output_type": "stream",
     "text": [
      "[0, 'AAA', 2, 'AAA', 4]\n"
     ]
    }
   ],
   "source": [
    "L = [0 , 1 , 2 , 3 , 4]\n",
    "\n",
    "L[1::2] = ['AAA'] * 2              # 切片含多少个元素，就要提供多少个参数\n",
    "print(L)"
   ]
  },
  {
   "cell_type": "markdown",
   "id": "7609f866",
   "metadata": {},
   "source": [
    "## 删"
   ]
  },
  {
   "cell_type": "markdown",
   "id": "f676eab1",
   "metadata": {},
   "source": [
    "### 复制备份"
   ]
  },
  {
   "cell_type": "code",
   "execution_count": 25,
   "id": "5e56947f",
   "metadata": {},
   "outputs": [],
   "source": [
    "L1 = [1 , 2 , 3]\n",
    "L2 = L1.copy()"
   ]
  },
  {
   "cell_type": "markdown",
   "id": "4ff2ae49",
   "metadata": {},
   "source": [
    "### remove()\n",
    ">- 在原 List 上直接删除指定元素\n",
    ">- List 中不存在指定元素时则报错 `ValueError: list.remove(x): x not in list`"
   ]
  },
  {
   "cell_type": "code",
   "execution_count": 26,
   "id": "d7c6de94",
   "metadata": {},
   "outputs": [],
   "source": [
    "L = [1 , 2 , 3 , 4 , 5 , 1]"
   ]
  },
  {
   "cell_type": "code",
   "execution_count": 27,
   "id": "18a461e6",
   "metadata": {},
   "outputs": [
    {
     "name": "stdout",
     "output_type": "stream",
     "text": [
      "[2, 3, 4, 5, 1]\n",
      "[2, 4, 5, 1]\n",
      "[2, 4, 1]\n"
     ]
    }
   ],
   "source": [
    "L.remove(1)          # 删除第一个 1\n",
    "print(L)\n",
    "L.remove(3)\n",
    "print(L)\n",
    "L.remove(5)\n",
    "print(L)"
   ]
  },
  {
   "cell_type": "code",
   "execution_count": 28,
   "id": "597b0a25",
   "metadata": {},
   "outputs": [
    {
     "name": "stdout",
     "output_type": "stream",
     "text": [
      "[1, 2, 3]\n",
      "[1, 2, 3]\n",
      "[1, 3]\n",
      "[1, 2, 3]\n"
     ]
    }
   ],
   "source": [
    "# 备份复制\n",
    "L1 = [1 , 2 , 3]\n",
    "L2 = L1.copy()\n",
    "print(L1)\n",
    "print(L2)\n",
    "\n",
    "L1.remove(2)\n",
    "print(L1)\n",
    "print(L2)"
   ]
  },
  {
   "cell_type": "markdown",
   "id": "a7892a3e",
   "metadata": {},
   "source": [
    "### =[]\n",
    ">- 也是在原 List 上直接删除指定元素\n",
    ">- 按位置删除：单个元素 & 连续切片区间"
   ]
  },
  {
   "cell_type": "code",
   "execution_count": 29,
   "id": "ea8f87b2",
   "metadata": {},
   "outputs": [],
   "source": [
    "L = [0 , 1 , 2 , 3 , 4]"
   ]
  },
  {
   "cell_type": "code",
   "execution_count": 30,
   "id": "dfa4f022",
   "metadata": {},
   "outputs": [
    {
     "name": "stdout",
     "output_type": "stream",
     "text": [
      "[0, 1, 2, 3, 4]\n",
      "[0, 1, 2, 3, 4]\n",
      "[0, 1, 2, 3, 4]\n"
     ]
    }
   ],
   "source": [
    "L[:0] = []           # 切片为空，则无变化\n",
    "print(L)\n",
    "\n",
    "L[2:2] = []          # 切片为空，则无变化\n",
    "print(L)\n",
    "\n",
    "L[len(L):] = []      # 切片为空，则无变化\n",
    "print(L)       "
   ]
  },
  {
   "cell_type": "code",
   "execution_count": 31,
   "id": "e2bd16e5",
   "metadata": {},
   "outputs": [
    {
     "name": "stdout",
     "output_type": "stream",
     "text": [
      "[0, 1, 3, 4]\n"
     ]
    }
   ],
   "source": [
    "L[2:3] = []         # 删除单个元素\n",
    "print(L)"
   ]
  },
  {
   "cell_type": "code",
   "execution_count": 32,
   "id": "389cbe97",
   "metadata": {},
   "outputs": [
    {
     "name": "stdout",
     "output_type": "stream",
     "text": [
      "[0, 4]\n"
     ]
    }
   ],
   "source": [
    "L[1:3] = []         # 切片区间需连续\n",
    "print(L)"
   ]
  },
  {
   "cell_type": "markdown",
   "id": "4d04bf1a",
   "metadata": {},
   "source": [
    "### del\n",
    ">- 也是在原 List 上直接删除指定元素\n",
    ">- 按位置删除：单个元素 & 连续切片区间 & 非连续切片区间"
   ]
  },
  {
   "cell_type": "code",
   "execution_count": 33,
   "id": "bc395dc9",
   "metadata": {},
   "outputs": [],
   "source": [
    "L = [0 , 1 , 2 , 3 , 4]"
   ]
  },
  {
   "cell_type": "code",
   "execution_count": 34,
   "id": "8f38b261",
   "metadata": {},
   "outputs": [
    {
     "name": "stdout",
     "output_type": "stream",
     "text": [
      "[0, 1, 3, 4]\n",
      "[0, 4]\n"
     ]
    }
   ],
   "source": [
    "del L[2:3]         # 删除单个元素\n",
    "print(L)\n",
    "\n",
    "del L[1:3]         # 删除连续切片区间\n",
    "print(L)"
   ]
  },
  {
   "cell_type": "code",
   "execution_count": 35,
   "id": "f0b0bb5f",
   "metadata": {},
   "outputs": [
    {
     "name": "stdout",
     "output_type": "stream",
     "text": [
      "[1, 3]\n"
     ]
    }
   ],
   "source": [
    "L = [0 , 1 , 2 , 3 , 4]\n",
    "del L[::2]         # 删除非连续切片\n",
    "print(L)"
   ]
  },
  {
   "cell_type": "code",
   "execution_count": 36,
   "id": "50fd9930",
   "metadata": {},
   "outputs": [
    {
     "name": "stdout",
     "output_type": "stream",
     "text": [
      "[0, 2, 4]\n"
     ]
    }
   ],
   "source": [
    "L = [0 , 1 , 2 , 3 , 4]\n",
    "\n",
    "del L[1::2]        # 删除非连续切片\n",
    "print(L)"
   ]
  },
  {
   "cell_type": "code",
   "execution_count": 37,
   "id": "b5e1b2f5",
   "metadata": {},
   "outputs": [
    {
     "name": "stdout",
     "output_type": "stream",
     "text": [
      "[1, 2, 4]\n"
     ]
    }
   ],
   "source": [
    "L = [0 , 1 , 2 , 3 , 4]\n",
    "\n",
    "del L[::3]        # 删除非连续切片\n",
    "print(L)"
   ]
  },
  {
   "cell_type": "markdown",
   "id": "68033856",
   "metadata": {},
   "source": [
    "## 查"
   ]
  },
  {
   "cell_type": "code",
   "execution_count": 38,
   "id": "3e352204",
   "metadata": {},
   "outputs": [
    {
     "data": {
      "text/plain": [
       "False"
      ]
     },
     "execution_count": 38,
     "metadata": {},
     "output_type": "execute_result"
    }
   ],
   "source": [
    "3 in [-1 , -2 , -3]"
   ]
  },
  {
   "cell_type": "code",
   "execution_count": 39,
   "id": "30a9e44f",
   "metadata": {},
   "outputs": [
    {
     "data": {
      "text/plain": [
       "True"
      ]
     },
     "execution_count": 39,
     "metadata": {},
     "output_type": "execute_result"
    }
   ],
   "source": [
    "-3 in [-1 , -2 , -3]"
   ]
  },
  {
   "cell_type": "markdown",
   "id": "be94de50",
   "metadata": {},
   "source": [
    "## 有序比较"
   ]
  },
  {
   "cell_type": "code",
   "execution_count": 40,
   "id": "db8d7b9b",
   "metadata": {},
   "outputs": [
    {
     "data": {
      "text/plain": [
       "True"
      ]
     },
     "execution_count": 40,
     "metadata": {},
     "output_type": "execute_result"
    }
   ],
   "source": [
    "[1 , 2] == [1 , 2]"
   ]
  },
  {
   "cell_type": "code",
   "execution_count": 41,
   "id": "34ba0874",
   "metadata": {},
   "outputs": [
    {
     "data": {
      "text/plain": [
       "False"
      ]
     },
     "execution_count": 41,
     "metadata": {},
     "output_type": "execute_result"
    }
   ],
   "source": [
    "[1 , 2] == [2 , 1]"
   ]
  },
  {
   "cell_type": "code",
   "execution_count": 42,
   "id": "f9d8118c",
   "metadata": {},
   "outputs": [
    {
     "data": {
      "text/plain": [
       "True"
      ]
     },
     "execution_count": 42,
     "metadata": {},
     "output_type": "execute_result"
    }
   ],
   "source": [
    "[1 , 2] != [2 , 1]"
   ]
  },
  {
   "cell_type": "markdown",
   "id": "ecd643c2",
   "metadata": {},
   "source": [
    "## `enumerate()`\n",
    ">- List --> Tuple (idx , elem)\n",
    ">- enumerate == 列举 、枚举，多用于 for 循环"
   ]
  },
  {
   "cell_type": "code",
   "execution_count": 43,
   "id": "282148c2",
   "metadata": {},
   "outputs": [],
   "source": [
    "L = ['a' , 'b' , 33 , 'c' , 'd' , 999]"
   ]
  },
  {
   "cell_type": "code",
   "execution_count": 44,
   "id": "06908ab8",
   "metadata": {},
   "outputs": [
    {
     "name": "stdout",
     "output_type": "stream",
     "text": [
      "<class 'enumerate'>\n"
     ]
    }
   ],
   "source": [
    "E = enumerate(L)\n",
    "print(type(E))"
   ]
  },
  {
   "cell_type": "code",
   "execution_count": 45,
   "id": "b32e542e",
   "metadata": {},
   "outputs": [
    {
     "name": "stdout",
     "output_type": "stream",
     "text": [
      "<class 'tuple'>   (0, 'a')\n",
      "<class 'tuple'>   (1, 'b')\n",
      "<class 'tuple'>   (2, 33)\n",
      "<class 'tuple'>   (3, 'c')\n",
      "<class 'tuple'>   (4, 'd')\n",
      "<class 'tuple'>   (5, 999)\n"
     ]
    }
   ],
   "source": [
    "for t in enumerate(L):\n",
    "    print(f'{type(t)}   {t}')"
   ]
  },
  {
   "cell_type": "code",
   "execution_count": 46,
   "id": "a47ef199",
   "metadata": {},
   "outputs": [
    {
     "name": "stdout",
     "output_type": "stream",
     "text": [
      "0   a\n",
      "1   b\n",
      "2   33\n",
      "3   c\n",
      "4   d\n",
      "5   999\n"
     ]
    }
   ],
   "source": [
    "for idx , elem in enumerate(L):\n",
    "    print(f'{idx}   {elem}')"
   ]
  },
  {
   "cell_type": "code",
   "execution_count": 47,
   "id": "e6fe4852",
   "metadata": {},
   "outputs": [
    {
     "name": "stdout",
     "output_type": "stream",
     "text": [
      "1   a\n",
      "2   b\n",
      "3   33\n",
      "4   c\n",
      "5   d\n",
      "6   999\n"
     ]
    }
   ],
   "source": [
    "for idx , elem in enumerate(L , 1):     # 指定编号 idx 从 1 开始\n",
    "    print(f'{idx}   {elem}')"
   ]
  },
  {
   "cell_type": "markdown",
   "id": "dce1345c",
   "metadata": {},
   "source": [
    "## 排序\n",
    ">- [List 排序]https://zhuanlan.zhihu.com/p/484949469"
   ]
  },
  {
   "cell_type": "code",
   "execution_count": 48,
   "id": "27f6c3ae",
   "metadata": {},
   "outputs": [
    {
     "data": {
      "text/plain": [
       "[1, 2, 3, 4]"
      ]
     },
     "execution_count": 48,
     "metadata": {},
     "output_type": "execute_result"
    }
   ],
   "source": [
    "# 直接排序原 List\n",
    "\n",
    "l = [2 , 1 , 4 , 3]\n",
    "l.sort()\n",
    "l"
   ]
  },
  {
   "cell_type": "code",
   "execution_count": 49,
   "id": "c8257b4e",
   "metadata": {},
   "outputs": [
    {
     "name": "stdout",
     "output_type": "stream",
     "text": [
      "[2, 1, 4, 3]\n",
      "[1, 2, 3, 4]\n"
     ]
    }
   ],
   "source": [
    "# 生成排序好的新 List ，不改变原 List\n",
    "\n",
    "l = [2 , 1 , 4 , 3]\n",
    "s = sorted(l)\n",
    "print(l)\n",
    "print(s)"
   ]
  },
  {
   "cell_type": "markdown",
   "id": "d575ae63",
   "metadata": {},
   "source": [
    "## 打乱 & 划分"
   ]
  },
  {
   "cell_type": "code",
   "execution_count": 50,
   "id": "f95cf839",
   "metadata": {},
   "outputs": [],
   "source": [
    "from sklearn.model_selection import train_test_split as SPLIT"
   ]
  },
  {
   "cell_type": "code",
   "execution_count": 51,
   "id": "acf6e934",
   "metadata": {},
   "outputs": [
    {
     "name": "stdout",
     "output_type": "stream",
     "text": [
      "[1, 2, 3, 4, 5, 6]\n",
      "[111, 222, 333, 444, 555, 666]\n"
     ]
    }
   ],
   "source": [
    "X = [1 , 2 , 3 , 4 , 5 , 6]\n",
    "Y = [111 , 222 , 333 , 444 , 555 , 666]\n",
    "print(X)\n",
    "print(Y)"
   ]
  },
  {
   "cell_type": "code",
   "execution_count": 52,
   "id": "7ff6ecd8",
   "metadata": {},
   "outputs": [
    {
     "name": "stdout",
     "output_type": "stream",
     "text": [
      "[5, 2, 1, 3]\n",
      "[555, 222, 111, 333]\n",
      "\n",
      "[4, 6]\n",
      "[444, 666]\n"
     ]
    }
   ],
   "source": [
    "# test_size ：测试集的占比，6 * 0.2 == 1.2  向上取到 2\n",
    "# random_state ：随机种子，设置相同则每次划分相同，不设置则每次划分不相同\n",
    "\n",
    "X_train , X_test , Y_train , Y_test = SPLIT(X , Y , test_size = 0.2 , random_state = 3)\n",
    "print(f'{X_train}\\n{Y_train}\\n\\n{X_test}\\n{Y_test}')"
   ]
  },
  {
   "cell_type": "markdown",
   "id": "2279c9f2",
   "metadata": {},
   "source": [
    "# Tuple\n",
    ">- 与 List 的不同：\n",
    ">   - 不可增 、删 、改自身\n",
    ">   - 使用小括号 (...)\n",
    ">- 与 List 的相同：\n",
    ">   - 可包含不同类型的元素\n",
    ">   - 长度 len()\n",
    ">   - 用于 for 循环\n",
    ">   - 拼接 、倍增\n",
    ">   - 切片\n",
    ">   - 查 、有序比较"
   ]
  },
  {
   "cell_type": "code",
   "execution_count": 53,
   "id": "dcfbcbd1",
   "metadata": {},
   "outputs": [
    {
     "name": "stdout",
     "output_type": "stream",
     "text": [
      "()\n",
      "<class 'tuple'>\n",
      "\n",
      "50\n",
      "<class 'int'>\n",
      "\n",
      "(50,)\n",
      "<class 'tuple'>\n"
     ]
    }
   ],
   "source": [
    "tup = ()\n",
    "print(tup)\n",
    "print(type(tup) , end='\\n\\n')\n",
    "\n",
    "\n",
    "tup = (50)\n",
    "print(tup)\n",
    "print(type(tup) , end='\\n\\n')\n",
    "\n",
    "\n",
    "tup = (50 , )       # 单个元素，需要加逗号\n",
    "print(tup)\n",
    "print(type(tup))"
   ]
  },
  {
   "cell_type": "markdown",
   "id": "3531fe56",
   "metadata": {},
   "source": [
    "## del\n",
    ">- 删除整个 Tuple ，该变量 tup 将不存在 、未定义"
   ]
  },
  {
   "cell_type": "code",
   "execution_count": 54,
   "id": "a10b4805",
   "metadata": {},
   "outputs": [],
   "source": [
    "del tup"
   ]
  },
  {
   "cell_type": "markdown",
   "id": "f70de47e",
   "metadata": {},
   "source": [
    "## tuple()\n",
    ">- 内置函数，，定义变量时应该避免使用 `tuple` 作为变量名"
   ]
  },
  {
   "cell_type": "code",
   "execution_count": 55,
   "id": "82a7e309",
   "metadata": {},
   "outputs": [
    {
     "name": "stdout",
     "output_type": "stream",
     "text": [
      "<class 'list'>\n",
      "[1, 2, 3]\n",
      "\n",
      "<class 'tuple'>\n",
      "(1, 2, 3)\n"
     ]
    }
   ],
   "source": [
    "L = [1 , 2 , 3]\n",
    "\n",
    "print(type(L))\n",
    "print(L , end = '\\n\\n')\n",
    "\n",
    "print(type(tuple(L)))\n",
    "print(tuple(L))"
   ]
  },
  {
   "cell_type": "markdown",
   "id": "e5e85278",
   "metadata": {},
   "source": [
    "# String\n",
    ">- python 无字符概念，单个字符也作为字符串使用\n",
    ">  - 单引号 '...'\n",
    ">  - 双引号 \"...\"\n",
    ">- `str()` 为内置函数，定义变量时应该避免使用 `str` 作为变量名\n",
    ">- 同上述 List 的相同：\n",
    ">  - 切片\n",
    ">  - 拼接 、倍增\n",
    ">  - 用于 for 循环\n",
    ">  - 查、有序比较"
   ]
  },
  {
   "cell_type": "markdown",
   "id": "b3a93b10",
   "metadata": {},
   "source": [
    "## join(List 、Tuple)\n",
    ">- 需要保证 List 、Tuple 中的各项元素都为 String\n",
    ">- 比使用 + 法拼接效率高"
   ]
  },
  {
   "cell_type": "code",
   "execution_count": 56,
   "id": "8294f04b",
   "metadata": {},
   "outputs": [
    {
     "name": "stdout",
     "output_type": "stream",
     "text": [
      "1-False-(1, 2)\n"
     ]
    }
   ],
   "source": [
    "L = [1 , False , (1 , 2)]\n",
    "S = '-'.join([str(i) for i in L])\n",
    "print(S)"
   ]
  },
  {
   "cell_type": "code",
   "execution_count": 57,
   "id": "4fa04feb",
   "metadata": {},
   "outputs": [
    {
     "name": "stdout",
     "output_type": "stream",
     "text": [
      "3.14~a~b\n"
     ]
    }
   ],
   "source": [
    "tup = ('3.14' , 'a' , 'b')\n",
    "s = '~'.join(tup)\n",
    "print(s)"
   ]
  },
  {
   "cell_type": "markdown",
   "id": "d103e7c1",
   "metadata": {},
   "source": [
    "## 曲线修改\n",
    ">- String 是不可变类型，无法直接修改"
   ]
  },
  {
   "cell_type": "markdown",
   "id": "b7c7c6e4",
   "metadata": {},
   "source": [
    "### 方法一\n",
    ">- String --> List --> 修改 --> String"
   ]
  },
  {
   "cell_type": "code",
   "execution_count": 58,
   "id": "2eea9900",
   "metadata": {},
   "outputs": [
    {
     "name": "stdout",
     "output_type": "stream",
     "text": [
      "['a', 'b', 'c', 'd', 'e']\n"
     ]
    }
   ],
   "source": [
    "S = 'abcde'\n",
    "L = list(S)\n",
    "print(L)"
   ]
  },
  {
   "cell_type": "code",
   "execution_count": 59,
   "id": "c9844fc4",
   "metadata": {},
   "outputs": [
    {
     "name": "stdout",
     "output_type": "stream",
     "text": [
      "aBcDe\n"
     ]
    }
   ],
   "source": [
    "L[1::2] = ['B' , 'D']\n",
    "S = ''.join(L)\n",
    "print(S)"
   ]
  },
  {
   "cell_type": "markdown",
   "id": "869ef1ac",
   "metadata": {},
   "source": [
    "### 方法二\n",
    ">- 切片拼接"
   ]
  },
  {
   "cell_type": "code",
   "execution_count": 60,
   "id": "83b23bca",
   "metadata": {},
   "outputs": [
    {
     "name": "stdout",
     "output_type": "stream",
     "text": [
      "abcde\n",
      "aBcDe\n"
     ]
    }
   ],
   "source": [
    "S = 'abcde'\n",
    "print(S)\n",
    "S = S[0] + 'B' + S[2:3] + 'D' + S[4:]\n",
    "print(S)"
   ]
  },
  {
   "cell_type": "markdown",
   "id": "46eeebbe",
   "metadata": {},
   "source": [
    "### 方法三\n",
    ">- 内置函数 `replace()` 全部替换"
   ]
  },
  {
   "cell_type": "code",
   "execution_count": 61,
   "id": "6e40faf0",
   "metadata": {},
   "outputs": [
    {
     "name": "stdout",
     "output_type": "stream",
     "text": [
      "bbabbba\n",
      "bbAbbbA\n"
     ]
    }
   ],
   "source": [
    "S = 'bbabbba'\n",
    "print(S)\n",
    "S = S.replace('a' , 'A')\n",
    "print(S)"
   ]
  },
  {
   "cell_type": "markdown",
   "id": "71e21899",
   "metadata": {},
   "source": [
    "## f'...{变量名}...'"
   ]
  },
  {
   "cell_type": "markdown",
   "id": "52f069ce",
   "metadata": {},
   "source": [
    "### 基本类型"
   ]
  },
  {
   "cell_type": "code",
   "execution_count": 62,
   "id": "b0da5496",
   "metadata": {},
   "outputs": [
    {
     "name": "stdout",
     "output_type": "stream",
     "text": [
      "...1...\n",
      "...3.14...\n",
      "...False...\n",
      "...李慧颖...\n"
     ]
    }
   ],
   "source": [
    "print(f'...{1}...')\n",
    "print(f'...{3.14}...')\n",
    "print(f'...{False}...')\n",
    "print(f'...{\"李慧颖\"}...')    # 括号 { } 内使用 \"...\" 避免冲突，且不会输出 \" 符号"
   ]
  },
  {
   "cell_type": "markdown",
   "id": "f24d88dd",
   "metadata": {},
   "source": [
    "### 避免冲突\n",
    ">- 适用 `'`、`\"`、`'''`、`\"\"\"` 组合\n",
    ">- 报错 f-string: unmatched '('"
   ]
  },
  {
   "cell_type": "code",
   "execution_count": 63,
   "id": "229a6727",
   "metadata": {},
   "outputs": [
    {
     "name": "stdout",
     "output_type": "stream",
     "text": [
      "...\"...\"...\"...\"...\n",
      "...'...'...'...'...\n"
     ]
    }
   ],
   "source": [
    "# '' 内嵌套 \"\"\n",
    "# \"\" 内嵌套 ''\n",
    "print(f'...\"...\"...\"...\"...')\n",
    "print(f\"...'...'...'...'...\")"
   ]
  },
  {
   "cell_type": "code",
   "execution_count": 64,
   "id": "fc2a374f",
   "metadata": {},
   "outputs": [
    {
     "name": "stdout",
     "output_type": "stream",
     "text": [
      "...\"全'都\"输'出\"...y\"y\"y...\n",
      "...'全\"都'输\"出'...y'y'y...\n"
     ]
    }
   ],
   "source": [
    "# f'''...'''\n",
    "# f\"\"\"...\"\"\"\n",
    "# 括号 { } 外部的 ' 、\"  可自由使用，全都输出\n",
    "# 括号 { } 内部的字符串可以使用 {\"...'...'...\"} 模式，但只输出 ' ，不会输出 \" 符号\n",
    "# 括号 { } 内部的字符串可以使用 {'...\"...\"...'} 模式，但只输出 \" ，不会输出 ' 符号\n",
    "print(f'''...\"全'都\"输'出\"...{'y\"y\"y'}...''')\n",
    "print(f\"\"\"...'全\"都'输\"出'...{\"y'y'y\"}...\"\"\")"
   ]
  },
  {
   "cell_type": "markdown",
   "id": "dde8fb0d",
   "metadata": {},
   "source": [
    "### 特殊字符"
   ]
  },
  {
   "cell_type": "code",
   "execution_count": 65,
   "id": "587d6bb3",
   "metadata": {},
   "outputs": [
    {
     "name": "stdout",
     "output_type": "stream",
     "text": [
      "{...\n",
      "...}\n",
      "{...}\n"
     ]
    }
   ],
   "source": [
    "# 两个连续的 {{ 输出 {\n",
    "# 两个连续的 }} 输出 }\n",
    "print(f'{{...')\n",
    "print(f'...}}')\n",
    "print(f'{{...}}')"
   ]
  },
  {
   "cell_type": "code",
   "execution_count": 66,
   "id": "69e732e8",
   "metadata": {},
   "outputs": [
    {
     "name": "stdout",
     "output_type": "stream",
     "text": [
      "\\...\\...\\...\\...\n",
      "...\\\n"
     ]
    }
   ],
   "source": [
    "# 首部或中间：用一个 \\ 也行，用两个 \\\\ 也行，但都只输出一个 \\\n",
    "# 尾部：必须为偶数个 \\ ，否则最后一个 \\ 会转意 '\n",
    "print(f'\\...\\\\...\\...\\\\...\\n...\\\\') "
   ]
  },
  {
   "cell_type": "markdown",
   "id": "88bce9a7",
   "metadata": {},
   "source": [
    "## 补长输出"
   ]
  },
  {
   "cell_type": "code",
   "execution_count": 67,
   "id": "68ea3259",
   "metadata": {},
   "outputs": [
    {
     "name": "stdout",
     "output_type": "stream",
     "text": [
      "123456789\n",
      "aaa\n",
      "  aaa\n",
      "aaa  \n",
      " aaa \n"
     ]
    }
   ],
   "source": [
    "l = '123456789'\n",
    "s = 'aaa'\n",
    "print(l)\n",
    "print(s)\n",
    "print(s.rjust(5))     # 右边空格补齐\n",
    "print(s.ljust(5))     # 左边空格补齐\n",
    "print(s.center(5))    # 左右空格补齐"
   ]
  },
  {
   "cell_type": "code",
   "execution_count": 68,
   "id": "08fd42d9",
   "metadata": {},
   "outputs": [
    {
     "name": "stdout",
     "output_type": "stream",
     "text": [
      "3\n",
      "5\n",
      "5\n",
      "5\n"
     ]
    }
   ],
   "source": [
    "print(len(s))\n",
    "print(len(s.rjust(5)))     # 空格会计入长度\n",
    "print(len(s.ljust(5)))\n",
    "print(len(s.center(5)))"
   ]
  },
  {
   "cell_type": "markdown",
   "id": "afde6662",
   "metadata": {},
   "source": [
    "## 格式化输出\n",
    ">- 更多见 `data_Use.ipynb` 的通用函数"
   ]
  },
  {
   "cell_type": "code",
   "execution_count": 69,
   "id": "8370339d",
   "metadata": {},
   "outputs": [],
   "source": [
    "words = ['123' , 'abcde' , 'A1B2C3D']"
   ]
  },
  {
   "cell_type": "code",
   "execution_count": 70,
   "id": "7ab71748",
   "metadata": {},
   "outputs": [],
   "source": [
    "# f'{content:format}'"
   ]
  },
  {
   "cell_type": "code",
   "execution_count": 71,
   "id": "9631dd44",
   "metadata": {},
   "outputs": [
    {
     "name": "stdout",
     "output_type": "stream",
     "text": [
      "123        -- 3\n",
      "abcde      -- 5\n",
      "A1B2C3D    -- 7\n",
      "       123 -- 3\n",
      "     abcde -- 5\n",
      "   A1B2C3D -- 7\n",
      "   123     -- 3\n",
      "  abcde    -- 5\n",
      " A1B2C3D   -- 7\n"
     ]
    }
   ],
   "source": [
    "for word in words:\n",
    "    print(f'{word:<10s} -- {len(word)}')    # 右对齐\n",
    "    \n",
    "for word in words:\n",
    "    print(f'{word:>10s} -- {len(word)}')    # 左对齐\n",
    "\n",
    "for word in words:\n",
    "    print(f'{word:^10s} -- {len(word)}')    # 居中对齐"
   ]
  },
  {
   "cell_type": "markdown",
   "id": "e3f2d41c",
   "metadata": {},
   "source": [
    "# Dictionary\n",
    ">- { key : value , ... }\n",
    ">  - key 必须是不可变的：字符串 + 数字 + 元组 + 布尔\n",
    ">  - value 可以取任何数据类型\n",
    ">- dict() 为内置函数，定义变量时应该避免使用 `dict` 作为变量名"
   ]
  },
  {
   "cell_type": "code",
   "execution_count": 72,
   "id": "598a60f3",
   "metadata": {},
   "outputs": [],
   "source": [
    "d = {\n",
    "    'a': 1 , \n",
    "    2 : 's' , \n",
    "    (-1 , -2) : [3 , 3 , 3]\n",
    "}"
   ]
  },
  {
   "cell_type": "code",
   "execution_count": 73,
   "id": "5d3dbdb8",
   "metadata": {},
   "outputs": [
    {
     "data": {
      "text/plain": [
       "3"
      ]
     },
     "execution_count": 73,
     "metadata": {},
     "output_type": "execute_result"
    }
   ],
   "source": [
    "len(d)"
   ]
  },
  {
   "cell_type": "code",
   "execution_count": 74,
   "id": "ee93b8a2",
   "metadata": {},
   "outputs": [
    {
     "data": {
      "text/plain": [
       "dict"
      ]
     },
     "execution_count": 74,
     "metadata": {},
     "output_type": "execute_result"
    }
   ],
   "source": [
    "type(d)"
   ]
  },
  {
   "cell_type": "code",
   "execution_count": 75,
   "id": "b42f829e",
   "metadata": {},
   "outputs": [
    {
     "name": "stdout",
     "output_type": "stream",
     "text": [
      "1\n",
      "s\n",
      "[3, 3, 3]\n"
     ]
    }
   ],
   "source": [
    "# 按 key 取 val\n",
    "print(d['a'])\n",
    "print(d[2])\n",
    "print(d[(-1 , -2)])"
   ]
  },
  {
   "cell_type": "markdown",
   "id": "73cb9199",
   "metadata": {},
   "source": [
    "## 增 & 改\n",
    ">- 直接 `dic[key] = value`"
   ]
  },
  {
   "cell_type": "code",
   "execution_count": 76,
   "id": "48e33420",
   "metadata": {},
   "outputs": [
    {
     "name": "stdout",
     "output_type": "stream",
     "text": [
      "{1: 'a', 2: 'SSS', 3: 'c', 4: 'D'}\n"
     ]
    }
   ],
   "source": [
    "d = {1 : 'a' , 2 : 'b' , 3 : 'c'}\n",
    "d[2] = 'SSS'    # 修\n",
    "d[4] = 'D'      # 增\n",
    "print(d)"
   ]
  },
  {
   "cell_type": "markdown",
   "id": "628471a2",
   "metadata": {},
   "source": [
    "## 删\n",
    ">- 直接 `del dic[key]`"
   ]
  },
  {
   "cell_type": "code",
   "execution_count": 77,
   "id": "5c01ae0d",
   "metadata": {},
   "outputs": [
    {
     "name": "stdout",
     "output_type": "stream",
     "text": [
      "{1: 'a', 3: 'c'}\n"
     ]
    }
   ],
   "source": [
    "d = {1 : 'a' , '2' : 'b' , 3 : 'c'}\n",
    "del d['2']\n",
    "print(d)"
   ]
  },
  {
   "cell_type": "code",
   "execution_count": 78,
   "id": "50ca35dd",
   "metadata": {},
   "outputs": [],
   "source": [
    "del d        # 删除整个 Dictionary ，该变量 d 将不存在 、未定义"
   ]
  },
  {
   "cell_type": "markdown",
   "id": "b3e5689a",
   "metadata": {},
   "source": [
    "## 清空"
   ]
  },
  {
   "cell_type": "code",
   "execution_count": 79,
   "id": "75e4c5b3",
   "metadata": {},
   "outputs": [
    {
     "name": "stdout",
     "output_type": "stream",
     "text": [
      "{}\n"
     ]
    }
   ],
   "source": [
    "d = {1 : 'a' , 2 : 'b' , 3 : 'c'}\n",
    "d.clear()\n",
    "print(d)"
   ]
  },
  {
   "cell_type": "markdown",
   "id": "032acecf",
   "metadata": {},
   "source": [
    "## 遍历"
   ]
  },
  {
   "cell_type": "markdown",
   "id": "6bd3ca47",
   "metadata": {},
   "source": [
    "### List 的形式返回全部键"
   ]
  },
  {
   "cell_type": "code",
   "execution_count": 80,
   "id": "ab2c4926",
   "metadata": {},
   "outputs": [
    {
     "name": "stdout",
     "output_type": "stream",
     "text": [
      "<class 'list'>\n",
      "[1, '2', 3]\n"
     ]
    }
   ],
   "source": [
    "d = {1 : 'xxx' , '2' : [0 , '3.14'] , 3 : (1 , )}\n",
    "\n",
    "keyList = list(d.keys())\n",
    "print(type(keyList))\n",
    "print(keyList)"
   ]
  },
  {
   "cell_type": "markdown",
   "id": "678c365c",
   "metadata": {},
   "source": [
    "### List 的形式返回全部值"
   ]
  },
  {
   "cell_type": "code",
   "execution_count": 81,
   "id": "d0a773b4",
   "metadata": {},
   "outputs": [
    {
     "name": "stdout",
     "output_type": "stream",
     "text": [
      "<class 'list'>\n",
      "['xxx', [0, '3.14'], (1,)]\n"
     ]
    }
   ],
   "source": [
    "d = {1 : 'xxx' , '2' : [0 , '3.14'] , 3 : (1 , )}\n",
    "\n",
    "valueList = list(d.values())\n",
    "print(type(valueList))\n",
    "print(valueList)"
   ]
  },
  {
   "cell_type": "markdown",
   "id": "6a555d74",
   "metadata": {},
   "source": [
    "### 用于 `for` 循环"
   ]
  },
  {
   "cell_type": "code",
   "execution_count": 82,
   "id": "0bef7a90",
   "metadata": {},
   "outputs": [],
   "source": [
    "d = {1 : 'xxx' , '222' : [0 , '3.14'] , 3 : (1 , )}"
   ]
  },
  {
   "cell_type": "code",
   "execution_count": 83,
   "id": "048adbfd",
   "metadata": {},
   "outputs": [
    {
     "name": "stdout",
     "output_type": "stream",
     "text": [
      "1     xxx\n",
      "222   [0, '3.14']\n",
      "3     (1,)\n"
     ]
    }
   ],
   "source": [
    "for key , value in d.items():\n",
    "    print(f'{key:<3}   {value}')"
   ]
  },
  {
   "cell_type": "code",
   "execution_count": 84,
   "id": "a0d8fd80",
   "metadata": {},
   "outputs": [
    {
     "name": "stdout",
     "output_type": "stream",
     "text": [
      "<class 'tuple'> : (1, 'xxx')\n",
      "<class 'tuple'> : ('222', [0, '3.14'])\n",
      "<class 'tuple'> : (3, (1,))\n"
     ]
    }
   ],
   "source": [
    "for item in d.items():\n",
    "    print(f'{type(item)} : {item}')"
   ]
  },
  {
   "cell_type": "markdown",
   "id": "10810644",
   "metadata": {},
   "source": [
    "## 布尔作为 `key`\n",
    ">- True  == 1\n",
    ">- False == 0"
   ]
  },
  {
   "cell_type": "code",
   "execution_count": 85,
   "id": "82669a13",
   "metadata": {},
   "outputs": [
    {
     "name": "stdout",
     "output_type": "stream",
     "text": [
      "{True: 'xxx', False: 'yyy'}\n"
     ]
    }
   ],
   "source": [
    "d = {True : 'xxx' , False : 'yyy'}\n",
    "print(d)"
   ]
  },
  {
   "cell_type": "code",
   "execution_count": 86,
   "id": "1d56795f",
   "metadata": {},
   "outputs": [
    {
     "name": "stdout",
     "output_type": "stream",
     "text": [
      "{True: 'x', False: 'y'}\n"
     ]
    }
   ],
   "source": [
    "d[True] = 'x'\n",
    "d[False] = 'y'\n",
    "print(d)"
   ]
  },
  {
   "cell_type": "code",
   "execution_count": 87,
   "id": "757a9e41",
   "metadata": {},
   "outputs": [
    {
     "name": "stdout",
     "output_type": "stream",
     "text": [
      "{True: 111, False: 222}\n"
     ]
    }
   ],
   "source": [
    "d[1] = 111\n",
    "d[0] = 222\n",
    "print(d)"
   ]
  },
  {
   "cell_type": "markdown",
   "id": "5cf249b7",
   "metadata": {},
   "source": [
    "# `for` 循环\n",
    ">- for `i,j,...` in `List 、Tuple 、String 、Dictionary 、range`"
   ]
  },
  {
   "cell_type": "code",
   "execution_count": 88,
   "id": "4fad98f9",
   "metadata": {},
   "outputs": [
    {
     "name": "stdout",
     "output_type": "stream",
     "text": [
      "1      X      3    \n",
      "False  3.14   True \n",
      "a      -99    c    \n",
      "\n"
     ]
    }
   ],
   "source": [
    "L = [(1 , 'X' , 3) , [False , 3.14 , True] , ('a' , -99 , 'c')]\n",
    "for a, b, c in L:\n",
    "    print(f'{str(a):5s}  {str(b):5s}  {str(c):5s}')\n",
    "print()"
   ]
  },
  {
   "cell_type": "markdown",
   "id": "166ce482",
   "metadata": {},
   "source": [
    "## range(start , end , step)\n",
    ">- 返回一个可迭代对象 [start , end) ，通常用于 for 循环中\n",
    ">  - start 默认为 0 ，包括\n",
    ">  - end 不可省略，不包括\n",
    ">  - step 默认为 1\n",
    ">  - 三个参数必须为整数"
   ]
  },
  {
   "cell_type": "code",
   "execution_count": 89,
   "id": "57349955",
   "metadata": {},
   "outputs": [
    {
     "name": "stdout",
     "output_type": "stream",
     "text": [
      "[0, 1, 2, 3, 4]\n"
     ]
    }
   ],
   "source": [
    "print([i for i in range(5)])"
   ]
  },
  {
   "cell_type": "code",
   "execution_count": 90,
   "id": "3dffb1ee",
   "metadata": {},
   "outputs": [
    {
     "name": "stdout",
     "output_type": "stream",
     "text": [
      "[1]\n"
     ]
    }
   ],
   "source": [
    "print([i for i in range(1 , 5 , 4)])"
   ]
  },
  {
   "cell_type": "code",
   "execution_count": 91,
   "id": "8c77bb46",
   "metadata": {},
   "outputs": [
    {
     "name": "stdout",
     "output_type": "stream",
     "text": [
      "0 * 0 == 0\n",
      "1 * 1 == 1\n",
      "2 * 2 == 4\n"
     ]
    }
   ],
   "source": [
    "for i in range(3):\n",
    "    print(f'{i} * {i} == {i * i}')"
   ]
  },
  {
   "cell_type": "code",
   "execution_count": 92,
   "id": "633a1e32",
   "metadata": {
    "scrolled": true
   },
   "outputs": [
    {
     "name": "stdout",
     "output_type": "stream",
     "text": [
      "[]\n",
      "[1, 0, -1, -2, -3, -4]\n",
      "[-1, -4]\n"
     ]
    }
   ],
   "source": [
    "print([i for i in range(1 , -5 , 1)])       # 依据 step 不能从 start 走向 end ，得到空\n",
    "print([i for i in range(1 , -5 , -1)])\n",
    "print([i for i in range(-1 , -5 , -3)])"
   ]
  },
  {
   "cell_type": "markdown",
   "id": "279af484",
   "metadata": {},
   "source": [
    "## `zip()`\n",
    ">- 一系列可迭代对象 => List [Tuple , Tuple , ...]\n",
    ">- 第 i 个 tuple 包含每个可迭代对象的第 i 个元素"
   ]
  },
  {
   "cell_type": "code",
   "execution_count": 93,
   "id": "0d4c2ede",
   "metadata": {},
   "outputs": [
    {
     "name": "stdout",
     "output_type": "stream",
     "text": [
      "<class 'zip'>\n"
     ]
    }
   ],
   "source": [
    "L = [1 , 2 , 3]                    # 最短参数\n",
    "T = ('x' , 'y' , 'z' , 'k')\n",
    "S = '深度学习入门'\n",
    "\n",
    "Z = zip(L , T , S , range(80 , 100 , 5))\n",
    "print(type(Z))"
   ]
  },
  {
   "cell_type": "code",
   "execution_count": 94,
   "id": "c638e8d3",
   "metadata": {},
   "outputs": [
    {
     "name": "stdout",
     "output_type": "stream",
     "text": [
      "1 x 深 80\n",
      "2 y 度 85\n",
      "3 z 学 90\n"
     ]
    }
   ],
   "source": [
    "for a, b, c, d in Z:              # 只能使用一次\n",
    "    print(a , b , c , d)"
   ]
  },
  {
   "cell_type": "code",
   "execution_count": 95,
   "id": "f82979f3",
   "metadata": {},
   "outputs": [
    {
     "name": "stdout",
     "output_type": "stream",
     "text": [
      "<class 'zip'>\n"
     ]
    }
   ],
   "source": [
    "L = [1 , 2 , 3]                   # 最短参数\n",
    "T = ('x' , 'y' , 'z' , 'k')\n",
    "S = '深度学习入门'\n",
    "\n",
    "Z = zip(L , T , S , range(80 , 100 , 5))\n",
    "print(type(Z))"
   ]
  },
  {
   "cell_type": "code",
   "execution_count": 96,
   "id": "99fff31d",
   "metadata": {},
   "outputs": [
    {
     "name": "stdout",
     "output_type": "stream",
     "text": [
      "3\n",
      "[(1, 'x', '深', 80), (2, 'y', '度', 85), (3, 'z', '学', 90)]\n"
     ]
    }
   ],
   "source": [
    "Z = list(Z)                       # 转换为 List 方便多次使用\n",
    "print(len(Z))\n",
    "print(Z)"
   ]
  },
  {
   "cell_type": "markdown",
   "id": "abaa04b0",
   "metadata": {},
   "source": [
    "### 解码"
   ]
  },
  {
   "cell_type": "code",
   "execution_count": 97,
   "id": "221714b5",
   "metadata": {},
   "outputs": [],
   "source": [
    "Z = zip([1 , 2] , ('x' , 'y' , 'z'))\n",
    "L , T = zip(*Z)"
   ]
  },
  {
   "cell_type": "code",
   "execution_count": 98,
   "id": "3615bf5b",
   "metadata": {},
   "outputs": [
    {
     "name": "stdout",
     "output_type": "stream",
     "text": [
      "<class 'tuple'> (1, 2)\n",
      "<class 'tuple'> ('x', 'y')\n"
     ]
    }
   ],
   "source": [
    "# 解码都为 tuple\n",
    "print(type(L) , L)\n",
    "print(type(T) , T)"
   ]
  },
  {
   "cell_type": "markdown",
   "id": "bbe85b1a",
   "metadata": {},
   "source": [
    "### 生成字典"
   ]
  },
  {
   "cell_type": "code",
   "execution_count": 99,
   "id": "9c258df4",
   "metadata": {},
   "outputs": [
    {
     "name": "stdout",
     "output_type": "stream",
     "text": [
      "{1: 'yyy', 'x': (5, 9), 3: [99, 88, 77], False: 'x'}\n"
     ]
    }
   ],
   "source": [
    "keyL = [1 , 'x' , 3 , False , True]                         # 作为键 True = 1\n",
    "valT = (True , (5 , 9) , [99 , 88 , 77] , 'x' , 'yyy')\n",
    "d = dict(zip(keyL , valT))\n",
    "print(d)"
   ]
  },
  {
   "cell_type": "markdown",
   "id": "11a926ab",
   "metadata": {},
   "source": [
    "## 循环生成器\n",
    ">- [i for i in ...] --> List\n",
    ">- (i for i in ...) --> generator（只能使用一次）"
   ]
  },
  {
   "cell_type": "code",
   "execution_count": 100,
   "id": "92d9fea7",
   "metadata": {},
   "outputs": [
    {
     "name": "stdout",
     "output_type": "stream",
     "text": [
      "<class 'generator'>\n",
      "(0, 1, 2, 3, 4)\n",
      "[]\n"
     ]
    }
   ],
   "source": [
    "gen = (i for i in range(5))\n",
    "print(type(gen))\n",
    "\n",
    "tup = tuple(gen)    # 只能使用一次，gen --> Tuple\n",
    "print(tup)\n",
    "\n",
    "L = list(gen)\n",
    "print(L)"
   ]
  },
  {
   "cell_type": "code",
   "execution_count": 101,
   "id": "a79276db",
   "metadata": {},
   "outputs": [
    {
     "name": "stdout",
     "output_type": "stream",
     "text": [
      "<class 'generator'>\n",
      "[1, 2.0, True, (3, 3, 3)]\n",
      "()\n"
     ]
    }
   ],
   "source": [
    "gen = (i for i in [1 , 2. , True , (3 , 3 , 3)])\n",
    "print(type(gen))\n",
    "\n",
    "L = list(gen)    # 只能使用一次，gen --> List\n",
    "print(L)\n",
    "\n",
    "tup = tuple(gen)\n",
    "print(tup)"
   ]
  }
 ],
 "metadata": {
  "kernelspec": {
   "display_name": "MathBert",
   "language": "python",
   "name": "mathbert"
  },
  "language_info": {
   "codemirror_mode": {
    "name": "ipython",
    "version": 3
   },
   "file_extension": ".py",
   "mimetype": "text/x-python",
   "name": "python",
   "nbconvert_exporter": "python",
   "pygments_lexer": "ipython3",
   "version": "3.9.12"
  },
  "toc": {
   "base_numbering": 1,
   "nav_menu": {},
   "number_sections": false,
   "sideBar": true,
   "skip_h1_title": false,
   "title_cell": "Table of Contents",
   "title_sidebar": "Contents",
   "toc_cell": false,
   "toc_position": {
    "height": "calc(100% - 180px)",
    "left": "10px",
    "top": "150px",
    "width": "241.938px"
   },
   "toc_section_display": true,
   "toc_window_display": true
  }
 },
 "nbformat": 4,
 "nbformat_minor": 5
}
