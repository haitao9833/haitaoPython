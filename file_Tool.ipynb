{
 "cells": [
  {
   "cell_type": "markdown",
   "id": "cc1de734",
   "metadata": {},
   "source": [
    "# 默认代码\n",
    ">- `filePath` 需要带文件后缀 `.txt` 或 `.xlsx` 或 `.json`\n",
    ">- 除了读取操作，其他任何操作都不要在打开文件的情况下进行"
   ]
  },
  {
   "cell_type": "code",
   "execution_count": null,
   "id": "8f1a94e7",
   "metadata": {},
   "outputs": [],
   "source": [
    "# 导入形式\n",
    "\n",
    "# %%capture\n",
    "# %run \"file_Tool.ipynb\""
   ]
  },
  {
   "cell_type": "code",
   "execution_count": null,
   "id": "5aa7e6be",
   "metadata": {},
   "outputs": [],
   "source": [
    "# 只要导入了 file_Tool.ipynb ，则不再需要重复导入这些包\n",
    "\n",
    "import warnings\n",
    "warnings.filterwarnings('ignore')\n",
    "\n",
    "from IPython.display import display\n",
    "\n",
    "import os\n",
    "import numpy as np\n",
    "import pandas as pd"
   ]
  },
  {
   "cell_type": "markdown",
   "id": "7f6d18e3",
   "metadata": {},
   "source": [
    "# Text\n",
    ">- `DataFrame` $\\Leftrightarrow$ `.txt` 文件"
   ]
  },
  {
   "cell_type": "markdown",
   "id": "658718e9",
   "metadata": {},
   "source": [
    "## 写入\n",
    ">- 将 `List` 元素一行一行地写入 `.txt` 文件"
   ]
  },
  {
   "cell_type": "code",
   "execution_count": null,
   "id": "d7820ced",
   "metadata": {},
   "outputs": [],
   "source": [
    "# .txt 文件不存在：自动创建，并写入\n",
    "# .txt 文件存在时：直接覆盖\n",
    "\n",
    "def cover_txt(lines , filePath):\n",
    "    \n",
    "    # 判断文件是否存在\n",
    "    E = os.path.exists(filePath)\n",
    "    \n",
    "    with open(filePath , 'w' , encoding = 'utf-8') as file:\n",
    "        for line in lines:\n",
    "            file.write(str(line))\n",
    "            file.write('\\n')\n",
    "    \n",
    "    if E:\n",
    "        print(f\"文件存在，直接覆盖 '{filePath}'\")\n",
    "    else:\n",
    "        print(f\"文件不存在，自动创建，并写入 '{filePath}'\")"
   ]
  },
  {
   "cell_type": "code",
   "execution_count": null,
   "id": "7a108858",
   "metadata": {},
   "outputs": [],
   "source": [
    "# .txt 文件不存在：自动创建，并写入\n",
    "# .txt 文件存在时：末尾追加\n",
    "\n",
    "def append_txt(lines , filePath):\n",
    "    \n",
    "    # 判断文件是否存在\n",
    "    E = os.path.exists(filePath)\n",
    "    \n",
    "    with open(filePath , 'a' , encoding = 'utf-8') as file:\n",
    "        \n",
    "        # 存在\n",
    "        if E:\n",
    "            file.write('\\n-----追加-----\\n')\n",
    "            \n",
    "        for line in lines:\n",
    "            file.write(str(line))\n",
    "            file.write('\\n')\n",
    "    \n",
    "    if E:\n",
    "        print(f\"文件存在，末尾追加 '{filePath}'\")\n",
    "    else:\n",
    "        print(f\"文件不存在，自动创建，并写入 '{filePath}'\")"
   ]
  },
  {
   "cell_type": "markdown",
   "id": "19f15729",
   "metadata": {},
   "source": [
    "## 读取\n",
    ">- `.txt` 文件必须已经存在"
   ]
  },
  {
   "cell_type": "code",
   "execution_count": null,
   "id": "4a318a34",
   "metadata": {},
   "outputs": [],
   "source": [
    "# 返回 lines == ['第一行' , '第二行' , '第三行' , ...]\n",
    "\n",
    "def read_txt(filePath):\n",
    "    \n",
    "    # 判断文件是否存在\n",
    "    E = os.path.exists(filePath)\n",
    "    \n",
    "    if E:\n",
    "        with open(filePath , 'r' , encoding = 'utf-8') as file:\n",
    "            lines = file.readlines()\n",
    "            lines = [line.strip() for line in lines]                       # 去除每一行首尾的：空白 + \\n + \\r + \\t\n",
    "            lines = [line for line in lines if (len(line) != 0)]           # 去除空字符串\n",
    "            lines = [line for line in lines if (line.isspace() != True)]   # 去除空白行\n",
    "            return lines\n",
    "    else:\n",
    "        print(f\"指定的文件 '{filePath}' 不存在！！！\")"
   ]
  },
  {
   "cell_type": "markdown",
   "id": "d5608f1b",
   "metadata": {},
   "source": [
    "# Excel\n",
    ">- `DataFrame` $\\Leftrightarrow$ `.xlsx` 文件"
   ]
  },
  {
   "cell_type": "code",
   "execution_count": null,
   "id": "7553a932",
   "metadata": {},
   "outputs": [],
   "source": [
    "import openpyxl"
   ]
  },
  {
   "cell_type": "markdown",
   "id": "d7d8bc13",
   "metadata": {},
   "source": [
    "## 单 sheet\n",
    ">- 注意：`List`  ==>  存储  ==>  Excel  ==>  读取  ==> `String`（详见 `file_Tool_Test.ipynb`）"
   ]
  },
  {
   "cell_type": "code",
   "execution_count": null,
   "id": "8e3b9cdc",
   "metadata": {},
   "outputs": [],
   "source": [
    "# .xlsx 文件不存在：自动创建，并写入（sheetName 默认命名为 Sheet1）\n",
    "# .xlsx 文件存在时：直接覆盖（多个原先的 sheet 会被全部删除，仅有一个覆盖后的 Sheet1）\n",
    "\n",
    "def save_ex(data , filePath):\n",
    "    \n",
    "    # 判断文件是否存在\n",
    "    E = os.path.exists(filePath)\n",
    "    \n",
    "    # 修改 data 的行索引名称，方便下面保存为一列数据\n",
    "    data.index.name = 'Index'\n",
    "    \n",
    "    # index = True 表明将 data 的行索引也作为一列数据保存，方便到时候 data = data.set_index('Index') 重置行索引\n",
    "    data.to_excel(filePath , index = True)\n",
    "    \n",
    "    if E:\n",
    "        print(f\"文件存在，直接覆盖 '{filePath}'\")\n",
    "    else:\n",
    "        print(f\"文件不存在，自动创建，并写入 '{filePath}'\")"
   ]
  },
  {
   "cell_type": "code",
   "execution_count": null,
   "id": "d232e52f",
   "metadata": {},
   "outputs": [],
   "source": [
    "# 也可用于读取多 sheet 的 .xlsx 文件，默认仅读取第一个 sheet\n",
    "\n",
    "def read_ex(filePath):\n",
    "    \n",
    "    # 判断文件是否存在\n",
    "    E = os.path.exists(filePath)\n",
    "    \n",
    "    if E:\n",
    "        res = pd.read_excel(filePath)\n",
    "        return res\n",
    "    else:\n",
    "        print(f\"指定的文件 '{filePath}' 不存在！！！\")"
   ]
  },
  {
   "cell_type": "markdown",
   "id": "9d0a962a",
   "metadata": {},
   "source": [
    "## 多 sheet\n",
    ">- 仅读取"
   ]
  },
  {
   "cell_type": "code",
   "execution_count": null,
   "id": "3dffd770",
   "metadata": {},
   "outputs": [],
   "source": [
    "# 返回所有 sheetName 组成的 List\n",
    "\n",
    "def read_all_sheets(filePath):\n",
    "    \n",
    "    # 判断文件是否存在\n",
    "    E = os.path.exists(filePath)\n",
    "    \n",
    "    if E:\n",
    "        return openpyxl.load_workbook(filePath).sheetnames\n",
    "    else:\n",
    "        print(f\"指定的文件 '{filePath}' 不存在！！！\")"
   ]
  },
  {
   "cell_type": "code",
   "execution_count": null,
   "id": "0a261cf4",
   "metadata": {},
   "outputs": [],
   "source": [
    "# 读取指定的 sheetName ，单 sheetName 也适用\n",
    "\n",
    "def read_ex_sheet(filePath , sheetName):\n",
    "    \n",
    "    # 判断文件是否存在\n",
    "    E = os.path.exists(filePath)\n",
    "    \n",
    "    if E:\n",
    "        res = pd.read_excel(filePath , sheetName)\n",
    "        return res\n",
    "    else:\n",
    "        print(f\"指定的文件 '{filePath}' 不存在！！！\")"
   ]
  },
  {
   "cell_type": "markdown",
   "id": "350b6908",
   "metadata": {},
   "source": [
    "# Json\n",
    ">- `DataFrame` $\\Leftrightarrow$ `.json` 文件\n",
    ">  - 最外面是 `[]`\n",
    ">  - 里面一个一个是 `{}, ...`\n",
    ">  - 再里面一个一个是 `\"key\" : \"value\", ...`\n",
    ">  - 若 `value` 是数值或 `List` ，则没有双引号 `\"` 括起来\n",
    ">- `orient = 'records'`\n",
    ">  - `DataFrame` 的一行  ==  一个 `{}`\n",
    ">  - 不包括行索引 index\n",
    ">- 注意一：`List`  ==>  存储  ==>  JSON  ==>  读取  ==> `List`（区别于上述的 Eecel）\n",
    ">- 注意二：存储的字符串带有 `/` 时，会在 `.json` 文件中显示为 `\\/`"
   ]
  },
  {
   "cell_type": "code",
   "execution_count": null,
   "id": "2ffa1312",
   "metadata": {},
   "outputs": [],
   "source": [
    "# 直接覆盖\n",
    "\n",
    "def save_json(data , filePath):\n",
    "    \n",
    "    # 判断文件是否存在\n",
    "    E = os.path.exists(filePath)\n",
    "    \n",
    "    # 设置参数 force_ascii = False 确保中文不乱码\n",
    "    data.to_json(filePath , orient = 'records' , force_ascii = False)\n",
    "    \n",
    "    if E:\n",
    "        print(f\"文件存在，直接覆盖 '{filePath}'\")\n",
    "    else:\n",
    "        print(f\"文件不存在，自动创建，并写入 '{filePath}'\")"
   ]
  },
  {
   "cell_type": "code",
   "execution_count": null,
   "id": "f3582bb9",
   "metadata": {},
   "outputs": [],
   "source": [
    "def read_json(filePath):\n",
    "    \n",
    "    # 判断文件是否存在\n",
    "    E = os.path.exists(filePath)\n",
    "    \n",
    "    if E:\n",
    "        res = pd.read_json(filePath , orient = 'records')\n",
    "        return res\n",
    "    else:\n",
    "        print(f\"指定的文件 '{filePath}' 不存在！！！\")"
   ]
  },
  {
   "cell_type": "markdown",
   "id": "69fe4d71",
   "metadata": {},
   "source": [
    "# 属性\n",
    ">- `DataFrame` 每一列的数据类型，比单纯的 `data.dtypes` 要更加详细\n",
    ">- 详见 `README_Soft` 的 `WPS`"
   ]
  },
  {
   "cell_type": "code",
   "execution_count": null,
   "id": "6a4166ae",
   "metadata": {},
   "outputs": [],
   "source": [
    "def allCols(data):\n",
    "    \n",
    "    cols = data.columns.values\n",
    "    # print(f'{str(type(cols)):<25s}     {cols}')\n",
    "    # 所有列名组成的 numpy.ndarray\n",
    "    \n",
    "    print('-------------------------------------------------------------------')\n",
    "    \n",
    "    for c in cols:\n",
    "        print(f'{str(type(data.iloc[0][c])):>25s}     {c:<10s}')\n",
    "    \n",
    "    print('-------------------------------------------------------------------')\n",
    "    \n",
    "    return cols"
   ]
  }
 ],
 "metadata": {
  "kernelspec": {
   "display_name": "MathBert",
   "language": "python",
   "name": "mathbert"
  },
  "language_info": {
   "codemirror_mode": {
    "name": "ipython",
    "version": 3
   },
   "file_extension": ".py",
   "mimetype": "text/x-python",
   "name": "python",
   "nbconvert_exporter": "python",
   "pygments_lexer": "ipython3",
   "version": "3.9.12"
  },
  "toc": {
   "base_numbering": 1,
   "nav_menu": {},
   "number_sections": false,
   "sideBar": true,
   "skip_h1_title": false,
   "title_cell": "Table of Contents",
   "title_sidebar": "Contents",
   "toc_cell": false,
   "toc_position": {
    "height": "calc(100% - 180px)",
    "left": "10px",
    "top": "150px",
    "width": "177.781px"
   },
   "toc_section_display": true,
   "toc_window_display": true
  }
 },
 "nbformat": 4,
 "nbformat_minor": 5
}
