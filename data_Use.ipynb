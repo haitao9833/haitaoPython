{
 "cells": [
  {
   "cell_type": "markdown",
   "id": "891a1c0a",
   "metadata": {},
   "source": [
    "# 默认代码\n",
    ">- 一些细节语法 `+` 对 `data_Tool` 的测试"
   ]
  },
  {
   "cell_type": "code",
   "execution_count": 1,
   "id": "6b4e4906",
   "metadata": {},
   "outputs": [],
   "source": [
    "# %%capture\n",
    "# %run \"data_Tool.ipynb\""
   ]
  },
  {
   "cell_type": "code",
   "execution_count": 2,
   "id": "67cff2e4",
   "metadata": {},
   "outputs": [],
   "source": [
    "import numpy as np\n",
    "import pandas as pd"
   ]
  },
  {
   "cell_type": "markdown",
   "id": "57992ba1",
   "metadata": {},
   "source": [
    "# 系统"
   ]
  },
  {
   "cell_type": "code",
   "execution_count": 3,
   "id": "3bdf5738",
   "metadata": {},
   "outputs": [],
   "source": [
    "import os"
   ]
  },
  {
   "cell_type": "markdown",
   "id": "92bda6d1",
   "metadata": {},
   "source": [
    "## 路径"
   ]
  },
  {
   "cell_type": "code",
   "execution_count": 4,
   "id": "e7db40a4",
   "metadata": {},
   "outputs": [
    {
     "data": {
      "text/plain": [
       "'D:\\\\_Code\\\\MathBert'"
      ]
     },
     "execution_count": 4,
     "metadata": {},
     "output_type": "execute_result"
    }
   ],
   "source": [
    "os.getcwd()              # 当前 .ipynb 文件的工作目录（绝对路径前缀）"
   ]
  },
  {
   "cell_type": "code",
   "execution_count": 5,
   "id": "66c7e78f",
   "metadata": {},
   "outputs": [
    {
     "data": {
      "text/plain": [
       "'D:\\\\_Code\\\\MathBert'"
      ]
     },
     "execution_count": 5,
     "metadata": {},
     "output_type": "execute_result"
    }
   ],
   "source": [
    "os.path.abspath('.')     # 当前 .ipynb 文件的工作目录（绝对路径前缀）"
   ]
  },
  {
   "cell_type": "code",
   "execution_count": 6,
   "id": "848c55cf",
   "metadata": {},
   "outputs": [
    {
     "data": {
      "text/plain": [
       "['.ipynb_checkpoints',\n",
       " 'base_.ipynb',\n",
       " 'base_Numpy.ipynb',\n",
       " 'base_Pandas.ipynb',\n",
       " 'data',\n",
       " 'data_Tool.ipynb',\n",
       " 'data_Use.ipynb',\n",
       " 'Others',\n",
       " '_Basic',\n",
       " '___DATA']"
      ]
     },
     "execution_count": 6,
     "metadata": {},
     "output_type": "execute_result"
    }
   ],
   "source": [
    "os.listdir()             # 当前 .ipynb 文件工作目录下的所有文件（夹）"
   ]
  },
  {
   "cell_type": "markdown",
   "id": "6a780cf0",
   "metadata": {},
   "source": [
    "## 构建相对路径\n",
    ">- 相对于当前的 `.ipynb` 文件"
   ]
  },
  {
   "cell_type": "markdown",
   "id": "4e1d01f0",
   "metadata": {},
   "source": [
    "### 案例一"
   ]
  },
  {
   "cell_type": "code",
   "execution_count": 7,
   "id": "020ad5e6",
   "metadata": {},
   "outputs": [
    {
     "data": {
      "text/plain": [
       "'data\\\\Math23K.json'"
      ]
     },
     "execution_count": 7,
     "metadata": {},
     "output_type": "execute_result"
    }
   ],
   "source": [
    "# 构建相对路径\n",
    "\n",
    "rp = os.path.join('data' , 'Math23K.json')\n",
    "rp"
   ]
  },
  {
   "cell_type": "code",
   "execution_count": 8,
   "id": "8298b6b3",
   "metadata": {},
   "outputs": [
    {
     "data": {
      "text/plain": [
       "'D:\\\\_Code\\\\MathBert\\\\data\\\\Math23K.json'"
      ]
     },
     "execution_count": 8,
     "metadata": {},
     "output_type": "execute_result"
    }
   ],
   "source": [
    "# 获取该相对路径的绝对路径，即加上当前 .ipynb 文件的工作目录：D:\\\\_Code\\\\MathBert\n",
    "\n",
    "ap = os.path.abspath(rp)\n",
    "ap"
   ]
  },
  {
   "cell_type": "code",
   "execution_count": 9,
   "id": "3f30defc",
   "metadata": {},
   "outputs": [
    {
     "data": {
      "text/plain": [
       "(True, True)"
      ]
     },
     "execution_count": 9,
     "metadata": {},
     "output_type": "execute_result"
    }
   ],
   "source": [
    "# 路径是否存在\n",
    "\n",
    "os.path.exists(rp) , os.path.exists(ap)"
   ]
  },
  {
   "cell_type": "code",
   "execution_count": 10,
   "id": "5b17fa30",
   "metadata": {},
   "outputs": [
    {
     "data": {
      "text/plain": [
       "(True, False, True, False)"
      ]
     },
     "execution_count": 10,
     "metadata": {},
     "output_type": "execute_result"
    }
   ],
   "source": [
    "# 是文件还是文件夹\n",
    "\n",
    "os.path.isfile(rp) , os.path.isdir(rp) , os.path.isfile(ap) , os.path.isdir(ap)"
   ]
  },
  {
   "cell_type": "markdown",
   "id": "d2b7c5a3",
   "metadata": {},
   "source": [
    "### 案例二\n",
    ">- `.` 代表当前\n",
    ">- `..` 代表上一级"
   ]
  },
  {
   "cell_type": "code",
   "execution_count": 11,
   "id": "84d66ba3",
   "metadata": {},
   "outputs": [
    {
     "data": {
      "text/plain": [
       "'..\\\\.\\\\..\\\\.\\\\.\\\\.\\\\临时'"
      ]
     },
     "execution_count": 11,
     "metadata": {},
     "output_type": "execute_result"
    }
   ],
   "source": [
    "# 构建相对路径\n",
    "\n",
    "rp = os.path.join('..' , '.' , '..' , '.' , '.' , '.' , '临时')\n",
    "rp"
   ]
  },
  {
   "cell_type": "code",
   "execution_count": 12,
   "id": "f9190417",
   "metadata": {},
   "outputs": [
    {
     "data": {
      "text/plain": [
       "'D:\\\\临时'"
      ]
     },
     "execution_count": 12,
     "metadata": {},
     "output_type": "execute_result"
    }
   ],
   "source": [
    "# 获取该相对路径的绝对路径，即加上当前 .ipynb 文件的工作目录：D:\\\\_Code\\\\MathBert\n",
    "\n",
    "ap = os.path.abspath(rp)\n",
    "ap"
   ]
  },
  {
   "cell_type": "code",
   "execution_count": 13,
   "id": "e81ea6b0",
   "metadata": {},
   "outputs": [
    {
     "data": {
      "text/plain": [
       "(True, True)"
      ]
     },
     "execution_count": 13,
     "metadata": {},
     "output_type": "execute_result"
    }
   ],
   "source": [
    "# 路径是否存在\n",
    "\n",
    "os.path.exists(rp) , os.path.exists(ap)"
   ]
  },
  {
   "cell_type": "code",
   "execution_count": 14,
   "id": "dd336304",
   "metadata": {},
   "outputs": [
    {
     "data": {
      "text/plain": [
       "(False, True, False, True)"
      ]
     },
     "execution_count": 14,
     "metadata": {},
     "output_type": "execute_result"
    }
   ],
   "source": [
    "# 是文件还是文件夹\n",
    "\n",
    "os.path.isfile(rp) , os.path.isdir(rp) , os.path.isfile(ap) , os.path.isdir(ap)"
   ]
  },
  {
   "cell_type": "markdown",
   "id": "dd5a066e",
   "metadata": {},
   "source": [
    "## 路径字符串 `r'...'`\n",
    ">- 只需单个 `\\` 即可"
   ]
  },
  {
   "cell_type": "markdown",
   "id": "ccbaaba8",
   "metadata": {},
   "source": [
    "### 不转义"
   ]
  },
  {
   "cell_type": "code",
   "execution_count": 15,
   "id": "a63135dc",
   "metadata": {},
   "outputs": [
    {
     "name": "stdout",
     "output_type": "stream",
     "text": [
      "AA\n",
      "\tA\n",
      "BB\\n\\tB\n",
      "CC\\\\C\n",
      "DD\\\\\\\\D\n"
     ]
    }
   ],
   "source": [
    "print('AA\\n\\tA')\n",
    "print(r'BB\\n\\tB')\n",
    "print('CC\\\\\\\\C')\n",
    "print(r'DD\\\\\\\\D')"
   ]
  },
  {
   "cell_type": "markdown",
   "id": "2f00fefa",
   "metadata": {},
   "source": [
    "### 更方便"
   ]
  },
  {
   "cell_type": "code",
   "execution_count": 16,
   "id": "ee0dc7cb",
   "metadata": {},
   "outputs": [
    {
     "data": {
      "text/plain": [
       "(True, True, False)"
      ]
     },
     "execution_count": 16,
     "metadata": {},
     "output_type": "execute_result"
    }
   ],
   "source": [
    "# 相对路径写法\n",
    "\n",
    "rp = r'data\\Math23K.json'\n",
    "\n",
    "os.path.exists(rp) , os.path.isfile(rp) , os.path.isdir(rp) , "
   ]
  },
  {
   "cell_type": "code",
   "execution_count": 17,
   "id": "81b8c81f",
   "metadata": {},
   "outputs": [
    {
     "data": {
      "text/plain": [
       "(True, False, True)"
      ]
     },
     "execution_count": 17,
     "metadata": {},
     "output_type": "execute_result"
    }
   ],
   "source": [
    "# 绝对路径写法\n",
    "\n",
    "ap = r'D:\\临时'\n",
    "\n",
    "os.path.exists(ap) , os.path.isfile(ap) , os.path.isdir(ap)"
   ]
  },
  {
   "cell_type": "markdown",
   "id": "63ce01e1",
   "metadata": {},
   "source": [
    "# ------------------------------"
   ]
  },
  {
   "cell_type": "markdown",
   "id": "5ea71ba3",
   "metadata": {},
   "source": [
    "# 通用函数\n",
    ">- 遇到了再学，没必要死记硬背"
   ]
  },
  {
   "cell_type": "markdown",
   "id": "0af098b8",
   "metadata": {},
   "source": [
    "## isinstance\n",
    ">- 判断数据类型"
   ]
  },
  {
   "cell_type": "code",
   "execution_count": 1,
   "id": "14bd11d1",
   "metadata": {},
   "outputs": [
    {
     "data": {
      "text/plain": [
       "True"
      ]
     },
     "execution_count": 1,
     "metadata": {},
     "output_type": "execute_result"
    }
   ],
   "source": [
    "ttt = 123\n",
    "isinstance(ttt , int)"
   ]
  },
  {
   "cell_type": "code",
   "execution_count": 2,
   "id": "b91632f4",
   "metadata": {},
   "outputs": [
    {
     "data": {
      "text/plain": [
       "True"
      ]
     },
     "execution_count": 2,
     "metadata": {},
     "output_type": "execute_result"
    }
   ],
   "source": [
    "ttt = 1.23\n",
    "isinstance(ttt , float)"
   ]
  },
  {
   "cell_type": "code",
   "execution_count": 3,
   "id": "74a4e2ef",
   "metadata": {},
   "outputs": [
    {
     "data": {
      "text/plain": [
       "True"
      ]
     },
     "execution_count": 3,
     "metadata": {},
     "output_type": "execute_result"
    }
   ],
   "source": [
    "ttt = '123'\n",
    "isinstance(ttt , str)"
   ]
  },
  {
   "cell_type": "code",
   "execution_count": 4,
   "id": "4a32e4ff",
   "metadata": {},
   "outputs": [
    {
     "data": {
      "text/plain": [
       "True"
      ]
     },
     "execution_count": 4,
     "metadata": {},
     "output_type": "execute_result"
    }
   ],
   "source": [
    "ttt = [123]\n",
    "isinstance(ttt , list)"
   ]
  },
  {
   "cell_type": "code",
   "execution_count": 5,
   "id": "9cf24ba4",
   "metadata": {},
   "outputs": [
    {
     "data": {
      "text/plain": [
       "True"
      ]
     },
     "execution_count": 5,
     "metadata": {},
     "output_type": "execute_result"
    }
   ],
   "source": [
    "ttt = (123 , )\n",
    "isinstance(ttt , tuple)"
   ]
  },
  {
   "cell_type": "markdown",
   "id": "62fd42a1",
   "metadata": {},
   "source": [
    "## print"
   ]
  },
  {
   "cell_type": "code",
   "execution_count": 31,
   "id": "ea87e353",
   "metadata": {},
   "outputs": [
    {
     "name": "stdout",
     "output_type": "stream",
     "text": [
      "$abc       $\n",
      "$       abc$\n",
      "$   abc    $\n"
     ]
    }
   ],
   "source": [
    "word = 'abc'\n",
    "print(f'${word:<10s}$')\n",
    "print(f'${word:>10s}$')\n",
    "print(f'${word:^10s}$')"
   ]
  },
  {
   "cell_type": "code",
   "execution_count": 32,
   "id": "b260f4fc",
   "metadata": {},
   "outputs": [
    {
     "name": "stdout",
     "output_type": "stream",
     "text": [
      "$123       $\n",
      "$       123$\n",
      "$   123    $\n"
     ]
    }
   ],
   "source": [
    "num = 123\n",
    "print(f'${num:<10d}$')\n",
    "print(f'${num:>10d}$')\n",
    "print(f'${num:^10d}$')"
   ]
  },
  {
   "cell_type": "code",
   "execution_count": 33,
   "id": "6eca2dbd",
   "metadata": {},
   "outputs": [
    {
     "name": "stdout",
     "output_type": "stream",
     "text": [
      "$124       $\n",
      "$123.8     $\n",
      "$123.79    $\n",
      "$   123.789$\n",
      "$ 123.7890 $\n"
     ]
    }
   ],
   "source": [
    "# 整体宽度.四舍五入\n",
    "\n",
    "num = 123.789\n",
    "print(f'${num:<10.0f}$')\n",
    "print(f'${num:<10.1f}$')\n",
    "print(f'${num:<10.2f}$')\n",
    "print(f'${num:>10.3f}$')\n",
    "print(f'${num:^10.4f}$')"
   ]
  },
  {
   "cell_type": "code",
   "execution_count": 34,
   "id": "bfbc678e",
   "metadata": {},
   "outputs": [
    {
     "name": "stdout",
     "output_type": "stream",
     "text": [
      "$79%       $\n",
      "$79.0%     $\n",
      "$78.98%    $\n",
      "$   78.979%$\n",
      "$ 78.9789% $\n",
      "$78.97890% $\n"
     ]
    }
   ],
   "source": [
    "# % 百分数\n",
    "# 整体宽度.四舍五入\n",
    "\n",
    "num = 0.789789\n",
    "print(f'${num:<10.0%}$')\n",
    "print(f'${num:<10.1%}$')\n",
    "print(f'${num:<10.2%}$')\n",
    "print(f'${num:>10.3%}$')\n",
    "print(f'${num:^10.4%}$')\n",
    "print(f'${num:^10.5%}$')"
   ]
  },
  {
   "cell_type": "markdown",
   "id": "87362c1a",
   "metadata": {},
   "source": [
    "## format"
   ]
  },
  {
   "cell_type": "code",
   "execution_count": 43,
   "id": "6017afe4",
   "metadata": {},
   "outputs": [
    {
     "data": {
      "text/plain": [
       "'  56.79%  '"
      ]
     },
     "execution_count": 43,
     "metadata": {},
     "output_type": "execute_result"
    }
   ],
   "source": [
    "# 同上\n",
    "\n",
    "'{:^10.2%}'.format(0.56789)"
   ]
  },
  {
   "cell_type": "markdown",
   "id": "e3cb73fb",
   "metadata": {},
   "source": [
    "## round"
   ]
  },
  {
   "cell_type": "code",
   "execution_count": 42,
   "id": "80c94788",
   "metadata": {},
   "outputs": [
    {
     "data": {
      "text/plain": [
       "0.57"
      ]
     },
     "execution_count": 42,
     "metadata": {},
     "output_type": "execute_result"
    }
   ],
   "source": [
    "# 四舍五入\n",
    "\n",
    "round(0.56789 , 2)"
   ]
  },
  {
   "cell_type": "markdown",
   "id": "c4484aa9",
   "metadata": {},
   "source": [
    "## strip\n",
    ">- 删除首尾空白：' ' + '\\n' + '\\r' + '\\t'\n",
    ">- 也仅删除首尾的"
   ]
  },
  {
   "cell_type": "code",
   "execution_count": 58,
   "id": "7069b288",
   "metadata": {},
   "outputs": [
    {
     "data": {
      "text/plain": [
       "'X  X  X'"
      ]
     },
     "execution_count": 58,
     "metadata": {},
     "output_type": "execute_result"
    }
   ],
   "source": [
    "'\\n  \\r  \\t  X  X  X  \\n  \\r  \\t  '.strip()"
   ]
  },
  {
   "cell_type": "code",
   "execution_count": 59,
   "id": "d8cd5364",
   "metadata": {},
   "outputs": [
    {
     "data": {
      "text/plain": [
       "' \\n  \\r  \\t  X X X  \\n  \\r  \\t  \\n '"
      ]
     },
     "execution_count": 59,
     "metadata": {},
     "output_type": "execute_result"
    }
   ],
   "source": [
    "'\\n\\n\\n\\n \\n  \\r  \\t  X X X  \\n  \\r  \\t  \\n \\n\\n\\n\\n'.strip('\\n')"
   ]
  },
  {
   "cell_type": "code",
   "execution_count": 60,
   "id": "f19d40fe",
   "metadata": {},
   "outputs": [
    {
     "data": {
      "text/plain": [
       "'414'"
      ]
     },
     "execution_count": 60,
     "metadata": {},
     "output_type": "execute_result"
    }
   ],
   "source": [
    "'31212323414132232121'.strip('123')    # '1' or '2' or '3' 都会删除"
   ]
  },
  {
   "cell_type": "markdown",
   "id": "b031afd0",
   "metadata": {},
   "source": [
    "## isspace\n",
    ">- 判断内容空白：' ' + '\\n' + '\\r' + '\\t'"
   ]
  },
  {
   "cell_type": "code",
   "execution_count": 61,
   "id": "89228379",
   "metadata": {},
   "outputs": [
    {
     "data": {
      "text/plain": [
       "True"
      ]
     },
     "execution_count": 61,
     "metadata": {},
     "output_type": "execute_result"
    }
   ],
   "source": [
    "'  \\n  \\r  \\t  \\n  \\r  \\t  '.isspace()"
   ]
  },
  {
   "cell_type": "code",
   "execution_count": 62,
   "id": "6d4b18cd",
   "metadata": {},
   "outputs": [
    {
     "data": {
      "text/plain": [
       "True"
      ]
     },
     "execution_count": 62,
     "metadata": {},
     "output_type": "execute_result"
    }
   ],
   "source": [
    "'   '.isspace()"
   ]
  },
  {
   "cell_type": "code",
   "execution_count": 63,
   "id": "ce4561f6",
   "metadata": {},
   "outputs": [
    {
     "data": {
      "text/plain": [
       "False"
      ]
     },
     "execution_count": 63,
     "metadata": {},
     "output_type": "execute_result"
    }
   ],
   "source": [
    "''.isspace()      # 空字符串返回 False"
   ]
  },
  {
   "cell_type": "markdown",
   "id": "2801ae61",
   "metadata": {},
   "source": [
    "## split\n",
    ">- String  ==>  List\n",
    ">- 可以理解为遇到了，就在此处切一刀"
   ]
  },
  {
   "cell_type": "code",
   "execution_count": 86,
   "id": "9ae9505f",
   "metadata": {},
   "outputs": [
    {
     "data": {
      "text/plain": [
       "['1', '2', '34', '5']"
      ]
     },
     "execution_count": 86,
     "metadata": {},
     "output_type": "execute_result"
    }
   ],
   "source": [
    "# 无参数\n",
    "# 默认连续的空格 、\\r 、\\n 、\\t 为分隔符\n",
    "# 且首尾不会切分出 '' 空字符串\n",
    "\n",
    "'   \\n    1\\r2   \\t   34   \\r  \\t  \\n          5    '.split()"
   ]
  },
  {
   "cell_type": "code",
   "execution_count": 87,
   "id": "eceb06d3",
   "metadata": {},
   "outputs": [
    {
     "data": {
      "text/plain": [
       "['1233345']"
      ]
     },
     "execution_count": 87,
     "metadata": {},
     "output_type": "execute_result"
    }
   ],
   "source": [
    "# 没遇到分隔符就不切分\n",
    "\n",
    "'1233345'.split('6')"
   ]
  },
  {
   "cell_type": "code",
   "execution_count": 88,
   "id": "436e9c7c",
   "metadata": {},
   "outputs": [
    {
     "data": {
      "text/plain": [
       "['12', '', '', '45']"
      ]
     },
     "execution_count": 88,
     "metadata": {},
     "output_type": "execute_result"
    }
   ],
   "source": [
    "# 连续的分隔符之间分隔出 '' 空字符串\n",
    "\n",
    "'1233345'.split('3')"
   ]
  },
  {
   "cell_type": "code",
   "execution_count": 89,
   "id": "d13afc4b",
   "metadata": {},
   "outputs": [
    {
     "data": {
      "text/plain": [
       "['', '12   ', '', ' 3 ', '']"
      ]
     },
     "execution_count": 89,
     "metadata": {},
     "output_type": "execute_result"
    }
   ],
   "source": [
    "# 指定空白参数\n",
    "# 首尾也分隔出 '' 空字符串\n",
    "\n",
    "'\\n12   \\n\\n 3 \\n'.split('\\n')"
   ]
  },
  {
   "cell_type": "markdown",
   "id": "91c7d14d",
   "metadata": {},
   "source": [
    "## replace\n",
    ">- 默认全部替换\n",
    ">- 不改变原来的 `src`"
   ]
  },
  {
   "cell_type": "code",
   "execution_count": 90,
   "id": "9227ee54",
   "metadata": {},
   "outputs": [],
   "source": [
    "src = 'My Your My Your My'"
   ]
  },
  {
   "cell_type": "code",
   "execution_count": 91,
   "id": "6a5b6b82",
   "metadata": {},
   "outputs": [
    {
     "name": "stdout",
     "output_type": "stream",
     "text": [
      "My Your My Your My\n",
      "me Your me Your me\n"
     ]
    }
   ],
   "source": [
    "print(src)\n",
    "print(src.replace('My' , 'me'))"
   ]
  },
  {
   "cell_type": "code",
   "execution_count": 92,
   "id": "bf2ba102",
   "metadata": {},
   "outputs": [
    {
     "name": "stdout",
     "output_type": "stream",
     "text": [
      "My Your My Your My\n",
      "me Your My Your My\n"
     ]
    }
   ],
   "source": [
    "# 从左到右数，替换 1 次\n",
    "\n",
    "print(src)\n",
    "print(src.replace('My' , 'me' , 1))"
   ]
  },
  {
   "cell_type": "code",
   "execution_count": 93,
   "id": "3d54f48b",
   "metadata": {},
   "outputs": [
    {
     "name": "stdout",
     "output_type": "stream",
     "text": [
      "My Your My Your My\n",
      "me Your me Your My\n"
     ]
    }
   ],
   "source": [
    "# 从左到右数，替换 2 次\n",
    "\n",
    "print(src)\n",
    "print(src.replace('My' , 'me' , 2))"
   ]
  },
  {
   "cell_type": "markdown",
   "id": "bc9acfed",
   "metadata": {},
   "source": [
    "## count\n",
    ">- 指定子串的个数"
   ]
  },
  {
   "cell_type": "code",
   "execution_count": 94,
   "id": "c325babd",
   "metadata": {},
   "outputs": [
    {
     "data": {
      "text/plain": [
       "3"
      ]
     },
     "execution_count": 94,
     "metadata": {},
     "output_type": "execute_result"
    }
   ],
   "source": [
    "'1 2 1 2 1\\n 2 \\t'.count('1')"
   ]
  },
  {
   "cell_type": "code",
   "execution_count": 95,
   "id": "f9ddf4e3",
   "metadata": {},
   "outputs": [
    {
     "data": {
      "text/plain": [
       "2"
      ]
     },
     "execution_count": 95,
     "metadata": {},
     "output_type": "execute_result"
    }
   ],
   "source": [
    "'1 2 1 2 1\\n 2 \\t'.count(' 1')"
   ]
  },
  {
   "cell_type": "code",
   "execution_count": 96,
   "id": "02b47be9",
   "metadata": {},
   "outputs": [
    {
     "data": {
      "text/plain": [
       "1"
      ]
     },
     "execution_count": 96,
     "metadata": {},
     "output_type": "execute_result"
    }
   ],
   "source": [
    "'1 2 1 2 1\\n 2 \\t'.count(' 1\\n ')"
   ]
  },
  {
   "cell_type": "code",
   "execution_count": 97,
   "id": "341e48ad",
   "metadata": {},
   "outputs": [
    {
     "data": {
      "text/plain": [
       "2"
      ]
     },
     "execution_count": 97,
     "metadata": {},
     "output_type": "execute_result"
    }
   ],
   "source": [
    "'1 2 1 2 1\\n 2 \\t'.count('2 1')"
   ]
  },
  {
   "cell_type": "code",
   "execution_count": 98,
   "id": "62c0d20c",
   "metadata": {},
   "outputs": [
    {
     "data": {
      "text/plain": [
       "1"
      ]
     },
     "execution_count": 98,
     "metadata": {},
     "output_type": "execute_result"
    }
   ],
   "source": [
    "'1 2 1 2 1\\n 2 \\t'.count('2 1\\n')"
   ]
  },
  {
   "cell_type": "code",
   "execution_count": 99,
   "id": "e23ec28c",
   "metadata": {},
   "outputs": [
    {
     "data": {
      "text/plain": [
       "1"
      ]
     },
     "execution_count": 99,
     "metadata": {},
     "output_type": "execute_result"
    }
   ],
   "source": [
    "'1 2 1 2 1\\n 2 \\t'.count('2 \\t')"
   ]
  },
  {
   "cell_type": "markdown",
   "id": "99443951",
   "metadata": {},
   "source": [
    "## Map\n",
    ">- map(function , iterable)\n",
    ">- 对 iterable 中的每个元素依次调用 function 函数\n",
    ">- 不影响原来的 `iterable`"
   ]
  },
  {
   "cell_type": "code",
   "execution_count": 100,
   "id": "3408c08d",
   "metadata": {},
   "outputs": [
    {
     "name": "stdout",
     "output_type": "stream",
     "text": [
      "['    1    1    1 ', '\\n    2   \\n 2 \\n    2 \\n', '\\t    3 \\t    3 \\t     3 \\t       ']\n",
      "    1    1    1 \n",
      "\n",
      "    2   \n",
      " 2 \n",
      "    2 \n",
      "\n",
      "\t    3 \t    3 \t     3 \t       \n"
     ]
    }
   ],
   "source": [
    "lines = ['    1    1    1 ' , '\\n    2   \\n 2 \\n    2 \\n' , '\\t    3 \\t    3 \\t     3 \\t       ']\n",
    "print(lines)\n",
    "for line in lines:\n",
    "    print(line)"
   ]
  },
  {
   "cell_type": "code",
   "execution_count": 101,
   "id": "628fa571",
   "metadata": {},
   "outputs": [
    {
     "name": "stdout",
     "output_type": "stream",
     "text": [
      "['    1    1    1 ', '\\n    2   \\n 2 \\n    2 \\n', '\\t    3 \\t    3 \\t     3 \\t       ']\n",
      "['111', '\\n2\\n2\\n2\\n', '\\t3\\t3\\t3\\t']\n"
     ]
    }
   ],
   "source": [
    "print(lines)\n",
    "print(list(map(lambda s : s.replace(' ' , '')   , lines)))"
   ]
  },
  {
   "cell_type": "code",
   "execution_count": 102,
   "id": "402864e3",
   "metadata": {},
   "outputs": [
    {
     "name": "stdout",
     "output_type": "stream",
     "text": [
      "['    1    1    1 ', '\\n    2   \\n 2 \\n    2 \\n', '\\t    3 \\t    3 \\t     3 \\t       ']\n",
      "['    1    1    1 ', '    2    2     2 ', '\\t    3 \\t    3 \\t     3 \\t       ']\n"
     ]
    }
   ],
   "source": [
    "print(lines)\n",
    "print(list(map(lambda s : s.replace('\\n' , '') , lines)))"
   ]
  },
  {
   "cell_type": "code",
   "execution_count": 103,
   "id": "e2b82962",
   "metadata": {},
   "outputs": [
    {
     "name": "stdout",
     "output_type": "stream",
     "text": [
      "['    1    1    1 ', '\\n    2   \\n 2 \\n    2 \\n', '\\t    3 \\t    3 \\t     3 \\t       ']\n",
      "['    1    1    1 ', '\\n    2   \\n 2 \\n    2 \\n', '    3     3      3        ']\n"
     ]
    }
   ],
   "source": [
    "print(lines)\n",
    "print(list(map(lambda s : s.replace('\\t' , '') , lines)))"
   ]
  },
  {
   "cell_type": "code",
   "execution_count": 104,
   "id": "e44517a4",
   "metadata": {},
   "outputs": [
    {
     "name": "stdout",
     "output_type": "stream",
     "text": [
      "['    1    1    1 ', '\\n    2   \\n 2 \\n    2 \\n', '\\t    3 \\t    3 \\t     3 \\t       ']\n",
      "    1    1    1 \n",
      "\n",
      "    2   \n",
      " 2 \n",
      "    2 \n",
      "\n",
      "\t    3 \t    3 \t     3 \t       \n"
     ]
    }
   ],
   "source": [
    "print(lines)\n",
    "for line in lines:\n",
    "    print(line)"
   ]
  },
  {
   "cell_type": "markdown",
   "id": "cccf8f20",
   "metadata": {},
   "source": [
    "## any & all\n",
    ">- 元素除了是 0 、'' 、False 、[]、() 外都算 True\n",
    ">- `any(iterable)`\n",
    ">   - 有一个 True 则返回 True\n",
    ">- `all(iterable)`\n",
    ">   - 有一个 Flase 则返回 Flase"
   ]
  },
  {
   "cell_type": "code",
   "execution_count": 105,
   "id": "436ed933",
   "metadata": {},
   "outputs": [
    {
     "name": "stdout",
     "output_type": "stream",
     "text": [
      "False\n",
      "False\n",
      "False\n",
      "False\n",
      "False\n",
      "False\n",
      "False\n",
      "False\n"
     ]
    }
   ],
   "source": [
    "print(any([0]))\n",
    "print(all([0]))\n",
    "print(any(['']))\n",
    "print(all(['']))\n",
    "print(any([False]))\n",
    "print(all([False]))\n",
    "print(any([[] , ()]))   # [] 、() 作为元素的时候\n",
    "print(all([[] , ()]))   # [] 、() 作为元素的时候"
   ]
  },
  {
   "cell_type": "code",
   "execution_count": 106,
   "id": "9fc14991",
   "metadata": {},
   "outputs": [
    {
     "name": "stdout",
     "output_type": "stream",
     "text": [
      "False\n",
      "True\n",
      "False\n",
      "True\n"
     ]
    }
   ],
   "source": [
    "print(any([]))         # 没有 True\n",
    "print(all([]))         # 没有 False\n",
    "print(any(()))         # 没有 True\n",
    "print(all(()))         # 没有 False"
   ]
  },
  {
   "cell_type": "code",
   "execution_count": 107,
   "id": "3e1f1685",
   "metadata": {},
   "outputs": [
    {
     "name": "stdout",
     "output_type": "stream",
     "text": [
      "['111', '333', '555', '135']\n",
      "['135']\n",
      "['222', '444', '666']\n",
      "['111', '222', '333', '444', '555', '666']\n"
     ]
    }
   ],
   "source": [
    "src = ['111' , '222' , '333' , '444' , '555' , '666' , '135']\n",
    "fil = ['1' , '3' , '5']\n",
    "print([s for s in src if any((f in s) for f in fil)])\n",
    "print([s for s in src if all((f in s) for f in fil)])\n",
    "print([s for s in src if not any((f in s) for f in fil)])\n",
    "print([s for s in src if not all((f in s) for f in fil)])"
   ]
  },
  {
   "cell_type": "markdown",
   "id": "85d5b3f2",
   "metadata": {},
   "source": [
    "# 正则表达式\n",
    ">- 模式字符串最好使用 r'...' 非转义字符串"
   ]
  },
  {
   "cell_type": "code",
   "execution_count": 111,
   "id": "80a7b573",
   "metadata": {},
   "outputs": [],
   "source": [
    "import re"
   ]
  },
  {
   "cell_type": "code",
   "execution_count": 112,
   "id": "6839e629",
   "metadata": {},
   "outputs": [],
   "source": [
    "src = '甲数除以乙数的商是 temp_a ， 如果甲数增加 temp_b ， 则甲数是乙的 temp_c 倍．'"
   ]
  },
  {
   "cell_type": "markdown",
   "id": "8d17aa12",
   "metadata": {},
   "source": [
    "## 分组抽取\n",
    ">- String  ==>  List"
   ]
  },
  {
   "cell_type": "code",
   "execution_count": 113,
   "id": "3f9bc87c",
   "metadata": {},
   "outputs": [
    {
     "data": {
      "text/plain": [
       "['temp_a', 'temp_b', 'temp_c']"
      ]
     },
     "execution_count": 113,
     "metadata": {},
     "output_type": "execute_result"
    }
   ],
   "source": [
    "# 匹配 'temp_\\w+' 并返回 'temp_\\w+'\n",
    "\n",
    "pattern = re.compile(r'temp_\\w+')\n",
    "re.findall(pattern , src)"
   ]
  },
  {
   "cell_type": "code",
   "execution_count": 114,
   "id": "86b0d86a",
   "metadata": {},
   "outputs": [
    {
     "data": {
      "text/plain": [
       "['temp_', 'temp_', 'temp_']"
      ]
     },
     "execution_count": 114,
     "metadata": {},
     "output_type": "execute_result"
    }
   ],
   "source": [
    "# 匹配 'temp_\\w+' 并返回 'temp_' （1 个括号括起来的）\n",
    "\n",
    "pattern = re.compile(r'(temp_)\\w+')\n",
    "re.findall(pattern , src)"
   ]
  },
  {
   "cell_type": "code",
   "execution_count": 115,
   "id": "54b00b67",
   "metadata": {},
   "outputs": [
    {
     "data": {
      "text/plain": [
       "[('temp_', 'a'), ('temp_', 'b'), ('temp_', 'c')]"
      ]
     },
     "execution_count": 115,
     "metadata": {},
     "output_type": "execute_result"
    }
   ],
   "source": [
    "# 匹配 'temp_\\w+' 并返回 'temp_' 和 'w+' （2 个括号括起来的 Tuple）\n",
    "\n",
    "pattern = re.compile(r'(temp_)(\\w+)')\n",
    "re.findall(pattern , src)"
   ]
  },
  {
   "cell_type": "markdown",
   "id": "5a9a44f6",
   "metadata": {},
   "source": [
    "## 全部替换\n",
    ">- String  ==>  String\n",
    ">- 不改变原来的 `src`"
   ]
  },
  {
   "cell_type": "code",
   "execution_count": 116,
   "id": "c32ccc24",
   "metadata": {},
   "outputs": [
    {
     "name": "stdout",
     "output_type": "stream",
     "text": [
      "甲数除以乙数的商是 temp_a ， 如果甲数增加 temp_b ， 则甲数是乙的 temp_c 倍．\n",
      "甲数除以乙数的商是 XXX ， 如果甲数增加 XXX ， 则甲数是乙的 XXX 倍．\n"
     ]
    }
   ],
   "source": [
    "print(src)\n",
    "print(re.sub(r'temp_\\w+' , r'XXX' , src))"
   ]
  },
  {
   "cell_type": "code",
   "execution_count": 118,
   "id": "8e33b604",
   "metadata": {},
   "outputs": [
    {
     "name": "stdout",
     "output_type": "stream",
     "text": [
      "甲数除以乙数的商是 temp_a ， 如果甲数增加 temp_b ， 则甲数是乙的 temp_c 倍．\n",
      "甲数除以乙数的商是 temp ， 如果甲数增加 temp ， 则甲数是乙的 temp 倍．\n"
     ]
    }
   ],
   "source": [
    "# \\1 、\\2 、... 代表匹配到的分组 ()\n",
    "\n",
    "print(src)\n",
    "print(re.sub(r'(temp)_\\w+' , r'\\1' , src))"
   ]
  },
  {
   "cell_type": "code",
   "execution_count": 119,
   "id": "1561d8a9",
   "metadata": {},
   "outputs": [
    {
     "name": "stdout",
     "output_type": "stream",
     "text": [
      "甲数除以乙数的商是 temp_a ， 如果甲数增加 temp_b ， 则甲数是乙的 temp_c 倍．\n",
      "甲数除以乙数的商是 a_temp ， 如果甲数增加 b_temp ， 则甲数是乙的 c_temp 倍．\n"
     ]
    }
   ],
   "source": [
    "print(src)\n",
    "print(re.sub(r'(temp)_(\\w+)' , r'\\2_\\1' , src))"
   ]
  },
  {
   "cell_type": "code",
   "execution_count": 120,
   "id": "5019d660",
   "metadata": {},
   "outputs": [
    {
     "name": "stdout",
     "output_type": "stream",
     "text": [
      "甲数除以乙数的商是 temp_a ， 如果甲数增加 temp_b ， 则甲数是乙的 temp_c 倍．\n",
      "甲数除以乙数的商是 \"a\" ， 如果甲数增加 \"b\" ， 则甲数是乙的 \"c\" 倍．\n"
     ]
    }
   ],
   "source": [
    "print(src)\n",
    "print(re.sub(r'temp_(\\w+)' , r'\"\\1\"' , src))"
   ]
  },
  {
   "cell_type": "code",
   "execution_count": 121,
   "id": "cb1fcb59",
   "metadata": {},
   "outputs": [
    {
     "data": {
      "text/plain": [
       "'111'"
      ]
     },
     "execution_count": 121,
     "metadata": {},
     "output_type": "execute_result"
    }
   ],
   "source": [
    "# \\s 代表所有空白\n",
    "\n",
    "re.sub(r'\\s' , r'' , '\\t 1  \\t  \\n  1  \\n  \\r  1  \\n')"
   ]
  },
  {
   "cell_type": "code",
   "execution_count": 122,
   "id": "bc767a66",
   "metadata": {},
   "outputs": [
    {
     "data": {
      "text/plain": [
       "''"
      ]
     },
     "execution_count": 122,
     "metadata": {},
     "output_type": "execute_result"
    }
   ],
   "source": [
    "re.sub(r'' , r'' , '')"
   ]
  }
 ],
 "metadata": {
  "kernelspec": {
   "display_name": "MathBert",
   "language": "python",
   "name": "mathbert"
  },
  "language_info": {
   "codemirror_mode": {
    "name": "ipython",
    "version": 3
   },
   "file_extension": ".py",
   "mimetype": "text/x-python",
   "name": "python",
   "nbconvert_exporter": "python",
   "pygments_lexer": "ipython3",
   "version": "3.9.12"
  },
  "toc": {
   "base_numbering": 1,
   "nav_menu": {},
   "number_sections": false,
   "sideBar": true,
   "skip_h1_title": false,
   "title_cell": "Table of Contents",
   "title_sidebar": "Contents",
   "toc_cell": false,
   "toc_position": {
    "height": "calc(100% - 180px)",
    "left": "10px",
    "top": "150px",
    "width": "175.292px"
   },
   "toc_section_display": true,
   "toc_window_display": true
  }
 },
 "nbformat": 4,
 "nbformat_minor": 5
}
