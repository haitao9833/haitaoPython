{
 "cells": [
  {
   "cell_type": "markdown",
   "id": "af90335c",
   "metadata": {},
   "source": [
    "# 默认代码"
   ]
  },
  {
   "cell_type": "code",
   "execution_count": 1,
   "id": "1f72b2b0",
   "metadata": {},
   "outputs": [],
   "source": [
    "# 抑制警告\n",
    "import warnings\n",
    "warnings.filterwarnings('ignore')\n",
    "\n",
    "\n",
    "# 打印 ndarray & DataFrame 更加漂亮\n",
    "from IPython.display import display"
   ]
  },
  {
   "cell_type": "code",
   "execution_count": 2,
   "id": "03669524",
   "metadata": {},
   "outputs": [
    {
     "name": "stdout",
     "output_type": "stream",
     "text": [
      "1.22.3\n",
      "D:\\Soft\\Installer\\Anaconda3\\envs\\MathBert\\Lib\\site-packages\\numpy\\__init__.py\n"
     ]
    }
   ],
   "source": [
    "import numpy as np\n",
    "\n",
    "# 版本 + 位置 + 说明文档\n",
    "print(np.__version__)\n",
    "print(np.__file__)\n",
    "np?"
   ]
  },
  {
   "cell_type": "markdown",
   "id": "dc213826",
   "metadata": {},
   "source": [
    "# List & ndarray\n",
    "> | &emsp;&emsp;&emsp;&emsp;&emsp; | &emsp;&emsp;&emsp;&emsp;List&emsp;&emsp;&emsp;&emsp; | &emsp;&emsp;&emsp;&emsp;ndarray&emsp;&emsp;&emsp;&emsp; |\n",
    "| :-: | :-: | :-: |\n",
    "| 维度 | 1 | 1 ~ n |\n",
    "| 元素的数据类型 | 可以不同 | 必须相同 |\n",
    "| `print` 输出 | [a , b , c] | [a b c] |\n",
    "| + 、* | 拼接、倍增 | 数学运算 |\n",
    "| 切片 | 返回副本，修改不影响原 List | 返回视图，修改影响原 ndarray |"
   ]
  },
  {
   "cell_type": "markdown",
   "id": "f761a7b0",
   "metadata": {},
   "source": [
    "# 创建"
   ]
  },
  {
   "cell_type": "markdown",
   "id": "c57cf009",
   "metadata": {},
   "source": [
    "## List\n",
    ">- np.array(List , dtype = '指定数据类型')"
   ]
  },
  {
   "cell_type": "code",
   "execution_count": 3,
   "id": "f4c8e117",
   "metadata": {},
   "outputs": [
    {
     "name": "stdout",
     "output_type": "stream",
     "text": [
      "<class 'numpy.ndarray'>\n",
      "\n",
      "[[1 2]\n",
      " [3 4]\n",
      " [5 6]]\n"
     ]
    },
    {
     "data": {
      "text/plain": [
       "array([[1, 2],\n",
       "       [3, 4],\n",
       "       [5, 6]])"
      ]
     },
     "metadata": {},
     "output_type": "display_data"
    }
   ],
   "source": [
    "L = [[1 , 2] , [3 , 4] , [5 , 6]]\n",
    "\n",
    "arr = np.array(L)\n",
    "\n",
    "print(type(arr) , end='\\n\\n')\n",
    "print(arr)\n",
    "display(arr)"
   ]
  },
  {
   "cell_type": "code",
   "execution_count": 4,
   "id": "7235ad2c",
   "metadata": {},
   "outputs": [
    {
     "name": "stdout",
     "output_type": "stream",
     "text": [
      "[1 2 3]\n",
      "<class 'numpy.int32'>\n",
      "<class 'int'>\n"
     ]
    }
   ],
   "source": [
    "arr = np.array([1 , 2 , 3.14] , dtype = 'int')\n",
    "print(arr)\n",
    "print(type(arr[0]))           # numpy.int32\n",
    "print(type(int(arr[0])))      # int"
   ]
  },
  {
   "cell_type": "code",
   "execution_count": 5,
   "id": "9035d7d0",
   "metadata": {},
   "outputs": [
    {
     "name": "stdout",
     "output_type": "stream",
     "text": [
      "[1.   2.   3.14]\n",
      "<class 'numpy.float32'>\n",
      "<class 'float'>\n"
     ]
    }
   ],
   "source": [
    "arr = np.array([1 , 2 , 3.14] , dtype = 'float32')\n",
    "print(arr)\n",
    "print(type(arr[0]))           # numpy.float32\n",
    "print(type(float(arr[0])))    # float"
   ]
  },
  {
   "cell_type": "code",
   "execution_count": 6,
   "id": "ec0ababe",
   "metadata": {},
   "outputs": [
    {
     "data": {
      "text/plain": [
       "array([[1, 2, 3],\n",
       "       [4, 5, 6],\n",
       "       [7, 8, 9]])"
      ]
     },
     "execution_count": 6,
     "metadata": {},
     "output_type": "execute_result"
    }
   ],
   "source": [
    "arr = np.array([list(range(i , i + 3)) for i in [1 , 4 , 7]])   # list() 函数可以省略\n",
    "arr"
   ]
  },
  {
   "cell_type": "markdown",
   "id": "13f86776",
   "metadata": {},
   "source": [
    "## 范围\n",
    ">- np.arange(start , end , step , dtype = '指定数据类型')\n",
    ">  - start 默认为 0 ，包括\n",
    ">  - end 不可省略，不包括\n",
    ">  - step 默认为 1\n",
    ">  - 同 range ，唯一区别是三个参数都可以为浮点数"
   ]
  },
  {
   "cell_type": "code",
   "execution_count": 7,
   "id": "95bd88d4",
   "metadata": {},
   "outputs": [
    {
     "name": "stdout",
     "output_type": "stream",
     "text": [
      "[ 0.5  0.  -0.5 -1.  -1.5 -2. ]\n",
      "<class 'numpy.float64'>\n"
     ]
    }
   ],
   "source": [
    "arr = np.arange(0.5 , -2.5 , -0.5 , dtype = 'float64')\n",
    "print(arr)\n",
    "print(type(arr[0]))"
   ]
  },
  {
   "cell_type": "code",
   "execution_count": 8,
   "id": "ec8d7741",
   "metadata": {},
   "outputs": [
    {
     "name": "stdout",
     "output_type": "stream",
     "text": [
      "[0.   0.33 0.66]\n",
      "<class 'numpy.float64'>\n"
     ]
    }
   ],
   "source": [
    "arr = np.arange(0 , 0.9 , 0.33)     # 默认数据类型为 numpy.float64\n",
    "print(arr)\n",
    "print(type(arr[0]))"
   ]
  },
  {
   "cell_type": "markdown",
   "id": "67c79a34",
   "metadata": {},
   "source": [
    "## 特殊矩阵\n",
    ">- 用 Tuple 指定每一维度大小"
   ]
  },
  {
   "cell_type": "code",
   "execution_count": 9,
   "id": "2eb96b0d",
   "metadata": {},
   "outputs": [
    {
     "data": {
      "text/plain": [
       "array([[0, 0],\n",
       "       [0, 0],\n",
       "       [0, 0]])"
      ]
     },
     "execution_count": 9,
     "metadata": {},
     "output_type": "execute_result"
    }
   ],
   "source": [
    "# 全 0\n",
    "arr = np.zeros((3 , 2) , dtype = int)\n",
    "arr"
   ]
  },
  {
   "cell_type": "code",
   "execution_count": 10,
   "id": "791747aa",
   "metadata": {},
   "outputs": [
    {
     "data": {
      "text/plain": [
       "array([[1., 1.],\n",
       "       [1., 1.],\n",
       "       [1., 1.]])"
      ]
     },
     "execution_count": 10,
     "metadata": {},
     "output_type": "execute_result"
    }
   ],
   "source": [
    "# 全 1\n",
    "arr = np.ones((3 , 2) , dtype = float)\n",
    "arr"
   ]
  },
  {
   "cell_type": "code",
   "execution_count": 11,
   "id": "b376a6a4",
   "metadata": {},
   "outputs": [
    {
     "data": {
      "text/plain": [
       "array([[1., 0., 0.],\n",
       "       [0., 1., 0.],\n",
       "       [0., 0., 1.]])"
      ]
     },
     "execution_count": 11,
     "metadata": {},
     "output_type": "execute_result"
    }
   ],
   "source": [
    "# 二维单位矩阵，参数必须为 int\n",
    "arr = np.eye(3)\n",
    "arr"
   ]
  },
  {
   "cell_type": "code",
   "execution_count": 12,
   "id": "addb9b6a",
   "metadata": {},
   "outputs": [
    {
     "data": {
      "text/plain": [
       "array([[[520, 520, 520, 520],\n",
       "        [520, 520, 520, 520],\n",
       "        [520, 520, 520, 520]],\n",
       "\n",
       "       [[520, 520, 520, 520],\n",
       "        [520, 520, 520, 520],\n",
       "        [520, 520, 520, 520]]])"
      ]
     },
     "execution_count": 12,
     "metadata": {},
     "output_type": "execute_result"
    }
   ],
   "source": [
    "# 全指定值\n",
    "arr = np.full((2 , 3 , 4) , 520)\n",
    "arr"
   ]
  },
  {
   "cell_type": "markdown",
   "id": "85c4e7f2",
   "metadata": {},
   "source": [
    "## 均匀等差数列\n",
    ">- np.linspace(start , end , num , endpoint , dtype = '指定数据类型')\n",
    ">  - 将 `[start , end]` 区间均匀分隔为 `num - 1` 个小区间，返回 `num` 个小区间的端点\n",
    ">  - 每个小区间的长度 == (end - start) ÷ (num - 1)\n",
    ">  - num 默认为 50\n",
    ">  - endpoint 默认为 True ，即包括 end"
   ]
  },
  {
   "cell_type": "code",
   "execution_count": 13,
   "id": "922de224",
   "metadata": {},
   "outputs": [
    {
     "data": {
      "text/plain": [
       "array([0., 1., 2., 3., 4., 5., 6., 7., 8., 9.])"
      ]
     },
     "execution_count": 13,
     "metadata": {},
     "output_type": "execute_result"
    }
   ],
   "source": [
    "arr = np.linspace(0 , 9 , 10)\n",
    "arr"
   ]
  },
  {
   "cell_type": "code",
   "execution_count": 14,
   "id": "aa004e07",
   "metadata": {},
   "outputs": [
    {
     "data": {
      "text/plain": [
       "array([0.   , 1.125, 2.25 , 3.375, 4.5  , 5.625, 6.75 , 7.875, 9.   ])"
      ]
     },
     "execution_count": 14,
     "metadata": {},
     "output_type": "execute_result"
    }
   ],
   "source": [
    "arr = np.linspace(0 , 9 , 9)\n",
    "arr"
   ]
  },
  {
   "cell_type": "code",
   "execution_count": 15,
   "id": "cde617c8",
   "metadata": {},
   "outputs": [
    {
     "data": {
      "text/plain": [
       "array([0., 1., 2., 3., 4., 5., 6., 7., 8.])"
      ]
     },
     "execution_count": 15,
     "metadata": {},
     "output_type": "execute_result"
    }
   ],
   "source": [
    "arr = np.linspace(0 , 9 , 9 , endpoint = False)   # 不包括 end ，则等分 [start , end - 1] 区间\n",
    "arr"
   ]
  },
  {
   "cell_type": "markdown",
   "id": "cb61107b",
   "metadata": {},
   "source": [
    "## 随机生成"
   ]
  },
  {
   "cell_type": "code",
   "execution_count": 16,
   "id": "60ca22bc",
   "metadata": {},
   "outputs": [
    {
     "name": "stdout",
     "output_type": "stream",
     "text": [
      "0.6864267833902045\n",
      "[0.62912898 0.47702569 0.66767499]\n",
      "[[0.57588685 0.77876621 0.15077377]\n",
      " [0.61326367 0.90938897 0.81522305]\n",
      " [0.68503138 0.04010772 0.69473978]]\n"
     ]
    }
   ],
   "source": [
    "# 区间 [0 , 1) 范围内的均匀分布 rand(d0 , d1 , ...)\n",
    "# 参数列表 d0 、d1 、... 表示每个维度的大小，不带参数则返回一个浮点数\n",
    "\n",
    "arr = np.random.rand()\n",
    "print(arr)\n",
    "arr = np.random.rand(3)\n",
    "print(arr)\n",
    "arr = np.random.rand(3 , 3)\n",
    "print(arr)"
   ]
  },
  {
   "cell_type": "code",
   "execution_count": 17,
   "id": "6e36bc96",
   "metadata": {},
   "outputs": [
    {
     "name": "stdout",
     "output_type": "stream",
     "text": [
      "0.6967253130046983\n",
      "[-1.47017895  1.27497186 -0.33046011]\n",
      "[[-0.37982619 -0.9920572  -0.536388  ]\n",
      " [ 1.45070655 -0.58357854 -0.41905568]\n",
      " [ 1.1654224   1.5344003  -0.82750979]]\n"
     ]
    }
   ],
   "source": [
    "# 均值为 0 ，标准差为 1 的标准正态分布 randn(d0 , d1 , ...)\n",
    "\n",
    "arr = np.random.randn()\n",
    "print(arr)\n",
    "arr = np.random.randn(3)\n",
    "print(arr)\n",
    "arr = np.random.randn(3 , 3)\n",
    "print(arr)"
   ]
  },
  {
   "cell_type": "code",
   "execution_count": 18,
   "id": "f6c037b3",
   "metadata": {},
   "outputs": [
    {
     "name": "stdout",
     "output_type": "stream",
     "text": [
      "0\n",
      "[1 1 1]\n",
      "[[3 2 2]\n",
      " [1 1 2]\n",
      " [4 2 3]]\n"
     ]
    }
   ],
   "source": [
    "# 区间 [low high) 范围内的随机整数 randint(low , high , size , dtype = '指定数据类型')\n",
    "# size 为 tuple 表示维度大小，，不带参数则返回一个整数\n",
    "\n",
    "arr = np.random.randint(0 , 2)\n",
    "print(arr)\n",
    "arr = np.random.randint(0 , 2 , (3 , ))\n",
    "print(arr)\n",
    "arr = np.random.randint(0 , 6 , (3 , 3))\n",
    "print(arr)"
   ]
  },
  {
   "cell_type": "markdown",
   "id": "434e8956",
   "metadata": {},
   "source": [
    "# 属性\n",
    ">- 维度大小 `.shape` 返回一个 Tuple\n",
    ">- 输出中左右两边有几个 `[` 或几个 `]` 即为几维的"
   ]
  },
  {
   "cell_type": "code",
   "execution_count": 19,
   "id": "2c0dce1f",
   "metadata": {},
   "outputs": [
    {
     "data": {
      "text/plain": [
       "array([[[9, 9, 4, 5, 6],\n",
       "        [4, 2, 2, 3, 4],\n",
       "        [0, 4, 0, 4, 3],\n",
       "        [9, 6, 4, 8, 7]],\n",
       "\n",
       "       [[2, 6, 0, 5, 9],\n",
       "        [4, 3, 6, 8, 3],\n",
       "        [8, 8, 8, 6, 8],\n",
       "        [0, 5, 2, 2, 6]],\n",
       "\n",
       "       [[1, 7, 0, 1, 2],\n",
       "        [6, 3, 1, 2, 1],\n",
       "        [0, 1, 0, 9, 1],\n",
       "        [2, 0, 5, 3, 1]]])"
      ]
     },
     "execution_count": 19,
     "metadata": {},
     "output_type": "execute_result"
    }
   ],
   "source": [
    "arr = np.random.randint(0 , 10 , (3 , 4 , 5) , dtype = int)\n",
    "arr"
   ]
  },
  {
   "cell_type": "code",
   "execution_count": 20,
   "id": "92e8dcc1",
   "metadata": {},
   "outputs": [
    {
     "name": "stdout",
     "output_type": "stream",
     "text": [
      "3\n"
     ]
    }
   ],
   "source": [
    "print(arr.ndim)   # 维度"
   ]
  },
  {
   "cell_type": "code",
   "execution_count": 21,
   "id": "79413498",
   "metadata": {},
   "outputs": [
    {
     "name": "stdout",
     "output_type": "stream",
     "text": [
      "(3, 4, 5)\n"
     ]
    }
   ],
   "source": [
    "print(arr.shape)  # 各维度大小"
   ]
  },
  {
   "cell_type": "code",
   "execution_count": 22,
   "id": "f4278df7",
   "metadata": {},
   "outputs": [
    {
     "name": "stdout",
     "output_type": "stream",
     "text": [
      "60\n"
     ]
    }
   ],
   "source": [
    "print(arr.size)   # 总大小 == 3 × 4 × 5"
   ]
  },
  {
   "cell_type": "code",
   "execution_count": 23,
   "id": "ae0d534e",
   "metadata": {},
   "outputs": [
    {
     "name": "stdout",
     "output_type": "stream",
     "text": [
      "int32\n"
     ]
    }
   ],
   "source": [
    "print(arr.dtype)  # 数据类型，int == int32"
   ]
  },
  {
   "cell_type": "markdown",
   "id": "639312ad",
   "metadata": {},
   "source": [
    "# 变维\n",
    ">- 需保证 `.size` 总大小不变\n",
    ">- 变维后生成一个新的 ndarray"
   ]
  },
  {
   "cell_type": "code",
   "execution_count": 24,
   "id": "8d955cc8",
   "metadata": {},
   "outputs": [
    {
     "name": "stdout",
     "output_type": "stream",
     "text": [
      "12\n"
     ]
    },
    {
     "data": {
      "text/plain": [
       "array([ 1,  2,  3,  4,  5,  6,  7,  8,  9, 10, 11, 12])"
      ]
     },
     "execution_count": 24,
     "metadata": {},
     "output_type": "execute_result"
    }
   ],
   "source": [
    "arr = np.arange(1 , 13)\n",
    "print(arr.size)\n",
    "arr"
   ]
  },
  {
   "cell_type": "code",
   "execution_count": 25,
   "id": "a93403f0",
   "metadata": {},
   "outputs": [
    {
     "data": {
      "text/plain": [
       "array([ 1,  2,  3,  4,  5,  6,  7,  8,  9, 10, 11, 12])"
      ]
     },
     "execution_count": 25,
     "metadata": {},
     "output_type": "execute_result"
    }
   ],
   "source": [
    "arr.reshape(12)"
   ]
  },
  {
   "cell_type": "code",
   "execution_count": 26,
   "id": "bcfdbc14",
   "metadata": {},
   "outputs": [
    {
     "data": {
      "text/plain": [
       "array([[ 1,  2,  3,  4,  5,  6,  7,  8,  9, 10, 11, 12]])"
      ]
     },
     "execution_count": 26,
     "metadata": {},
     "output_type": "execute_result"
    }
   ],
   "source": [
    "arr.reshape(1 , 12)"
   ]
  },
  {
   "cell_type": "code",
   "execution_count": 27,
   "id": "e34b0c8a",
   "metadata": {},
   "outputs": [
    {
     "data": {
      "text/plain": [
       "array([[ 1,  2,  3,  4,  5,  6],\n",
       "       [ 7,  8,  9, 10, 11, 12]])"
      ]
     },
     "execution_count": 27,
     "metadata": {},
     "output_type": "execute_result"
    }
   ],
   "source": [
    "arr.reshape(2 , 6)"
   ]
  },
  {
   "cell_type": "code",
   "execution_count": 28,
   "id": "be072d97",
   "metadata": {},
   "outputs": [
    {
     "data": {
      "text/plain": [
       "array([[ 1,  2,  3,  4],\n",
       "       [ 5,  6,  7,  8],\n",
       "       [ 9, 10, 11, 12]])"
      ]
     },
     "execution_count": 28,
     "metadata": {},
     "output_type": "execute_result"
    }
   ],
   "source": [
    "arr.reshape(3 , 4)"
   ]
  },
  {
   "cell_type": "code",
   "execution_count": 29,
   "id": "2b2e88b9",
   "metadata": {},
   "outputs": [
    {
     "data": {
      "text/plain": [
       "array([[[ 1,  2],\n",
       "        [ 3,  4],\n",
       "        [ 5,  6]],\n",
       "\n",
       "       [[ 7,  8],\n",
       "        [ 9, 10],\n",
       "        [11, 12]]])"
      ]
     },
     "execution_count": 29,
     "metadata": {},
     "output_type": "execute_result"
    }
   ],
   "source": [
    "arr.reshape(2 , 3 , 2)"
   ]
  },
  {
   "cell_type": "code",
   "execution_count": 30,
   "id": "ce6a8230",
   "metadata": {},
   "outputs": [
    {
     "data": {
      "text/plain": [
       "array([ 1,  2,  3,  4,  5,  6,  7,  8,  9, 10, 11, 12])"
      ]
     },
     "execution_count": 30,
     "metadata": {},
     "output_type": "execute_result"
    }
   ],
   "source": [
    "arr   # 变维后需重新赋值给原 arr 才能真正改变"
   ]
  },
  {
   "cell_type": "code",
   "execution_count": 31,
   "id": "a1a170ba",
   "metadata": {},
   "outputs": [
    {
     "data": {
      "text/plain": [
       "array([[[ 1,  2],\n",
       "        [ 3,  4],\n",
       "        [ 5,  6]],\n",
       "\n",
       "       [[ 7,  8],\n",
       "        [ 9, 10],\n",
       "        [11, 12]]])"
      ]
     },
     "execution_count": 31,
     "metadata": {},
     "output_type": "execute_result"
    }
   ],
   "source": [
    "arr.reshape(2 , -1 , 2)   # -1 表示该维度的大小依据 size 自动计算，且仅能有一个位置为 -1"
   ]
  },
  {
   "cell_type": "markdown",
   "id": "1ee0a42c",
   "metadata": {},
   "source": [
    "# 运算"
   ]
  },
  {
   "cell_type": "code",
   "execution_count": 32,
   "id": "a9829715",
   "metadata": {},
   "outputs": [],
   "source": [
    "L = [[1 , 2] , [3 , 4] , [5 , 6]]\n",
    "arr = np.array(L)"
   ]
  },
  {
   "cell_type": "code",
   "execution_count": 33,
   "id": "6e714eb8",
   "metadata": {},
   "outputs": [
    {
     "name": "stdout",
     "output_type": "stream",
     "text": [
      "[[1, 2], [3, 4], [5, 6], 4]\n",
      "[[ 5  6]\n",
      " [ 7  8]\n",
      " [ 9 10]]\n"
     ]
    }
   ],
   "source": [
    "L = L + [4]           # 拼接\n",
    "arr = arr + [4]       # 加法运算（每个元素都 + 4）\n",
    "print(L)\n",
    "print(arr)"
   ]
  },
  {
   "cell_type": "code",
   "execution_count": 34,
   "id": "a1e2d960",
   "metadata": {},
   "outputs": [],
   "source": [
    "L = [[1 , 2] , [3 , 4] , [5 , 6]]\n",
    "arr = np.array(L)"
   ]
  },
  {
   "cell_type": "code",
   "execution_count": 35,
   "id": "4d903373",
   "metadata": {},
   "outputs": [
    {
     "name": "stdout",
     "output_type": "stream",
     "text": [
      "[[1, 2], [3, 4], [5, 6], [1, 2], [3, 4], [5, 6], [1, 2], [3, 4], [5, 6]]\n"
     ]
    },
    {
     "data": {
      "text/plain": [
       "array([[ 3,  6],\n",
       "       [ 9, 12],\n",
       "       [15, 18]])"
      ]
     },
     "execution_count": 35,
     "metadata": {},
     "output_type": "execute_result"
    }
   ],
   "source": [
    "L = L * 3           # 倍增\n",
    "arr = arr * 3       # 乘法运算（每个元素都 * 3）\n",
    "print(L)\n",
    "arr"
   ]
  },
  {
   "cell_type": "markdown",
   "id": "fc2bf275",
   "metadata": {},
   "source": [
    "# 比较"
   ]
  },
  {
   "cell_type": "code",
   "execution_count": 36,
   "id": "805f5dda",
   "metadata": {},
   "outputs": [
    {
     "name": "stdout",
     "output_type": "stream",
     "text": [
      "[[1 2 3]\n",
      " [4 5 6]\n",
      " [7 8 9]]\n",
      "[[1 2 3]\n",
      " [4 5 6]\n",
      " [7 8 9]]\n",
      "[[  1   2   3]\n",
      " [  4 999   6]\n",
      " [  7   8   9]]\n"
     ]
    }
   ],
   "source": [
    "arr1 = np.arange(1 , 10).reshape(3 , 3)\n",
    "arr2 = np.arange(1 , 10).reshape(3 , 3)\n",
    "arr3 = np.arange(1 , 10).reshape(3 , 3)\n",
    "arr3[1 , 1] = 999\n",
    "print(arr1)\n",
    "print(arr2)\n",
    "print(arr3)"
   ]
  },
  {
   "cell_type": "code",
   "execution_count": 37,
   "id": "4ed3b350",
   "metadata": {},
   "outputs": [
    {
     "data": {
      "text/plain": [
       "array([[ True,  True,  True],\n",
       "       [ True,  True,  True],\n",
       "       [ True,  True,  True]])"
      ]
     },
     "execution_count": 37,
     "metadata": {},
     "output_type": "execute_result"
    }
   ],
   "source": [
    "arr1 == arr2"
   ]
  },
  {
   "cell_type": "code",
   "execution_count": 38,
   "id": "916063c3",
   "metadata": {},
   "outputs": [
    {
     "data": {
      "text/plain": [
       "array([[ True,  True,  True],\n",
       "       [ True, False,  True],\n",
       "       [ True,  True,  True]])"
      ]
     },
     "execution_count": 38,
     "metadata": {},
     "output_type": "execute_result"
    }
   ],
   "source": [
    "arr1 >= arr3"
   ]
  },
  {
   "cell_type": "markdown",
   "id": "1ff10e54",
   "metadata": {},
   "source": [
    "# 访问 & 修改单个元素\n",
    ">- 多维下标 `[i , j , k , ...]`\n",
    ">- 各维下标都从 `0` 开始"
   ]
  },
  {
   "cell_type": "code",
   "execution_count": 39,
   "id": "b24b98d4",
   "metadata": {},
   "outputs": [
    {
     "data": {
      "text/plain": [
       "array([[1, 2, 3],\n",
       "       [4, 5, 6],\n",
       "       [7, 8, 9]])"
      ]
     },
     "execution_count": 39,
     "metadata": {},
     "output_type": "execute_result"
    }
   ],
   "source": [
    "arr = np.array([range(i , i + 3) for i in [1 , 4 , 7]])\n",
    "arr"
   ]
  },
  {
   "cell_type": "code",
   "execution_count": 40,
   "id": "a6740e18",
   "metadata": {},
   "outputs": [
    {
     "data": {
      "text/plain": [
       "5"
      ]
     },
     "execution_count": 40,
     "metadata": {},
     "output_type": "execute_result"
    }
   ],
   "source": [
    "arr[1 , 1]"
   ]
  },
  {
   "cell_type": "code",
   "execution_count": 41,
   "id": "4407d6c6",
   "metadata": {},
   "outputs": [
    {
     "name": "stdout",
     "output_type": "stream",
     "text": [
      "[[  1   2   3]\n",
      " [  4 999   6]\n",
      " [  7   8   9]]\n"
     ]
    }
   ],
   "source": [
    "arr[1 , 1] = 999\n",
    "print(arr)"
   ]
  },
  {
   "cell_type": "markdown",
   "id": "7724b337",
   "metadata": {},
   "source": [
    "# 访问 & 修改切片元素\n",
    ">- 多维切片 `[start:end:step , start:end:step ， ...]`（同 List）"
   ]
  },
  {
   "cell_type": "code",
   "execution_count": 42,
   "id": "fee433be",
   "metadata": {},
   "outputs": [
    {
     "data": {
      "text/plain": [
       "array([[1, 2, 3],\n",
       "       [4, 5, 6],\n",
       "       [7, 8, 9]])"
      ]
     },
     "execution_count": 42,
     "metadata": {},
     "output_type": "execute_result"
    }
   ],
   "source": [
    "arr = np.array([range(i , i + 3) for i in [1 , 4 , 7]])\n",
    "arr"
   ]
  },
  {
   "cell_type": "code",
   "execution_count": 43,
   "id": "cce4821a",
   "metadata": {},
   "outputs": [
    {
     "data": {
      "text/plain": [
       "array([[3, 1],\n",
       "       [9, 7]])"
      ]
     },
     "execution_count": 43,
     "metadata": {},
     "output_type": "execute_result"
    }
   ],
   "source": [
    "subArr = arr[ ::2 , ::-2 ]             # 修改该 subArr 也会影响到原 arr ，见下述的副本 & 视图\n",
    "subArr"
   ]
  },
  {
   "cell_type": "code",
   "execution_count": 44,
   "id": "f0fb444a",
   "metadata": {},
   "outputs": [
    {
     "data": {
      "text/plain": [
       "array([[111,   2, 333],\n",
       "       [  4,   5,   6],\n",
       "       [777,   8, 999]])"
      ]
     },
     "execution_count": 44,
     "metadata": {},
     "output_type": "execute_result"
    }
   ],
   "source": [
    "arr[ ::2 , ::-2 ] = np.array([[333 , 111] , [999 , 777]])\n",
    "arr"
   ]
  },
  {
   "cell_type": "markdown",
   "id": "eea35ec4",
   "metadata": {},
   "source": [
    "# 访问"
   ]
  },
  {
   "cell_type": "markdown",
   "id": "a02ce04a",
   "metadata": {},
   "source": [
    "## 降维细节\n",
    ">- 带有下标的访问方式，会降低返回结果的维度"
   ]
  },
  {
   "cell_type": "code",
   "execution_count": 45,
   "id": "5670e0c2",
   "metadata": {},
   "outputs": [
    {
     "data": {
      "text/plain": [
       "array([[1, 2, 3],\n",
       "       [4, 5, 6],\n",
       "       [7, 8, 9]])"
      ]
     },
     "execution_count": 45,
     "metadata": {},
     "output_type": "execute_result"
    }
   ],
   "source": [
    "arr = np.array([range(i , i + 3) for i in [1 , 4 , 7]])\n",
    "arr"
   ]
  },
  {
   "cell_type": "code",
   "execution_count": 46,
   "id": "dac58bbb",
   "metadata": {},
   "outputs": [
    {
     "name": "stdout",
     "output_type": "stream",
     "text": [
      "[4 5 6]\n",
      "[4 5 6]\n",
      "[[4 5 6]]\n"
     ]
    }
   ],
   "source": [
    "print(arr[1])              # 第二行，下标取法\n",
    "print(arr[ 1 , :])         # 第二行，下标 + 切片取法\n",
    "print(arr[ 1:2 , :])       # 第二行，切片取法"
   ]
  },
  {
   "cell_type": "code",
   "execution_count": 47,
   "id": "b628c461",
   "metadata": {},
   "outputs": [
    {
     "name": "stdout",
     "output_type": "stream",
     "text": [
      "[2 5 8]\n",
      "[[2]\n",
      " [5]\n",
      " [8]]\n"
     ]
    }
   ],
   "source": [
    "print(arr[ : , 1])         # 第二列，下标 + 切片取法\n",
    "print(arr[ : , 1:2])       # 第二列，切片取法"
   ]
  },
  {
   "cell_type": "markdown",
   "id": "dc932dc3",
   "metadata": {},
   "source": [
    "## 用 List 指定下标\n",
    ">- 多维下标 `[i , List , k , List , ...]`"
   ]
  },
  {
   "cell_type": "code",
   "execution_count": 48,
   "id": "a7636ae9",
   "metadata": {},
   "outputs": [
    {
     "data": {
      "text/plain": [
       "array([[1, 2, 3],\n",
       "       [4, 5, 6],\n",
       "       [7, 8, 9]])"
      ]
     },
     "execution_count": 48,
     "metadata": {},
     "output_type": "execute_result"
    }
   ],
   "source": [
    "arr = np.array([range(i , i + 3) for i in [1 , 4 , 7]])\n",
    "arr"
   ]
  },
  {
   "cell_type": "code",
   "execution_count": 49,
   "id": "ff9dc3f0",
   "metadata": {},
   "outputs": [
    {
     "data": {
      "text/plain": [
       "array([7, 1, 7])"
      ]
     },
     "execution_count": 49,
     "metadata": {},
     "output_type": "execute_result"
    }
   ],
   "source": [
    "arr[[2 , 0 , 2] , 0]     # 取下标 [2 , 0] 、[0 , 0] 和 [2 , 0]"
   ]
  },
  {
   "cell_type": "code",
   "execution_count": 50,
   "id": "7f26fee0",
   "metadata": {},
   "outputs": [
    {
     "data": {
      "text/plain": [
       "array([1, 3, 2, 1])"
      ]
     },
     "execution_count": 50,
     "metadata": {},
     "output_type": "execute_result"
    }
   ],
   "source": [
    "arr[0 , [0 , 2 , 1 , 0]]     # 取下标 [0 , 0] 、 [0 , 2] 、[0 , 1] 和 [0 , 2]"
   ]
  },
  {
   "cell_type": "code",
   "execution_count": 51,
   "id": "6d8d34e5",
   "metadata": {},
   "outputs": [
    {
     "data": {
      "text/plain": [
       "array([2, 7, 3])"
      ]
     },
     "execution_count": 51,
     "metadata": {},
     "output_type": "execute_result"
    }
   ],
   "source": [
    "arr[[0 , 2 , 0] , [1 , 0 , 2]]    # 取下标 [0 , 1] 、[2 , 0] 和 [0 , 2]"
   ]
  },
  {
   "cell_type": "markdown",
   "id": "2796cc11",
   "metadata": {},
   "source": [
    "## 条件索引"
   ]
  },
  {
   "cell_type": "code",
   "execution_count": 52,
   "id": "107e6b38",
   "metadata": {},
   "outputs": [
    {
     "data": {
      "text/plain": [
       "array([[[2, 2, 4],\n",
       "        [1, 4, 4]],\n",
       "\n",
       "       [[2, 4, 5],\n",
       "        [3, 5, 4]],\n",
       "\n",
       "       [[4, 2, 5],\n",
       "        [2, 1, 3]]])"
      ]
     },
     "execution_count": 52,
     "metadata": {},
     "output_type": "execute_result"
    }
   ],
   "source": [
    "arr = np.random.randint(0 , 6 , (3 , 2 , 3))\n",
    "arr"
   ]
  },
  {
   "cell_type": "code",
   "execution_count": 53,
   "id": "4a2b22c6",
   "metadata": {},
   "outputs": [
    {
     "data": {
      "text/plain": [
       "array([[1, 0, 2],\n",
       "       [1, 1, 1],\n",
       "       [2, 0, 2]], dtype=int64)"
      ]
     },
     "execution_count": 53,
     "metadata": {},
     "output_type": "execute_result"
    }
   ],
   "source": [
    "argset = np.argwhere(arr == 5)   # 满足条件的元素的下标索引\n",
    "argset"
   ]
  },
  {
   "cell_type": "code",
   "execution_count": 54,
   "id": "d9a80d79",
   "metadata": {},
   "outputs": [
    {
     "data": {
      "text/plain": [
       "array([], shape=(0, 3), dtype=int64)"
      ]
     },
     "execution_count": 54,
     "metadata": {},
     "output_type": "execute_result"
    }
   ],
   "source": [
    "argset = np.argwhere(arr < 1)   # 满足条件的元素的下标索引\n",
    "argset"
   ]
  },
  {
   "cell_type": "markdown",
   "id": "f9398b7b",
   "metadata": {},
   "source": [
    "# 副本 & 视图\n",
    ">- 副本：List 的切片\n",
    ">- 视图：ndarray 的切片"
   ]
  },
  {
   "cell_type": "code",
   "execution_count": 55,
   "id": "ad6f0ebf",
   "metadata": {},
   "outputs": [
    {
     "name": "stdout",
     "output_type": "stream",
     "text": [
      "[1, 2, 3]\n",
      "[9, 9, 9]\n",
      "[0, 1, 2, 3, 4]\n"
     ]
    }
   ],
   "source": [
    "L = [0 , 1 , 2 , 3 , 4]\n",
    "subL = L[1 : 4]\n",
    "print(subL)\n",
    "\n",
    "subL[0] = 9\n",
    "subL[1] = 9\n",
    "subL[2] = 9\n",
    "\n",
    "print(subL)\n",
    "print(L)"
   ]
  },
  {
   "cell_type": "code",
   "execution_count": 56,
   "id": "204152f2",
   "metadata": {},
   "outputs": [
    {
     "name": "stdout",
     "output_type": "stream",
     "text": [
      "[1 2 3]\n",
      "[9 9 9]\n",
      "[0 9 9 9 4]\n"
     ]
    }
   ],
   "source": [
    "arr = np.array([0 , 1 , 2 , 3 , 4])\n",
    "subArr = arr[1 : 4]\n",
    "print(subArr)\n",
    "\n",
    "subArr[0] = 9\n",
    "subArr[1] = 9\n",
    "subArr[2] = 9\n",
    "\n",
    "print(subArr)\n",
    "print(arr)"
   ]
  },
  {
   "cell_type": "markdown",
   "id": "751953cf",
   "metadata": {},
   "source": [
    "# `copy()`"
   ]
  },
  {
   "cell_type": "code",
   "execution_count": 57,
   "id": "80619c45",
   "metadata": {},
   "outputs": [
    {
     "name": "stdout",
     "output_type": "stream",
     "text": [
      "[1 2 3]\n",
      "[9 9 9]\n",
      "[0 1 2 3 4]\n"
     ]
    }
   ],
   "source": [
    "arr = np.array([0 , 1 , 2 , 3 , 4])\n",
    "subArr = arr[1 : 4].copy()              # 切片时 .copy() 即可\n",
    "print(subArr)\n",
    "\n",
    "subArr[0] = 9\n",
    "subArr[1] = 9\n",
    "subArr[2] = 9\n",
    "\n",
    "print(subArr)\n",
    "print(arr)"
   ]
  },
  {
   "cell_type": "markdown",
   "id": "32161ff0",
   "metadata": {},
   "source": [
    "# 用于 `for` 循环"
   ]
  },
  {
   "cell_type": "code",
   "execution_count": 58,
   "id": "7cc201f4",
   "metadata": {},
   "outputs": [
    {
     "data": {
      "text/plain": [
       "array([1, 3, 5, 7])"
      ]
     },
     "execution_count": 58,
     "metadata": {},
     "output_type": "execute_result"
    }
   ],
   "source": [
    "arr = np.array([1 , 3 , 5 , 7])\n",
    "arr"
   ]
  },
  {
   "cell_type": "code",
   "execution_count": 59,
   "id": "0a273972",
   "metadata": {},
   "outputs": [
    {
     "data": {
      "text/plain": [
       "[2, 6, 10, 14]"
      ]
     },
     "execution_count": 59,
     "metadata": {},
     "output_type": "execute_result"
    }
   ],
   "source": [
    "L = [i * 2 for i in arr]\n",
    "L"
   ]
  },
  {
   "cell_type": "code",
   "execution_count": 60,
   "id": "6dc23aa2",
   "metadata": {},
   "outputs": [
    {
     "data": {
      "text/plain": [
       "list"
      ]
     },
     "execution_count": 60,
     "metadata": {},
     "output_type": "execute_result"
    }
   ],
   "source": [
    "type(L)"
   ]
  },
  {
   "cell_type": "code",
   "execution_count": 61,
   "id": "1c1fa255",
   "metadata": {},
   "outputs": [
    {
     "data": {
      "text/plain": [
       "numpy.int32"
      ]
     },
     "execution_count": 61,
     "metadata": {},
     "output_type": "execute_result"
    }
   ],
   "source": [
    "type(L[0])    # 数据类型没变"
   ]
  },
  {
   "cell_type": "markdown",
   "id": "cfedbc2f",
   "metadata": {},
   "source": [
    "# 缺省值 `np.nan`\n",
    ">- nan == not a number == NaN"
   ]
  },
  {
   "cell_type": "code",
   "execution_count": 62,
   "id": "f9e38996",
   "metadata": {},
   "outputs": [
    {
     "data": {
      "text/plain": [
       "float"
      ]
     },
     "execution_count": 62,
     "metadata": {},
     "output_type": "execute_result"
    }
   ],
   "source": [
    "X = np.nan\n",
    "type(X)"
   ]
  },
  {
   "cell_type": "code",
   "execution_count": 63,
   "id": "9fa01a08",
   "metadata": {},
   "outputs": [
    {
     "data": {
      "text/plain": [
       "False"
      ]
     },
     "execution_count": 63,
     "metadata": {},
     "output_type": "execute_result"
    }
   ],
   "source": [
    "X == np.nan"
   ]
  },
  {
   "cell_type": "code",
   "execution_count": 64,
   "id": "d1164dd1",
   "metadata": {},
   "outputs": [
    {
     "data": {
      "text/plain": [
       "True"
      ]
     },
     "execution_count": 64,
     "metadata": {},
     "output_type": "execute_result"
    }
   ],
   "source": [
    "np.isnan(X)"
   ]
  },
  {
   "cell_type": "code",
   "execution_count": 65,
   "id": "50e154ca",
   "metadata": {},
   "outputs": [],
   "source": [
    "import pandas as pd       # 用 Pandas 也可以检测出来 NaN"
   ]
  },
  {
   "cell_type": "code",
   "execution_count": 66,
   "id": "2bfaa0c5",
   "metadata": {},
   "outputs": [
    {
     "data": {
      "text/plain": [
       "True"
      ]
     },
     "execution_count": 66,
     "metadata": {},
     "output_type": "execute_result"
    }
   ],
   "source": [
    "pd.isnull(X)"
   ]
  },
  {
   "cell_type": "code",
   "execution_count": 67,
   "id": "a1ea3ba9",
   "metadata": {},
   "outputs": [
    {
     "data": {
      "text/plain": [
       "False"
      ]
     },
     "execution_count": 67,
     "metadata": {},
     "output_type": "execute_result"
    }
   ],
   "source": [
    "pd.notnull(X)"
   ]
  },
  {
   "cell_type": "markdown",
   "id": "f3e6f383",
   "metadata": {},
   "source": [
    "# 一维 `ndarray` 的拼接"
   ]
  },
  {
   "cell_type": "code",
   "execution_count": 68,
   "id": "af4c67d7",
   "metadata": {},
   "outputs": [],
   "source": [
    "data1 = np.array([1 , 2 , 3])\n",
    "data2 = np.array([4 , 5])\n",
    "data3 = np.array([6 , 7 , 8])"
   ]
  },
  {
   "cell_type": "markdown",
   "id": "9317ebda",
   "metadata": {},
   "source": [
    "## 横向\n",
    ">- `r` 可以理解为 `row`"
   ]
  },
  {
   "cell_type": "code",
   "execution_count": 69,
   "id": "55dbd40f",
   "metadata": {},
   "outputs": [
    {
     "data": {
      "text/plain": [
       "array([1, 2, 3, 4, 5])"
      ]
     },
     "execution_count": 69,
     "metadata": {},
     "output_type": "execute_result"
    }
   ],
   "source": [
    "np.r_[data1 , data2]"
   ]
  },
  {
   "cell_type": "code",
   "execution_count": 70,
   "id": "87027ff2",
   "metadata": {},
   "outputs": [
    {
     "data": {
      "text/plain": [
       "array([1, 2, 3, 6, 7, 8])"
      ]
     },
     "execution_count": 70,
     "metadata": {},
     "output_type": "execute_result"
    }
   ],
   "source": [
    "np.r_[data1 , data3]"
   ]
  },
  {
   "cell_type": "code",
   "execution_count": 71,
   "id": "7c33d222",
   "metadata": {},
   "outputs": [
    {
     "data": {
      "text/plain": [
       "array([1, 2, 3, 4, 5, 6, 7, 8])"
      ]
     },
     "execution_count": 71,
     "metadata": {},
     "output_type": "execute_result"
    }
   ],
   "source": [
    "np.r_[data1 , data2 , data3]"
   ]
  },
  {
   "cell_type": "markdown",
   "id": "e6698fe5",
   "metadata": {},
   "source": [
    "## 列向\n",
    ">- `c` 可以理解为 `col`"
   ]
  },
  {
   "cell_type": "code",
   "execution_count": 72,
   "id": "4f5310f9",
   "metadata": {
    "scrolled": true
   },
   "outputs": [
    {
     "data": {
      "text/plain": [
       "array([[1, 6],\n",
       "       [2, 7],\n",
       "       [3, 8]])"
      ]
     },
     "execution_count": 72,
     "metadata": {},
     "output_type": "execute_result"
    }
   ],
   "source": [
    "np.c_[data1 , data3]"
   ]
  },
  {
   "cell_type": "code",
   "execution_count": 73,
   "id": "d71ea21a",
   "metadata": {},
   "outputs": [
    {
     "data": {
      "text/plain": [
       "array([[1, 4],\n",
       "       [2, 5],\n",
       "       [3, 6]])"
      ]
     },
     "execution_count": 73,
     "metadata": {},
     "output_type": "execute_result"
    }
   ],
   "source": [
    "np.c_[data1 , np.r_[data2 , np.array([6])]]"
   ]
  },
  {
   "cell_type": "markdown",
   "id": "9e3a3a38",
   "metadata": {},
   "source": [
    "## 纵向"
   ]
  },
  {
   "cell_type": "code",
   "execution_count": 74,
   "id": "9121582d",
   "metadata": {},
   "outputs": [
    {
     "data": {
      "text/plain": [
       "array([[1, 2, 3]])"
      ]
     },
     "execution_count": 74,
     "metadata": {},
     "output_type": "execute_result"
    }
   ],
   "source": [
    "data1.reshape(1 , -1)   # 先升维"
   ]
  },
  {
   "cell_type": "code",
   "execution_count": 75,
   "id": "b1ba43a5",
   "metadata": {},
   "outputs": [
    {
     "data": {
      "text/plain": [
       "array([[6, 7, 8]])"
      ]
     },
     "execution_count": 75,
     "metadata": {},
     "output_type": "execute_result"
    }
   ],
   "source": [
    "data3.reshape(1 , -1)   # 先升维"
   ]
  },
  {
   "cell_type": "code",
   "execution_count": 76,
   "id": "1479e8bc",
   "metadata": {},
   "outputs": [
    {
     "data": {
      "text/plain": [
       "array([[1, 2, 3],\n",
       "       [6, 7, 8]])"
      ]
     },
     "execution_count": 76,
     "metadata": {},
     "output_type": "execute_result"
    }
   ],
   "source": [
    "data = np.r_[data1.reshape(1 , -1) , data3.reshape(1 , -1)]  # 再使用横向\n",
    "data"
   ]
  },
  {
   "cell_type": "code",
   "execution_count": 77,
   "id": "bde5f26a",
   "metadata": {},
   "outputs": [
    {
     "data": {
      "text/plain": [
       "(2, 3)"
      ]
     },
     "execution_count": 77,
     "metadata": {},
     "output_type": "execute_result"
    }
   ],
   "source": [
    "data.shape"
   ]
  },
  {
   "cell_type": "markdown",
   "id": "75f31f6e",
   "metadata": {},
   "source": [
    "# 二维 `ndarray` 的拼接"
   ]
  },
  {
   "cell_type": "markdown",
   "id": "522a8be8",
   "metadata": {},
   "source": [
    "## 横向\n",
    ">- 要求第一维：即行数相同\n",
    ">- 增加第二维：即列数"
   ]
  },
  {
   "cell_type": "code",
   "execution_count": 78,
   "id": "cbb6bb3e",
   "metadata": {},
   "outputs": [
    {
     "name": "stdout",
     "output_type": "stream",
     "text": [
      "[[1 1 1]\n",
      " [2 2 2]]\n",
      "[[3 3]\n",
      " [4 4]]\n",
      "[[5]\n",
      " [5]]\n"
     ]
    }
   ],
   "source": [
    "a = np.array([[1 , 1 , 1] , [2 , 2 , 2]])\n",
    "b = np.array([[3 , 3] , [4 , 4]])\n",
    "c = np.array([[5] , [5]])\n",
    "print(a)\n",
    "print(b)\n",
    "print(c)"
   ]
  },
  {
   "cell_type": "code",
   "execution_count": 79,
   "id": "c494357b",
   "metadata": {},
   "outputs": [
    {
     "data": {
      "text/plain": [
       "array([[1, 1, 1, 5, 3, 3],\n",
       "       [2, 2, 2, 5, 4, 4]])"
      ]
     },
     "execution_count": 79,
     "metadata": {},
     "output_type": "execute_result"
    }
   ],
   "source": [
    "np.c_[a , c , b]"
   ]
  },
  {
   "cell_type": "markdown",
   "id": "f7a2b0f9",
   "metadata": {},
   "source": [
    "## 纵向\n",
    ">- 要求第二维：即列数相同\n",
    ">- 增加第一维：即行数"
   ]
  },
  {
   "cell_type": "code",
   "execution_count": 80,
   "id": "71372c64",
   "metadata": {},
   "outputs": [
    {
     "name": "stdout",
     "output_type": "stream",
     "text": [
      "[[1 1 1]\n",
      " [2 2 2]\n",
      " [3 3 3]]\n",
      "[[4 4 4]\n",
      " [5 5 5]]\n",
      "[[6 6 6]]\n"
     ]
    }
   ],
   "source": [
    "a = np.array([[1 , 1 , 1] , [2 , 2 , 2] , [3 , 3 , 3]])\n",
    "b = np.array([[4 , 4 , 4] , [5 , 5 , 5]])\n",
    "c = np.array([[6 , 6 , 6]])\n",
    "print(a)\n",
    "print(b)\n",
    "print(c)"
   ]
  },
  {
   "cell_type": "code",
   "execution_count": 81,
   "id": "66cbac50",
   "metadata": {},
   "outputs": [
    {
     "data": {
      "text/plain": [
       "array([[1, 1, 1],\n",
       "       [2, 2, 2],\n",
       "       [3, 3, 3],\n",
       "       [6, 6, 6],\n",
       "       [4, 4, 4],\n",
       "       [5, 5, 5]])"
      ]
     },
     "execution_count": 81,
     "metadata": {},
     "output_type": "execute_result"
    }
   ],
   "source": [
    "np.r_[a , c , b]"
   ]
  },
  {
   "cell_type": "code",
   "execution_count": null,
   "id": "2ebe7d29",
   "metadata": {},
   "outputs": [],
   "source": []
  },
  {
   "cell_type": "code",
   "execution_count": null,
   "id": "16d238b4",
   "metadata": {},
   "outputs": [],
   "source": []
  },
  {
   "cell_type": "markdown",
   "id": "40805404",
   "metadata": {},
   "source": [
    "# 扁平化为一维"
   ]
  },
  {
   "cell_type": "markdown",
   "id": "61a88beb",
   "metadata": {},
   "source": [
    "## 视图 `ravel()`\n",
    ">- 修改影响原 data"
   ]
  },
  {
   "cell_type": "code",
   "execution_count": 82,
   "id": "5abd94c9",
   "metadata": {},
   "outputs": [
    {
     "name": "stdout",
     "output_type": "stream",
     "text": [
      "(2, 3, 2)\n"
     ]
    },
    {
     "data": {
      "text/plain": [
       "array([[[ 1,  2],\n",
       "        [ 3,  4],\n",
       "        [ 5,  6]],\n",
       "\n",
       "       [[ 7,  8],\n",
       "        [ 9, 10],\n",
       "        [11, 12]]])"
      ]
     },
     "execution_count": 82,
     "metadata": {},
     "output_type": "execute_result"
    }
   ],
   "source": [
    "data = np.arange(1 , 13).reshape(2 , 3 , 2)\n",
    "print(data.shape)\n",
    "data"
   ]
  },
  {
   "cell_type": "code",
   "execution_count": 83,
   "id": "c32a9e87",
   "metadata": {},
   "outputs": [
    {
     "name": "stdout",
     "output_type": "stream",
     "text": [
      "(12,)\n"
     ]
    },
    {
     "data": {
      "text/plain": [
       "array([ 1,  2,  3,  4,  5,  6,  7,  8,  9, 10, 11, 12])"
      ]
     },
     "execution_count": 83,
     "metadata": {},
     "output_type": "execute_result"
    }
   ],
   "source": [
    "dataR = data.ravel()\n",
    "print(dataR.shape)\n",
    "dataR"
   ]
  },
  {
   "cell_type": "code",
   "execution_count": 84,
   "id": "e9152568",
   "metadata": {},
   "outputs": [
    {
     "name": "stdout",
     "output_type": "stream",
     "text": [
      "[[[  1   2]\n",
      "  [  3   4]\n",
      "  [999   6]]\n",
      "\n",
      " [[  7   8]\n",
      "  [  9  10]\n",
      "  [ 11  12]]]\n",
      "[  1   2   3   4 999   6   7   8   9  10  11  12]\n"
     ]
    }
   ],
   "source": [
    "dataR[4] = 999\n",
    "print(data)\n",
    "print(dataR)"
   ]
  },
  {
   "cell_type": "markdown",
   "id": "99cb9a3c",
   "metadata": {},
   "source": [
    "## 副本 `flatten()`\n",
    ">- 修改不影响原 data"
   ]
  },
  {
   "cell_type": "code",
   "execution_count": 85,
   "id": "21d49288",
   "metadata": {},
   "outputs": [
    {
     "name": "stdout",
     "output_type": "stream",
     "text": [
      "(2, 3, 2)\n"
     ]
    },
    {
     "data": {
      "text/plain": [
       "array([[[ 1,  2],\n",
       "        [ 3,  4],\n",
       "        [ 5,  6]],\n",
       "\n",
       "       [[ 7,  8],\n",
       "        [ 9, 10],\n",
       "        [11, 12]]])"
      ]
     },
     "execution_count": 85,
     "metadata": {},
     "output_type": "execute_result"
    }
   ],
   "source": [
    "data = np.arange(1 , 13).reshape(2 , 3 , 2)\n",
    "print(data.shape)\n",
    "data"
   ]
  },
  {
   "cell_type": "code",
   "execution_count": 86,
   "id": "794e5590",
   "metadata": {},
   "outputs": [
    {
     "name": "stdout",
     "output_type": "stream",
     "text": [
      "(12,)\n"
     ]
    },
    {
     "data": {
      "text/plain": [
       "array([ 1,  2,  3,  4,  5,  6,  7,  8,  9, 10, 11, 12])"
      ]
     },
     "execution_count": 86,
     "metadata": {},
     "output_type": "execute_result"
    }
   ],
   "source": [
    "dataF = data.flatten()\n",
    "print(dataF.shape)\n",
    "dataF"
   ]
  },
  {
   "cell_type": "code",
   "execution_count": 87,
   "id": "99b98940",
   "metadata": {},
   "outputs": [
    {
     "name": "stdout",
     "output_type": "stream",
     "text": [
      "[[[ 1  2]\n",
      "  [ 3  4]\n",
      "  [ 5  6]]\n",
      "\n",
      " [[ 7  8]\n",
      "  [ 9 10]\n",
      "  [11 12]]]\n",
      "[  1   2   3   4 111   6   7   8   9  10  11  12]\n"
     ]
    }
   ],
   "source": [
    "dataF[4] = 111\n",
    "print(data)\n",
    "print(dataF)"
   ]
  },
  {
   "cell_type": "markdown",
   "id": "98edcbe1",
   "metadata": {},
   "source": [
    "# `meshgrid()`\n",
    ">- 坐标配对"
   ]
  },
  {
   "cell_type": "code",
   "execution_count": 88,
   "id": "f828a00b",
   "metadata": {},
   "outputs": [],
   "source": [
    "x = [1 , 2 , 3]\n",
    "y = [33 , 99]"
   ]
  },
  {
   "cell_type": "code",
   "execution_count": 89,
   "id": "cf347fae",
   "metadata": {},
   "outputs": [],
   "source": [
    "# x 中每一个值和 y 中每一个值一一配对成点 (x , y)\n",
    "# 将所有点的 x 坐标存储到 X 中\n",
    "# 将所有点的 y 坐标存储到 Y 中\n",
    "\n",
    "X , Y = np.meshgrid(x , y)"
   ]
  },
  {
   "cell_type": "code",
   "execution_count": 90,
   "id": "f54fa82b",
   "metadata": {},
   "outputs": [],
   "source": [
    "# 所有点对如下\n",
    "# (1 , 33)(2 , 33)(3 , 33)\n",
    "# (1 , 99)(2 , 99)(3 , 99)"
   ]
  },
  {
   "cell_type": "code",
   "execution_count": 91,
   "id": "a4e2c780",
   "metadata": {},
   "outputs": [
    {
     "data": {
      "text/plain": [
       "array([[1, 2, 3],\n",
       "       [1, 2, 3]])"
      ]
     },
     "execution_count": 91,
     "metadata": {},
     "output_type": "execute_result"
    }
   ],
   "source": [
    "X"
   ]
  },
  {
   "cell_type": "code",
   "execution_count": 92,
   "id": "33ab70e9",
   "metadata": {},
   "outputs": [
    {
     "data": {
      "text/plain": [
       "array([[33, 33, 33],\n",
       "       [99, 99, 99]])"
      ]
     },
     "execution_count": 92,
     "metadata": {},
     "output_type": "execute_result"
    }
   ],
   "source": [
    "Y"
   ]
  },
  {
   "cell_type": "markdown",
   "id": "8beb340e",
   "metadata": {},
   "source": [
    "# 降维\n",
    ">- 将维度大小为 1 的维度消除掉\n",
    ">- 是视图降维：与原数组共享同一份内存，但维度降低，更加方便取值 、绘图"
   ]
  },
  {
   "cell_type": "code",
   "execution_count": 93,
   "id": "c18fca0c",
   "metadata": {},
   "outputs": [
    {
     "data": {
      "text/plain": [
       "array([[1, 2, 3],\n",
       "       [4, 5, 6],\n",
       "       [7, 8, 9]])"
      ]
     },
     "execution_count": 93,
     "metadata": {},
     "output_type": "execute_result"
    }
   ],
   "source": [
    "arr = np.arange(1 , 10).reshape(3 , 3)\n",
    "arr"
   ]
  },
  {
   "cell_type": "code",
   "execution_count": 94,
   "id": "7a51bee9",
   "metadata": {},
   "outputs": [
    {
     "data": {
      "text/plain": [
       "(3, 3)"
      ]
     },
     "execution_count": 94,
     "metadata": {},
     "output_type": "execute_result"
    }
   ],
   "source": [
    "arrS = np.squeeze(arr)     # 没有大小为 1 的维度\n",
    "arrS.shape"
   ]
  },
  {
   "cell_type": "code",
   "execution_count": 95,
   "id": "f6d8df52",
   "metadata": {},
   "outputs": [
    {
     "data": {
      "text/plain": [
       "array([[[[[1],\n",
       "          [2],\n",
       "          [3]]],\n",
       "\n",
       "\n",
       "        [[[4],\n",
       "          [5],\n",
       "          [6]]],\n",
       "\n",
       "\n",
       "        [[[7],\n",
       "          [8],\n",
       "          [9]]]]])"
      ]
     },
     "execution_count": 95,
     "metadata": {},
     "output_type": "execute_result"
    }
   ],
   "source": [
    "arr = arr.reshape(1 , 3 , 1 , 3 , 1)\n",
    "arr"
   ]
  },
  {
   "cell_type": "code",
   "execution_count": 96,
   "id": "b64fe22d",
   "metadata": {},
   "outputs": [
    {
     "data": {
      "text/plain": [
       "(3, 3)"
      ]
     },
     "execution_count": 96,
     "metadata": {},
     "output_type": "execute_result"
    }
   ],
   "source": [
    "arrS = np.squeeze(arr)        # 未指定维度编号，消除所有大小为 1 的维度\n",
    "arrS.shape"
   ]
  },
  {
   "cell_type": "code",
   "execution_count": 97,
   "id": "ed564273",
   "metadata": {},
   "outputs": [
    {
     "name": "stdout",
     "output_type": "stream",
     "text": [
      "[[[[[9999]\n",
      "    [   2]\n",
      "    [   3]]]\n",
      "\n",
      "\n",
      "  [[[   4]\n",
      "    [   5]\n",
      "    [   6]]]\n",
      "\n",
      "\n",
      "  [[[   7]\n",
      "    [   8]\n",
      "    [   9]]]]]\n",
      "[[9999    2    3]\n",
      " [   4    5    6]\n",
      " [   7    8    9]]\n"
     ]
    }
   ],
   "source": [
    "arr[0 , 0 , 0 , 0 , 0] = 9999   # 修改互相影响\n",
    "print(arr)\n",
    "print(arrS)"
   ]
  },
  {
   "cell_type": "code",
   "execution_count": 98,
   "id": "8d369d2c",
   "metadata": {},
   "outputs": [
    {
     "name": "stdout",
     "output_type": "stream",
     "text": [
      "[[[[[9999]\n",
      "    [   2]\n",
      "    [   3]]]\n",
      "\n",
      "\n",
      "  [[[   4]\n",
      "    [8888]\n",
      "    [   6]]]\n",
      "\n",
      "\n",
      "  [[[   7]\n",
      "    [   8]\n",
      "    [   9]]]]]\n",
      "[[9999    2    3]\n",
      " [   4 8888    6]\n",
      " [   7    8    9]]\n"
     ]
    }
   ],
   "source": [
    "arrS[1 , 1] = 8888      # 修改互相影响\n",
    "print(arr)\n",
    "print(arrS)"
   ]
  },
  {
   "cell_type": "code",
   "execution_count": 99,
   "id": "02c7b22a",
   "metadata": {},
   "outputs": [
    {
     "name": "stdout",
     "output_type": "stream",
     "text": [
      "(1, 3, 1, 3, 1)\n",
      "(3, 1, 3, 1)\n"
     ]
    }
   ],
   "source": [
    "arrS = np.squeeze(arr , 0)       # 消除维度编号 0 （从 0 开始），需保证指定编号的维度大小为 1\n",
    "print(arr.shape)\n",
    "print(arrS.shape)"
   ]
  },
  {
   "cell_type": "code",
   "execution_count": 100,
   "id": "e8d27011",
   "metadata": {},
   "outputs": [
    {
     "name": "stdout",
     "output_type": "stream",
     "text": [
      "(1, 3, 1, 3, 1)\n",
      "(1, 3, 3, 1)\n"
     ]
    }
   ],
   "source": [
    "arrS = np.squeeze(arr , 2)       # 消除维度编号 2 （从 0 开始）\n",
    "print(arr.shape)\n",
    "print(arrS.shape)"
   ]
  },
  {
   "cell_type": "code",
   "execution_count": 101,
   "id": "55a7346d",
   "metadata": {},
   "outputs": [
    {
     "name": "stdout",
     "output_type": "stream",
     "text": [
      "(1, 3, 1, 3, 1)\n",
      "(1, 3, 1, 3)\n"
     ]
    }
   ],
   "source": [
    "arrS = np.squeeze(arr , 4)       # 消除维度编号 4 （从 0 开始）\n",
    "print(arr.shape)\n",
    "print(arrS.shape)"
   ]
  }
 ],
 "metadata": {
  "kernelspec": {
   "display_name": "MathBert",
   "language": "python",
   "name": "mathbert"
  },
  "language_info": {
   "codemirror_mode": {
    "name": "ipython",
    "version": 3
   },
   "file_extension": ".py",
   "mimetype": "text/x-python",
   "name": "python",
   "nbconvert_exporter": "python",
   "pygments_lexer": "ipython3",
   "version": "3.9.12"
  },
  "toc": {
   "base_numbering": 1,
   "nav_menu": {},
   "number_sections": false,
   "sideBar": true,
   "skip_h1_title": false,
   "title_cell": "Table of Contents",
   "title_sidebar": "Contents",
   "toc_cell": false,
   "toc_position": {
    "height": "calc(100% - 180px)",
    "left": "10px",
    "top": "150px",
    "width": "165px"
   },
   "toc_section_display": true,
   "toc_window_display": true
  }
 },
 "nbformat": 4,
 "nbformat_minor": 5
}
