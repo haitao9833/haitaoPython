{
 "cells": [
  {
   "cell_type": "markdown",
   "id": "0f346eff",
   "metadata": {},
   "source": [
    "# 默认代码"
   ]
  },
  {
   "cell_type": "code",
   "execution_count": null,
   "id": "98b41b33",
   "metadata": {},
   "outputs": [],
   "source": [
    "from IPython.display import display\n",
    "import warnings\n",
    "warnings.filterwarnings(\"ignore\")"
   ]
  },
  {
   "cell_type": "code",
   "execution_count": null,
   "id": "fa492449",
   "metadata": {},
   "outputs": [],
   "source": [
    "import numpy as np\n",
    "import pandas as pd                 # pd._libs.tslibs.timestamps.Timestamp\n",
    "import torch"
   ]
  },
  {
   "cell_type": "code",
   "execution_count": null,
   "id": "928a03cb",
   "metadata": {},
   "outputs": [],
   "source": [
    "from datetime import datetime       # datetime.datetime\n",
    "from datetime import timedelta\n",
    "import time"
   ]
  },
  {
   "cell_type": "markdown",
   "id": "f6ab4900",
   "metadata": {},
   "source": [
    "# 路径拼接\n",
    ">- 当前 .py 文件或 .ipynb 文件所在的文件夹目录\n",
    ">- 两种方式见文件 D:\\_Code\\LJR_HMS\\MyFirstPyCharmPath\\TEST.py\n",
    ">  - 使用按钮运行代码（同 jupyter notebook）\n",
    ">  - 使用终端运行代码（工作路径为当前项目目录）\n",
    ">- 三杆路径 `_ _ _DATA`"
   ]
  },
  {
   "cell_type": "code",
   "execution_count": null,
   "id": "8369eda2",
   "metadata": {},
   "outputs": [],
   "source": [
    "import os"
   ]
  },
  {
   "cell_type": "markdown",
   "id": "59246256",
   "metadata": {},
   "source": [
    "# 属性\n",
    ">- DataFrame 的属性"
   ]
  },
  {
   "cell_type": "code",
   "execution_count": null,
   "id": "a29fe174",
   "metadata": {},
   "outputs": [],
   "source": [
    "def shp(_):\n",
    "    if type(_) == pd.core.frame.DataFrame:\n",
    "        ss = f'({_.shape[0]:5d} , {_.shape[1]:5d})'\n",
    "        print(f'{ss:<25s}   {type(_)}')\n",
    "    elif type(_) == torch.Tensor or type(_) == np.ndarray:\n",
    "        print(f'{str(_.shape):<25s}   {type(_)}')\n",
    "    elif type(_) == list or type(_) == tuple:\n",
    "        print(f'{len(_):<25d}   {type(_)}')\n",
    "    else:\n",
    "        print(f'type {type(_)} has no shape!')\n",
    "\n",
    "def other_shp(_):\n",
    "    if type(_) == pd.core.frame.DataFrame:\n",
    "        print(f'line = {len(_):5d}' , end = '    ')       # 行\n",
    "        print(f'size = {_.size:5d}')                      # 行 × 列\n",
    "\n",
    "\n",
    "def col(data):\n",
    "    cols = data.columns.values\n",
    "    # print(f'{str(type(cols)):<25s}     {cols}')\n",
    "    print('--------------------------------------------------------')\n",
    "    for c in cols:\n",
    "        print(f'{str(type(data.iloc[0][c])):<25s}     {c:^15s}')\n",
    "    print('--------------------------------------------------------')\n",
    "    return cols"
   ]
  },
  {
   "cell_type": "markdown",
   "id": "49ac4983",
   "metadata": {},
   "source": [
    "# 搜索\n",
    ">- 在 DataFrame 的指定列 col 中搜索指定列值的行"
   ]
  },
  {
   "cell_type": "code",
   "execution_count": null,
   "id": "436f10e3",
   "metadata": {},
   "outputs": [],
   "source": [
    "# 1、ch == int\n",
    "# 2、ch in String\n",
    "# 3、ch in List\n",
    "def exist(ch , src):\n",
    "    if isinstance(ch , int) and isinstance(src , int):\n",
    "        return ch == src\n",
    "    else:\n",
    "        return ch in src"
   ]
  },
  {
   "cell_type": "code",
   "execution_count": null,
   "id": "1468731a",
   "metadata": {},
   "outputs": [],
   "source": [
    "# cols 为 DataFrame 的一列或多列 DataFrame\n",
    "# src 为 cols 中的列名，在该列中搜索 ch\n",
    "def find_ch_in_cols(cols , src , ch):\n",
    "    res = pd.DataFrame()\n",
    "    res[cols.columns] = cols\n",
    "    res['exist'] = res.apply(lambda row : exist(ch , row[src]) , axis = 1)\n",
    "    return res[res['exist'] == True]"
   ]
  },
  {
   "cell_type": "code",
   "execution_count": null,
   "id": "816aae05",
   "metadata": {},
   "outputs": [],
   "source": [
    "# 按 chs 的顺序拼接行\n",
    "# 注意，若 chs 里面有 ch1 和 ch2 都出现在同一行中，则该行会重复拼接到 res 中，可依据隐式行索引观察到\n",
    "def find_chs_in_cols(cols , src , chs):\n",
    "    res = pd.DataFrame()\n",
    "    for ch in chs:\n",
    "        res = pd.concat([res , find_ch_in_cols(cols , src , ch)])\n",
    "        # reset_Idx(res)\n",
    "    return res"
   ]
  },
  {
   "cell_type": "markdown",
   "id": "99585539",
   "metadata": {},
   "source": [
    "# 重置隐式行索引\n",
    ">- 拼接或排序后"
   ]
  },
  {
   "cell_type": "code",
   "execution_count": null,
   "id": "475741f4",
   "metadata": {},
   "outputs": [],
   "source": [
    "def reset_Idx(data):\n",
    "    data.reset_index(drop = True , inplace = True)"
   ]
  },
  {
   "cell_type": "markdown",
   "id": "36cb57b0",
   "metadata": {},
   "source": [
    "# 比较\n",
    ">- 比较 DataFrame 的两列\n",
    ">- [px 的使用]https://www.cnblogs.com/Mangnolia/p/14308471.html\n",
    ">- [px 的使用]https://blog.csdn.net/qq_25443541/article/details/115603480\n",
    ">- [px 的使用]https://blog.csdn.net/lemonbit/article/details/119012201"
   ]
  },
  {
   "cell_type": "code",
   "execution_count": null,
   "id": "241980ae",
   "metadata": {},
   "outputs": [],
   "source": [
    "import plotly.express as px"
   ]
  },
  {
   "cell_type": "code",
   "execution_count": null,
   "id": "4ea163db",
   "metadata": {},
   "outputs": [],
   "source": [
    "# int == int\n",
    "# String == String\n",
    "def isSame(a, b):\n",
    "    if a == b:\n",
    "        return True\n",
    "    else:\n",
    "        return False"
   ]
  },
  {
   "cell_type": "code",
   "execution_count": null,
   "id": "554ffd2f",
   "metadata": {},
   "outputs": [],
   "source": [
    "# col1 为 DataFrame 的一列 Series\n",
    "# col2 为 DataFrame 的一列 Series\n",
    "def diff_Pie(col1 , col2):\n",
    "    tmp = pd.DataFrame()\n",
    "    tmp['one'] = col1\n",
    "    tmp['two'] = col2\n",
    "    tmp['same'] = tmp.apply(lambda row : isSame(row['one'] , row['two']) , axis = 1)\n",
    "    \n",
    "    cnt = tmp['same'].value_counts().reset_index()\n",
    "    cnt.columns = ['same' , 'cnt']\n",
    "    display(cnt)\n",
    "    \n",
    "    fig = px.pie(\n",
    "        cnt ,\n",
    "        names = 'same',        # 划分块，即每个扇形的意义\n",
    "        values = 'cnt',        # 算占比，即每个扇形的占比\n",
    "        title = f'Are the [{col1.name}] as same as the [{col2.name}] ?' , \n",
    "    )\n",
    "    \n",
    "    # 文本信息水平显示\n",
    "    fig.update_traces(textposition = 'inside', \n",
    "                      textinfo = 'percent+label' , \n",
    "                      insidetextorientation = 'horizontal')\n",
    "    \n",
    "    fig.show()\n",
    "    \n",
    "    return tmp , cnt"
   ]
  },
  {
   "cell_type": "markdown",
   "id": "b7a3efa4",
   "metadata": {},
   "source": [
    "# 统计"
   ]
  },
  {
   "cell_type": "markdown",
   "id": "74248b1a",
   "metadata": {},
   "source": [
    "## 列值个数\n",
    ">- DataFrame 指定列的列值统计情况\n",
    ">- 自动忽略 NaN 值，且有 NaN 的那一列若为数值，则会自动转换为 float 类型"
   ]
  },
  {
   "cell_type": "code",
   "execution_count": null,
   "id": "34acfc62",
   "metadata": {},
   "outputs": [],
   "source": [
    "# col 为 DataFrame 的一列 Series\n",
    "def val_cnt(col):\n",
    "    cnt = col.value_counts().reset_index()\n",
    "    cnt.columns = [col.name , 'cnt']\n",
    "    cnt = cnt.sort_values(by = 'cnt' , ascending = False)    # 按 cnt 降序排列\n",
    "    cnt['proportion'] = cnt.apply(lambda row : f\"{(row['cnt'] / sum(cnt['cnt'])):6.2%}\" , axis = 1)\n",
    "    return cnt"
   ]
  },
  {
   "cell_type": "markdown",
   "id": "c0ecd5a4",
   "metadata": {},
   "source": [
    "## 长度分布\n",
    ">- 对于 int 列来说的列值统计分布情况"
   ]
  },
  {
   "cell_type": "code",
   "execution_count": null,
   "id": "5eb65944",
   "metadata": {},
   "outputs": [],
   "source": [
    "# col 为 DataFrame 的一列 Series 且为 int 数值类型\n",
    "def val_cnt_int(col):\n",
    "    cnt = val_cnt(col)\n",
    "    fig = px.bar(cnt , \n",
    "                 x = f'{col.name}', \n",
    "                 y = 'cnt' , \n",
    "                 title = f'The distribution of {col.name}')\n",
    "    fig.show()"
   ]
  },
  {
   "cell_type": "markdown",
   "id": "a07ff426",
   "metadata": {},
   "source": [
    "## 元素组成\n",
    ">- 适用于 String 、List 列\n",
    ">   - String 中的每一个字符的统计\n",
    ">   - List 中每一个元素的统计"
   ]
  },
  {
   "cell_type": "code",
   "execution_count": null,
   "id": "93a97633",
   "metadata": {},
   "outputs": [],
   "source": [
    "# col 为 DataFrame 的一列 Series\n",
    "def get_all_chs(col):\n",
    "    \n",
    "    chs = set()\n",
    "    dic = dict()\n",
    "    \n",
    "    # Series  ==>  ndarray\n",
    "    val = col.values\n",
    "    \n",
    "    # 对每一个列值\n",
    "    for e in val:\n",
    "        # 对该列值的每一个组成元素\n",
    "        for ch in e:\n",
    "            chs.add(ch)\n",
    "            if ch in dic.keys():\n",
    "                dic[ch] += 1\n",
    "            else:\n",
    "                dic[ch] = 1\n",
    "    \n",
    "    \n",
    "    # Set  ==>  List  ==>  排序\n",
    "    chs = list(chs)\n",
    "    chs.sort()\n",
    "    \n",
    "    \n",
    "    # Dictionary  ==>  DataFrame  ==>  按 cnt 列降序排序\n",
    "    dicf = pd.DataFrame.from_dict(dic , orient = 'index').reset_index()\n",
    "    dicf.columns = ['ch' , 'cnt']\n",
    "    dicf = dicf.sort_values(by = 'cnt' , ascending = False)\n",
    "    \n",
    "    \n",
    "    # List , Dictionary , DataFrame\n",
    "    return chs , dic , dicf"
   ]
  },
  {
   "cell_type": "markdown",
   "id": "40a26cb7",
   "metadata": {},
   "source": [
    "# 存储一\n",
    ">- 将 List 存储为 Text 文件\n",
    ">- 除了读取，其他任何操作都不要在打开文件的情况下进行"
   ]
  },
  {
   "cell_type": "code",
   "execution_count": null,
   "id": "24e5d056",
   "metadata": {},
   "outputs": [],
   "source": [
    "pre_path_text = r''"
   ]
  },
  {
   "cell_type": "markdown",
   "id": "70b5c448",
   "metadata": {},
   "source": [
    "## 读\n",
    ">- 指定的 fileName.txt 文件必须预先存在\n",
    ">- 注意\n",
    ">   - 用 Enter 、Space 、Tab 按键按出来的 \\n 、空白、\\t 会消除掉\n",
    ">   - 用键盘打印出来的 \\n \\r \\t 不会消除掉\n",
    ">- 在 String 中\n",
    ">   - 每个中文字符算 1 个长度\n",
    ">   - 每个转义字符算 1 个长度"
   ]
  },
  {
   "cell_type": "code",
   "execution_count": null,
   "id": "e87d8670",
   "metadata": {},
   "outputs": [],
   "source": [
    "# lines  ==  List  ==  ['第一行' , '第二行' , '第三行' , ...]\n",
    "def read_txt(fileName):\n",
    "    \n",
    "    path = pre_path_text + f'\\\\{fileName}' + '.txt'\n",
    "    \n",
    "    with open(path , 'r' , encoding = 'utf-8') as file:\n",
    "        lines = file.readlines()\n",
    "        lines = [line.strip() for line in lines]                       # 去除每一行首尾空白 + \\n + \\t + \\r\n",
    "        lines = [line for line in lines if (len(line) != 0)]           # 去除空字符串\n",
    "        lines = [line for line in lines if (line.isspace() != True)]   # 去除空白行\n",
    "        return lines"
   ]
  },
  {
   "cell_type": "markdown",
   "id": "1041e928",
   "metadata": {},
   "source": [
    "## 写\n",
    ">- 自动创建 fileName.txt 文件（追加也如是）\n",
    ">- 覆盖追加 fileName.txt 文件（文件已经存在的情况下）"
   ]
  },
  {
   "cell_type": "code",
   "execution_count": null,
   "id": "e537da80",
   "metadata": {},
   "outputs": [],
   "source": [
    "# 直接覆盖\n",
    "def cover_txt(lines , fileName):\n",
    "    \n",
    "    path = pre_path_text + f'\\\\{fileName}' + '.txt'\n",
    "    \n",
    "    with open(path , 'w' , encoding = 'utf-8') as file:\n",
    "        for line  in lines:\n",
    "            file.write(line)\n",
    "            file.write('\\n')         # 自带文件关闭功能，无需要再写 file.close()\n",
    "    \n",
    "    print(f\"Create or Cover file '{path}'\")"
   ]
  },
  {
   "cell_type": "code",
   "execution_count": null,
   "id": "145997b6",
   "metadata": {},
   "outputs": [],
   "source": [
    "# 末尾追加\n",
    "def append_txt(lines , fileName):\n",
    "    \n",
    "    path = pre_path_text + f'\\\\{fileName}' + '.txt'\n",
    "    \n",
    "    with open(path , 'a' , encoding = 'utf-8') as file:\n",
    "        file.write('\\n')\n",
    "        for line  in lines:\n",
    "            file.write(line)\n",
    "            file.write('\\n')         # 自带文件关闭功能，无需要再写 file.close()\n",
    "    \n",
    "    print(f\"Append file '{path}'\")"
   ]
  },
  {
   "cell_type": "markdown",
   "id": "19c679be",
   "metadata": {},
   "source": [
    "# 存储二\n",
    ">- 将 DataFrame 存储为 Excel 文件\n",
    ">- 除了读取，其他任何操作都不要在打开文件的情况下进行\n",
    ">- 注意：\n",
    ">  - List 类型  ==>  存储  ==>  Excel  ==>  读取  ==> String 类型"
   ]
  },
  {
   "cell_type": "code",
   "execution_count": null,
   "id": "8450ed69",
   "metadata": {},
   "outputs": [],
   "source": [
    "import openpyxl"
   ]
  },
  {
   "cell_type": "markdown",
   "id": "c1772508",
   "metadata": {},
   "source": [
    "## 路径前缀\n",
    ">- 可以是绝对路径（从 D: 盘开始）\n",
    ">- 可以是相对路径（相对当前运行该方法的 xxx.ipynb 文件的路径）"
   ]
  },
  {
   "cell_type": "code",
   "execution_count": null,
   "id": "b5c1afa9",
   "metadata": {},
   "outputs": [],
   "source": [
    "pre_path_excel = r''"
   ]
  },
  {
   "cell_type": "markdown",
   "id": "9b8c4564",
   "metadata": {},
   "source": [
    "## 单 sheet\n",
    ">- 自动创建 fileName.xlsx 文件（sheetName 自动命名 Sheet1）\n",
    ">- 或者覆盖 fileName.xlsx 文件（文件已经存在的情况下）"
   ]
  },
  {
   "cell_type": "code",
   "execution_count": null,
   "id": "1d1a8d4a",
   "metadata": {},
   "outputs": [],
   "source": [
    "def save_ex(data , fileName):\n",
    "    \n",
    "    path = pre_path_excel + f'\\\\{fileName}' + '.xlsx'\n",
    "    \n",
    "    data.to_excel(path , index = False)\n",
    "    \n",
    "    print(f\"Create or Cover file '{path}'\")"
   ]
  },
  {
   "cell_type": "code",
   "execution_count": null,
   "id": "9444eb74",
   "metadata": {},
   "outputs": [],
   "source": [
    "# 也可用于读取多 sheet 的文件，默认始终读取第一个 sheet\n",
    "def read_ex(fileName):\n",
    "    \n",
    "    path = pre_path_excel + f'\\\\{fileName}' + '.xlsx'\n",
    "    \n",
    "    res = pd.read_excel(path)\n",
    "    \n",
    "    return res"
   ]
  },
  {
   "cell_type": "markdown",
   "id": "6022e8fa",
   "metadata": {},
   "source": [
    "## 读取 & 删除 sheet\n",
    ">- 指定的 fileName.xlsx 文件必须预先存在\n",
    ">- 若把最后一个 sheet 删除了，则会导致文件损坏"
   ]
  },
  {
   "cell_type": "code",
   "execution_count": null,
   "id": "9b4f2461",
   "metadata": {},
   "outputs": [],
   "source": [
    "def read_sheet(fileName):\n",
    "    \n",
    "    path = pre_path_excel + f'\\\\{fileName}' + '.xlsx'\n",
    "    \n",
    "    work_book = openpyxl.load_workbook(path)        # 用于删除 sheet\n",
    "    sheet_names = work_book.sheetnames              # List\n",
    "    \n",
    "    return work_book , sheet_names"
   ]
  },
  {
   "cell_type": "code",
   "execution_count": null,
   "id": "79b3941e",
   "metadata": {},
   "outputs": [],
   "source": [
    "def remove_sheet(fileName , sheetName):\n",
    "    \n",
    "    # 读取全部 sheet_names\n",
    "    work_book , sheet_names = read_sheet(fileName)\n",
    "    \n",
    "    \n",
    "    # 删除指定 sheetName\n",
    "    # 保存其他 sheetName\n",
    "    if sheetName in sheet_names:\n",
    "        print(f'befor remove : {sheet_names}')\n",
    "        path = pre_path_excel + f'\\\\{fileName}' + '.xlsx'\n",
    "        work_book.remove(work_book[sheetName])\n",
    "        work_book.save(path)\n",
    "        print(f'after remove : {work_book.sheetnames}')\n",
    "    else:\n",
    "        print(f\"No such sheet '{sheetName}'!\")\n",
    "        print(f'All sheet are {sheet_names}')"
   ]
  },
  {
   "cell_type": "markdown",
   "id": "3018bedf",
   "metadata": {},
   "source": [
    "## 多 sheet\n",
    ">- 指定的 fileName.xlsx 文件必须预先存在"
   ]
  },
  {
   "cell_type": "code",
   "execution_count": null,
   "id": "934f2fc2",
   "metadata": {},
   "outputs": [],
   "source": [
    "def save_ex_(data , fileName , sheetName):\n",
    "    \n",
    "    # 读取全部 sheet_names\n",
    "    work_book , sheet_names = read_sheet(fileName)\n",
    "    \n",
    "    \n",
    "    # 如果指定的 sheetName 已经存在，则需要先删除之，即逻辑更新\n",
    "    if sheetName in sheet_names:\n",
    "        print(f\"requested sheetName = '{sheetName}' already exists , should be removed firstly\")\n",
    "        remove_sheet(fileName , sheetName)\n",
    "    \n",
    "    \n",
    "    # 追加，不影响其他 sheet\n",
    "    path = pre_path_excel + f'\\\\{fileName}' + '.xlsx'\n",
    "    with pd.ExcelWriter(path , mode = 'a' , engine = 'openpyxl') as writer:\n",
    "        data.to_excel(writer , sheetName , index = False)\n",
    "    \n",
    "    \n",
    "    print(f\"Save or Update file '{path}' as sheetName = '{sheetName}'\")\n",
    "    print(f'after update : {read_sheet(fileName)[1]}')"
   ]
  },
  {
   "cell_type": "code",
   "execution_count": null,
   "id": "ad820cfb",
   "metadata": {},
   "outputs": [],
   "source": [
    "# 指定读取具体哪一个 sheetName ，单 sheetName 也适用\n",
    "def read_ex_(fileName , sheetName):\n",
    "    path = pre_path_excel + f'\\\\{fileName}' + '.xlsx'\n",
    "    res = pd.read_excel(path , sheetName)\n",
    "    return res"
   ]
  },
  {
   "cell_type": "markdown",
   "id": "6e271c0d",
   "metadata": {},
   "source": [
    "# 存储三\n",
    ">- 将 DataFrame 存储为 JSON 文件\n",
    ">- 除了读取，其他任何操作都不要在打开文件的情况下进行\n",
    ">- JSON 文件格式详解：\n",
    ">  - 最外面是 `[]`\n",
    ">  - 里面一个一个是 `{}`\n",
    ">  - 再里面一个一个是 `key : value`\n",
    ">- `orient = 'records'`\n",
    ">  - DataFrame 的一行  ==  一个 `{}`\n",
    ">  - 不包括行索引 index\n",
    ">  - List 类型  ==>  存储  ==>  JSON  ==>  读取  ==> List 类型\n",
    ">- 注意，存储的字符串带有 `/` 时，会在 `.json` 文件中显示为 `\\/`"
   ]
  },
  {
   "cell_type": "code",
   "execution_count": null,
   "id": "d6e06291",
   "metadata": {},
   "outputs": [],
   "source": [
    "pre_path_json = r''"
   ]
  },
  {
   "cell_type": "code",
   "execution_count": null,
   "id": "aa598041",
   "metadata": {},
   "outputs": [],
   "source": [
    "def save_json(data , fileName):\n",
    "    \n",
    "    path = pre_path_json + f'\\\\{fileName}' + '.json'\n",
    "    \n",
    "    data.to_json(path , orient = 'records' , force_ascii = False)     # 中文存储设置\n",
    "    \n",
    "    print(f\"Create or Cover file '{path}'\")"
   ]
  },
  {
   "cell_type": "code",
   "execution_count": null,
   "id": "f1289bc6",
   "metadata": {},
   "outputs": [],
   "source": [
    "def read_json(fileName):\n",
    "    \n",
    "    path = pre_path_json + f'\\\\{fileName}' + '.json'\n",
    "    \n",
    "    res = pd.read_json(path , orient = 'records')\n",
    "    \n",
    "    return res"
   ]
  },
  {
   "cell_type": "markdown",
   "id": "b25330c8",
   "metadata": {},
   "source": [
    "# 字符串处理\n",
    ">- line"
   ]
  },
  {
   "cell_type": "markdown",
   "id": "01f767b0",
   "metadata": {},
   "source": [
    "## 汉字\n",
    ">- 仅保留字符串中的中文字符\n",
    ">- 仅去除字符串中的中文字符"
   ]
  },
  {
   "cell_type": "code",
   "execution_count": null,
   "id": "f9852db8",
   "metadata": {},
   "outputs": [],
   "source": [
    "def isChinese(ch):\n",
    "    if u'\\u4e00' <= ch and ch <= u'\\u9fa5':\n",
    "        return True\n",
    "    else:\n",
    "        return False"
   ]
  },
  {
   "cell_type": "code",
   "execution_count": null,
   "id": "48b10063",
   "metadata": {},
   "outputs": [],
   "source": [
    "def include_Chinese(line):\n",
    "    res = ''\n",
    "    for ch in line:\n",
    "        if isChinese(ch):\n",
    "            res += ch\n",
    "    return res"
   ]
  },
  {
   "cell_type": "code",
   "execution_count": null,
   "id": "d2cfcc57",
   "metadata": {},
   "outputs": [],
   "source": [
    "def exclude_Chinese(line):\n",
    "    res = ''\n",
    "    for ch in line:\n",
    "        if not isChinese(ch):\n",
    "            res += ch\n",
    "    return res"
   ]
  },
  {
   "cell_type": "markdown",
   "id": "ea3c4170",
   "metadata": {},
   "source": [
    "## 提取\n",
    ">- 返回 True 的 ch 块\n",
    ">- [方法作为方法的参数]https://www.cnblogs.com/meitian/p/6756665.html"
   ]
  },
  {
   "cell_type": "code",
   "execution_count": null,
   "id": "6a287b96",
   "metadata": {},
   "outputs": [],
   "source": [
    "# 字符串 line 中是否包含数字\n",
    "def Contain_Num(line):\n",
    "    for ch in line:\n",
    "        if ch.isdigit():\n",
    "            return True\n",
    "    return False"
   ]
  },
  {
   "cell_type": "code",
   "execution_count": null,
   "id": "9577c624",
   "metadata": {},
   "outputs": [],
   "source": [
    "def Needed_Num(ch):\n",
    "    return ch.isdigit() or ch == '.' or ch == '%' or ch == '/' or ch == '(' or ch == ')'"
   ]
  },
  {
   "cell_type": "code",
   "execution_count": null,
   "id": "7249d0fe",
   "metadata": {},
   "outputs": [],
   "source": [
    "# 传入 Needed 方法，无需带 ()\n",
    "# 调用 Needed 方法，需要带 ()\n",
    "# String  ==>  List\n",
    "def ExtractNeeded(line , Needed):\n",
    "    \n",
    "    # res  ==  List  ==  ['Neededs' , 'Neededs' , ...]\n",
    "    res = []\n",
    "    \n",
    "    flag = True\n",
    "    for i in range(len(line)):\n",
    "        if flag and Needed(line[i]):\n",
    "            l = i\n",
    "            r = i + 1\n",
    "            while r != len(line) and Needed(line[r]):\n",
    "                r += 1\n",
    "            res.append(line[l:r])\n",
    "            flag = False\n",
    "        elif not Needed(line[i]):\n",
    "            flag = True\n",
    "    return res"
   ]
  },
  {
   "cell_type": "code",
   "execution_count": null,
   "id": "b2613719",
   "metadata": {},
   "outputs": [],
   "source": [
    "ExtractNeeded('0.5甲有1人，乙有4.2人，是8%分，成绩高0.77分，那么，乙绩=多分．0.999%' , Needed_Num)"
   ]
  },
  {
   "cell_type": "markdown",
   "id": "9d34bca8",
   "metadata": {},
   "source": [
    "## 计数\n",
    ">- 理应为 len(ExtractNeeded)"
   ]
  },
  {
   "cell_type": "code",
   "execution_count": null,
   "id": "514ec476",
   "metadata": {},
   "outputs": [],
   "source": [
    "# String  ==>  int\n",
    "def CountNeeded(line , Needed):\n",
    "    \n",
    "    cnt = 0\n",
    "    flag = True\n",
    "    \n",
    "    for ch in line:\n",
    "        if Needed(ch):\n",
    "            if flag:\n",
    "                cnt += 1\n",
    "                flag = False\n",
    "        else:\n",
    "            flag = True\n",
    "    \n",
    "    return cnt"
   ]
  },
  {
   "cell_type": "code",
   "execution_count": null,
   "id": "d9575cfe",
   "metadata": {},
   "outputs": [],
   "source": [
    "CountNeeded('0.5甲有1人，乙有4.2人，是8%分，成绩高0.77分，那么，乙绩=多分．0.999%' , Needed_Num)"
   ]
  },
  {
   "cell_type": "markdown",
   "id": "7019d097",
   "metadata": {},
   "source": [
    "## 分词\n",
    ">- jieba.cut('...') 结果为 generator （可用于 for 循环或 list() 函数）\n",
    ">- jieba.lcut('...') 结果为 List"
   ]
  },
  {
   "cell_type": "code",
   "execution_count": null,
   "id": "3cdbd377",
   "metadata": {},
   "outputs": [],
   "source": [
    "import jieba\n",
    "import jieba.posseg as pseg"
   ]
  },
  {
   "cell_type": "code",
   "execution_count": null,
   "id": "ad1b4bc8",
   "metadata": {},
   "outputs": [],
   "source": [
    "def Cut(line):\n",
    "    return jieba.lcut(line)"
   ]
  },
  {
   "cell_type": "code",
   "execution_count": null,
   "id": "7b024ffc",
   "metadata": {},
   "outputs": [],
   "source": [
    "# List 、String 、Tuple ==>  len()  ==>  int\n",
    "def Len(line):\n",
    "    return len(line)"
   ]
  },
  {
   "cell_type": "code",
   "execution_count": null,
   "id": "a4b6de9e",
   "metadata": {},
   "outputs": [],
   "source": [
    "# 抽取动词\n",
    "# String  ==>  List verb.\n",
    "def Cut_Verbs(line):\n",
    "    words = pseg.cut(line)\n",
    "    return [word for word , flag in words if flag == 'v']"
   ]
  },
  {
   "cell_type": "code",
   "execution_count": null,
   "id": "fa61c7ec",
   "metadata": {},
   "outputs": [],
   "source": [
    "# 分词 + 词性标注\n",
    "for word , flag in pseg.cut('我练'):\n",
    "    print(f'{type(word)}   {word:3s}   {flag:3s}{type(flag)}')"
   ]
  },
  {
   "cell_type": "markdown",
   "id": "475ffd10",
   "metadata": {},
   "source": [
    "## 停用词\n",
    ">- 先分词后再去除停用词\n",
    ">- List  ==>  过滤停用词  ==>  List"
   ]
  },
  {
   "cell_type": "code",
   "execution_count": null,
   "id": "2ff18bc3",
   "metadata": {},
   "outputs": [],
   "source": [
    "def StopWords():\n",
    "    s = set()\n",
    "    with open(r'___DATA\\Stop Word List\\Common Stop Words.txt' , 'r' , encoding = 'utf-8') as f:\n",
    "        for line in f:\n",
    "            s.add(line.strip())\n",
    "    return s"
   ]
  },
  {
   "cell_type": "code",
   "execution_count": null,
   "id": "c9a65856",
   "metadata": {},
   "outputs": [],
   "source": [
    "def Filter(L):\n",
    "    return [word for word in L if (word not in SW)]"
   ]
  },
  {
   "cell_type": "code",
   "execution_count": null,
   "id": "3331d888",
   "metadata": {},
   "outputs": [],
   "source": [
    "SW = StopWords()\n",
    "print(f'{type(SW)}   {len(SW)}')\n",
    "print('' in SW)"
   ]
  },
  {
   "cell_type": "markdown",
   "id": "d9568f29",
   "metadata": {},
   "source": [
    "## 正则表达式"
   ]
  },
  {
   "cell_type": "code",
   "execution_count": null,
   "id": "3fc8d87c",
   "metadata": {},
   "outputs": [],
   "source": [
    "import re"
   ]
  },
  {
   "cell_type": "markdown",
   "id": "215fa88c",
   "metadata": {},
   "source": [
    "# List"
   ]
  },
  {
   "cell_type": "markdown",
   "id": "552fd7b0",
   "metadata": {},
   "source": [
    "## 两种差集\n",
    ">- List  -  List  ==  List"
   ]
  },
  {
   "cell_type": "code",
   "execution_count": null,
   "id": "fbbc00da",
   "metadata": {},
   "outputs": [],
   "source": [
    "one = [1 , 2 ,     4 , 4 , 4 , 3 , 5]\n",
    "two = [1 , 2 , 2 , 4 , 4]"
   ]
  },
  {
   "cell_type": "code",
   "execution_count": null,
   "id": "5cfdec00",
   "metadata": {},
   "outputs": [],
   "source": [
    "# one 中独有的\n",
    "def diff_set(one , two):\n",
    "    return [item for item in one if (item not in two)]\n",
    "\n",
    "diff_set(one , two)"
   ]
  },
  {
   "cell_type": "code",
   "execution_count": null,
   "id": "11d36060",
   "metadata": {},
   "outputs": [],
   "source": [
    "# one 中独有的 + one 在二者交集上多出来的\n",
    "def diff_list(one , two):\n",
    "    t = two.copy()       # 避免修改原 two 的内容\n",
    "    res = []\n",
    "    for num in one:\n",
    "        if num in t:\n",
    "            t.remove(num)\n",
    "        else:\n",
    "            res.append(num)\n",
    "    return res\n",
    "\n",
    "diff_list(one , two)"
   ]
  },
  {
   "cell_type": "code",
   "execution_count": null,
   "id": "714db405",
   "metadata": {},
   "outputs": [],
   "source": [
    "print(one)\n",
    "print(two)"
   ]
  },
  {
   "cell_type": "markdown",
   "id": "a3d36ca5",
   "metadata": {},
   "source": [
    "## 随机 & 打乱"
   ]
  },
  {
   "cell_type": "code",
   "execution_count": 1,
   "id": "098ca1aa",
   "metadata": {},
   "outputs": [],
   "source": [
    "from copy import deepcopy\n",
    "import random"
   ]
  },
  {
   "cell_type": "code",
   "execution_count": null,
   "id": "2713c17d",
   "metadata": {
    "scrolled": true
   },
   "outputs": [],
   "source": [
    "print(random.random())             # [0 , 1)    浮点数\n",
    "print(random.randint(9 , 10))      # [9 , 10]   整数\n",
    "print(random.uniform(9 , 10))      # [9 , 10]   浮点数\n",
    "print(random.choice([1 , 2 , 3]))  # 随机抽取一个元素，List 、Tuple\n",
    "print(random.choice('我a爱b你'))   # 随机抽取一个字符，String\n",
    "\n",
    "\n",
    "# 随机采样，不影响原 List\n",
    "l = [1 , 2 , 3 , 4 , 5 , 6 , 7 , 8 , 9 , 10]  \n",
    "s = random.sample(l , 5)\n",
    "print(s) \n",
    "print(l)\n",
    "\n",
    "\n",
    "# 随机打乱，会影响原 List\n",
    "random.shuffle(l)\n",
    "print(l)"
   ]
  },
  {
   "cell_type": "code",
   "execution_count": null,
   "id": "2949d0c2",
   "metadata": {},
   "outputs": [],
   "source": [
    "# 不改变原 List 的随机 & 完全 & 打乱\n",
    "# 注意：此方法不适用于 Tuple 、String ，因为该二者是内容不可变对象\n",
    "def shuffle(l):\n",
    "    # 复制原 List\n",
    "    temp_l = deepcopy(l)\n",
    "    n = len(temp_l)\n",
    "    \n",
    "    # while 循环可以理解为还剩 n 个元素没有调换\n",
    "    while(n):\n",
    "        # 当前调换 temp_l[n - 1] 元素\n",
    "        n -= 1\n",
    "        if n == 1:\n",
    "            # 调换 temp_l[0] 和 temp_l[1]\n",
    "            temp_l[n] , temp_l[0] = temp_l[0] , temp_l[n]\n",
    "            break\n",
    "        else:\n",
    "            # 从 temp_l[0 , n - 2] 中随机抽取元素调换\n",
    "            i = random.randint(0 , n - 1)\n",
    "            temp_l[n] , temp_l[i] = temp_l[i] , temp_l[n]\n",
    "    return temp_l"
   ]
  },
  {
   "cell_type": "markdown",
   "id": "af73db41",
   "metadata": {},
   "source": [
    "# 时间条"
   ]
  },
  {
   "cell_type": "code",
   "execution_count": null,
   "id": "c2096791",
   "metadata": {},
   "outputs": [],
   "source": [
    "def data_bar():\n",
    "    now = datetime.now().strftime('%Y-%m-%d')\n",
    "    print(f\"{'=============' * 6} {now} \")\n",
    "\n",
    "def time_bar():\n",
    "    now = datetime.now().strftime('  %H:%M:%S')\n",
    "    print(f\"{'=============' * 6} {now} \")\n",
    "    \n",
    "def data_time_bar():\n",
    "    now = datetime.now().strftime('%Y-%m-%d  %H:%M:%S')\n",
    "    print(f\"{'=============' * 6} {now} \")"
   ]
  },
  {
   "cell_type": "code",
   "execution_count": null,
   "id": "4f92f78a",
   "metadata": {},
   "outputs": [],
   "source": [
    "#  datetime.datetime --> String\n",
    "print(type(datetime.now()))\n",
    "print(type(datetime.now().strftime('%Y-%m-%d %H:%M:%S')))\n",
    "\n",
    "\n",
    "# 注意不需要前缀 datetime.\n",
    "if type(datetime.now()) is datetime:\n",
    "    print('1')\n",
    "if type(datetime.now()) == datetime:\n",
    "    print('1')\n",
    "if type(datetime.now().strftime('%Y-%m-%d %H:%M:%S')) is str:\n",
    "    print('2')\n",
    "if type(datetime.now().strftime('%Y-%m-%d %H:%M:%S')) == str:\n",
    "    print('2')"
   ]
  },
  {
   "cell_type": "code",
   "execution_count": null,
   "id": "c1b21ceb",
   "metadata": {},
   "outputs": [],
   "source": [
    "#  datetime.datetime --> pd._libs.tslibs.timestamps.Timestamp --> String\n",
    "print(type(datetime.now()))\n",
    "print(type(pd.Timestamp(datetime.now())))\n",
    "print(type(pd.Timestamp(datetime.now()).strftime('%Y-%m-%d %H:%M:%S')))\n",
    "\n",
    "\n",
    "# 注意 pandas 缩写 pd\n",
    "if type(pd.Timestamp(datetime.now())) is pd._libs.tslibs.timestamps.Timestamp:\n",
    "    print('1')\n",
    "if type(pd.Timestamp(datetime.now())) == pd._libs.tslibs.timestamps.Timestamp:\n",
    "    print('1')"
   ]
  },
  {
   "cell_type": "markdown",
   "id": "0f2f1b7f",
   "metadata": {},
   "source": [
    "# 时间秒\n",
    ">- time.time() 为 float 类型"
   ]
  },
  {
   "cell_type": "code",
   "execution_count": null,
   "id": "32d3fc09",
   "metadata": {},
   "outputs": [],
   "source": [
    "# start 也应该为 time.time()\n",
    "def get_time_dif(start):\n",
    "    end = time.time()\n",
    "    dif = end - start\n",
    "    return timedelta(seconds = int(round(dif)))"
   ]
  },
  {
   "cell_type": "markdown",
   "id": "8099260b",
   "metadata": {},
   "source": [
    "# StanfordCoreNLP\n",
    ">- [使用]https://zhuanlan.zhihu.com/p/137226095\n",
    ">- [下载]https://stanfordnlp.github.io/CoreNLP/\n",
    ">- pip show stanfordcorenlp 中版本为 3.9.1.1 所以对应的解压包.zip和中文包.jar需要下载旧版本 3.9.2"
   ]
  },
  {
   "cell_type": "code",
   "execution_count": null,
   "id": "c3009f9c",
   "metadata": {},
   "outputs": [],
   "source": [
    "# from stanfordcorenlp import StanfordCoreNLP\n",
    "\n",
    "# 英文处理\n",
    "# nlp = StanfordCoreNLP(r'___DATA\\stanford-corenlp-4.5.1')\n",
    "\n",
    "# 中文处理\n",
    "# nlp_ch = StanfordCoreNLP(r'___DATA\\stanford-corenlp-full-2018-10-05', lang = 'zh')"
   ]
  }
 ],
 "metadata": {
  "kernelspec": {
   "display_name": "MathBert",
   "language": "python",
   "name": "mathbert"
  },
  "language_info": {
   "codemirror_mode": {
    "name": "ipython",
    "version": 3
   },
   "file_extension": ".py",
   "mimetype": "text/x-python",
   "name": "python",
   "nbconvert_exporter": "python",
   "pygments_lexer": "ipython3",
   "version": "3.9.12"
  },
  "toc": {
   "base_numbering": 1,
   "nav_menu": {},
   "number_sections": false,
   "sideBar": true,
   "skip_h1_title": false,
   "title_cell": "Table of Contents",
   "title_sidebar": "Contents",
   "toc_cell": false,
   "toc_position": {
    "height": "calc(100% - 180px)",
    "left": "10px",
    "top": "150px",
    "width": "198.969px"
   },
   "toc_section_display": true,
   "toc_window_display": true
  }
 },
 "nbformat": 4,
 "nbformat_minor": 5
}
