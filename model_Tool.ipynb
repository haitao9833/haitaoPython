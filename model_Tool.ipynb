{
 "cells": [
  {
   "cell_type": "markdown",
   "id": "920eaf8c",
   "metadata": {},
   "source": [
    "# 默认代码"
   ]
  },
  {
   "cell_type": "code",
   "execution_count": null,
   "id": "c110cf3a",
   "metadata": {},
   "outputs": [],
   "source": [
    "# 导入形式（必须是双引号）\n",
    "\n",
    "# %%capture\n",
    "# %run \"model_Tool.ipynb\""
   ]
  },
  {
   "cell_type": "code",
   "execution_count": null,
   "id": "bc656406",
   "metadata": {},
   "outputs": [],
   "source": [
    "from sklearn.model_selection import train_test_split as SPLIT\n",
    "\n",
    "from sklearn.metrics import accuracy_score as ACC"
   ]
  },
  {
   "cell_type": "markdown",
   "id": "e021758c",
   "metadata": {},
   "source": [
    "# 朴素贝叶斯\n",
    ">- 详见 `model_朴素贝叶斯.ipynb`"
   ]
  },
  {
   "cell_type": "code",
   "execution_count": null,
   "id": "71a29455",
   "metadata": {},
   "outputs": [],
   "source": [
    "from sklearn.naive_bayes import GaussianNB"
   ]
  },
  {
   "cell_type": "code",
   "execution_count": null,
   "id": "e5e94210",
   "metadata": {},
   "outputs": [],
   "source": [
    "# data   整体数据            DataFrame\n",
    "# trgC   目标变量列名        String\n",
    "#   rs   划分时的随机种子    int\n",
    "\n",
    "def model_Bayes(data , trgC , rs):\n",
    "    \n",
    "    # 划分变量\n",
    "    X = data.drop(columns = trgC)\n",
    "    Y = data[trgC]\n",
    "    \n",
    "    # 划分数据\n",
    "    X_train , X_test , Y_train , Y_test = SPLIT(X , Y , test_size = 0.2 , random_state = rs)\n",
    "    \n",
    "    # 训练模型\n",
    "    model = GaussianNB()\n",
    "    model.fit(X_train , Y_train)\n",
    "    \n",
    "    # 预测\n",
    "    Y_pred = model.predict(X_test)\n",
    "    res = pd.DataFrame()\n",
    "    res['实际值'] = list(Y_test)\n",
    "    res['预测值'] = list(Y_pred)\n",
    "    \n",
    "    # 评估\n",
    "    print(ACC(res['实际值'] , res['预测值']))\n",
    "    diff_Pie(res['实际值'] , res['预测值'])\n",
    "    \n",
    "    return res , model"
   ]
  },
  {
   "cell_type": "markdown",
   "id": "bbfc107e",
   "metadata": {},
   "source": [
    "# `KMeans`\n",
    ">- 仅针对二维的 `DataFrame` 数据"
   ]
  },
  {
   "cell_type": "code",
   "execution_count": null,
   "id": "8fcc7804",
   "metadata": {},
   "outputs": [],
   "source": [
    "# 最好一起导入 viz_Tool.ipynb 文件\n",
    "\n",
    "from sklearn.cluster import KMeans"
   ]
  },
  {
   "cell_type": "code",
   "execution_count": null,
   "id": "131feead",
   "metadata": {},
   "outputs": [],
   "source": [
    "# 其实主要的代码量都是调用绘制散点图的方法\n",
    "\n",
    "# K  ：指定所有样本分为几类\n",
    "# rs ：随机选取初始中心点的种子\n",
    "\n",
    "\n",
    "def model_Cluster(data , K , rs , \n",
    "                  Xscale = 0 , Yscale = 0 , \n",
    "                  title = ''\n",
    "                 ):\n",
    "    \n",
    "    twoCols = data.columns.values\n",
    "    \n",
    "    # 分类之前的散点图\n",
    "    scatter_pre = draw_Scatter2D(\n",
    "        data[twoCols[0]] , \n",
    "        data[twoCols[1]] ,\n",
    "        Xscale = Xscale , \n",
    "        Yscale = Yscale , \n",
    "        c = False , \n",
    "        title = title , \n",
    "    )\n",
    "    \n",
    "    # 训练模型\n",
    "    model = KMeans(n_clusters = K , random_state = rs)\n",
    "    model.fit(data)\n",
    "    \n",
    "    # 分类标签\n",
    "    data['分类'] = model.labels_\n",
    "    \n",
    "    # 分类之后的散点图\n",
    "    scatter_after = draw_Scatter2D_clf(\n",
    "        data , \n",
    "        twoCols[0] , \n",
    "        twoCols[1] , \n",
    "        '分类' , \n",
    "        Xscale = Xscale , \n",
    "        Yscale = Yscale\n",
    "    )\n",
    "    \n",
    "    # 返回两个散点图\n",
    "    return scatter_pre , scatter_after"
   ]
  },
  {
   "cell_type": "markdown",
   "id": "f3f69d2e",
   "metadata": {},
   "source": [
    "# `PCA`\n",
    ">- 打印 `PCA` 降维中的线性组合系数"
   ]
  },
  {
   "cell_type": "code",
   "execution_count": null,
   "id": "e35f40dd",
   "metadata": {},
   "outputs": [],
   "source": [
    "def pca_func(model):\n",
    "    \n",
    "    # 所有系数\n",
    "    # 二维的 ndarray\n",
    "    factor = model.components_\n",
    "    \n",
    "    for i in range(factor.shape[0]):\n",
    "        formula = f'X_new_{i + 1} = '\n",
    "        for j in range(factor.shape[1]):\n",
    "            formula += f'{factor[i][j]:6.3f} * X{j + 1} + '\n",
    "        print(formula[:-2])"
   ]
  }
 ],
 "metadata": {
  "kernelspec": {
   "display_name": "MathBert",
   "language": "python",
   "name": "mathbert"
  },
  "language_info": {
   "codemirror_mode": {
    "name": "ipython",
    "version": 3
   },
   "file_extension": ".py",
   "mimetype": "text/x-python",
   "name": "python",
   "nbconvert_exporter": "python",
   "pygments_lexer": "ipython3",
   "version": "3.9.12"
  },
  "toc": {
   "base_numbering": 1,
   "nav_menu": {},
   "number_sections": false,
   "sideBar": true,
   "skip_h1_title": false,
   "title_cell": "Table of Contents",
   "title_sidebar": "Contents",
   "toc_cell": false,
   "toc_position": {
    "height": "calc(100% - 180px)",
    "left": "10px",
    "top": "150px",
    "width": "184.115px"
   },
   "toc_section_display": true,
   "toc_window_display": true
  }
 },
 "nbformat": 4,
 "nbformat_minor": 5
}
