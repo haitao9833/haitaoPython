{
 "cells": [
  {
   "cell_type": "markdown",
   "id": "14fbe295",
   "metadata": {},
   "source": [
    "# 测试 `file_Tool`"
   ]
  },
  {
   "cell_type": "code",
   "execution_count": 5,
   "id": "0185252e",
   "metadata": {},
   "outputs": [],
   "source": [
    "%%capture\n",
    "%run \"file_Tool.ipynb\""
   ]
  },
  {
   "cell_type": "markdown",
   "id": "d7e54fd2",
   "metadata": {},
   "source": [
    "# 测试 `Text`"
   ]
  },
  {
   "cell_type": "code",
   "execution_count": 2,
   "id": "cfa27a0d",
   "metadata": {},
   "outputs": [],
   "source": [
    "L = [1 , '222' , 3.0 , [1 , '222' , 3.0]]"
   ]
  },
  {
   "cell_type": "code",
   "execution_count": 3,
   "id": "29a48acc",
   "metadata": {},
   "outputs": [
    {
     "name": "stdout",
     "output_type": "stream",
     "text": [
      "文件存在，直接覆盖 'data\\直接覆盖.txt'\n"
     ]
    }
   ],
   "source": [
    "# 直接覆盖，可重复运行\n",
    "\n",
    "cover_txt(L , r'data\\直接覆盖.txt')"
   ]
  },
  {
   "cell_type": "code",
   "execution_count": 4,
   "id": "3e07f11e",
   "metadata": {},
   "outputs": [
    {
     "name": "stdout",
     "output_type": "stream",
     "text": [
      "文件存在，末尾追加 'data\\末尾追加.txt'\n"
     ]
    }
   ],
   "source": [
    "# 末尾追加，可重复运行\n",
    "\n",
    "append_txt(L , r'data\\末尾追加.txt')"
   ]
  },
  {
   "cell_type": "code",
   "execution_count": 5,
   "id": "18011274",
   "metadata": {},
   "outputs": [
    {
     "name": "stdout",
     "output_type": "stream",
     "text": [
      "1\n",
      "222\n",
      "3.0\n",
      "[1, '222', 3.0]\n",
      "-----追加-----\n",
      "1\n",
      "222\n",
      "3.0\n",
      "[1, '222', 3.0]\n",
      "-----追加-----\n",
      "1\n",
      "222\n",
      "\\n\\n\\n\\n\\n\\n\n",
      "3.0\n",
      "[1, '222', 3.0]\n",
      "-----追加-----\n",
      "1\\r\n",
      "222\\n\\n\\n\\n\\n\\n\\n\\n\\n\\n\\n\n",
      "3.0\\t\n",
      "[1, '222', 3.0]\n",
      "-----追加-----\n",
      "1\n",
      "222\n",
      "3.0\n",
      "[1, '222', 3.0]\n",
      "-----追加-----\n",
      "1\n",
      "222\n",
      "3.0\n",
      "[1, '222', 3.0]\n",
      "-----追加-----\n",
      "1\n",
      "222\n",
      "3.0\n",
      "[1, '222', 3.0]\n",
      "-----追加-----\n",
      "1\n",
      "222\n",
      "3.0\n",
      "[1, '222', 3.0]\n",
      "-----追加-----\n",
      "1\n",
      "222\n",
      "3.0\n",
      "[1, '222', 3.0]\n",
      "-----追加-----\n",
      "1\n",
      "222\n",
      "3.0\n",
      "[1, '222', 3.0]\n",
      "-----追加-----\n",
      "1\n",
      "222\n",
      "3.0\n",
      "[1, '222', 3.0]\n"
     ]
    }
   ],
   "source": [
    "# 读取\n",
    "\n",
    "lines = read_txt(r'data\\末尾追加.txt')\n",
    "for line in lines:\n",
    "    print(line)"
   ]
  },
  {
   "cell_type": "markdown",
   "id": "61dd136b",
   "metadata": {},
   "source": [
    "# 测试 `Excel`"
   ]
  },
  {
   "cell_type": "markdown",
   "id": "8bde0f22",
   "metadata": {},
   "source": [
    "## 单 sheet\n",
    ">- 注意：`List`  ==>  存储  ==>  Excel  ==>  读取  ==> `String`（详见 `file_Tool_Test.ipynb`）"
   ]
  },
  {
   "cell_type": "code",
   "execution_count": 6,
   "id": "1360836d",
   "metadata": {},
   "outputs": [
    {
     "name": "stdout",
     "output_type": "stream",
     "text": [
      "[1, '2', 3.0]\n",
      "<class 'list'>\n"
     ]
    },
    {
     "data": {
      "text/html": [
       "<div>\n",
       "<style scoped>\n",
       "    .dataframe tbody tr th:only-of-type {\n",
       "        vertical-align: middle;\n",
       "    }\n",
       "\n",
       "    .dataframe tbody tr th {\n",
       "        vertical-align: top;\n",
       "    }\n",
       "\n",
       "    .dataframe thead th {\n",
       "        text-align: right;\n",
       "    }\n",
       "</style>\n",
       "<table border=\"1\" class=\"dataframe\">\n",
       "  <thead>\n",
       "    <tr style=\"text-align: right;\">\n",
       "      <th></th>\n",
       "      <th>One</th>\n",
       "      <th>Two</th>\n",
       "    </tr>\n",
       "  </thead>\n",
       "  <tbody>\n",
       "    <tr>\n",
       "      <th>X</th>\n",
       "      <td>A</td>\n",
       "      <td>1</td>\n",
       "    </tr>\n",
       "    <tr>\n",
       "      <th>Y</th>\n",
       "      <td>B</td>\n",
       "      <td>2</td>\n",
       "    </tr>\n",
       "    <tr>\n",
       "      <th>Z</th>\n",
       "      <td>[1, 2, 3.0]</td>\n",
       "      <td>3</td>\n",
       "    </tr>\n",
       "  </tbody>\n",
       "</table>\n",
       "</div>"
      ],
      "text/plain": [
       "           One  Two\n",
       "X            A    1\n",
       "Y            B    2\n",
       "Z  [1, 2, 3.0]    3"
      ]
     },
     "execution_count": 6,
     "metadata": {},
     "output_type": "execute_result"
    }
   ],
   "source": [
    "data = pd.DataFrame({'One' : ['A' , 'B' , [1 , '2' , 3.0]] , 'Two' : [1 , 2 , 3]} , index = ['X' , 'Y' , 'Z'])\n",
    "print(data.iloc[2]['One'])\n",
    "print(type(data.iloc[2]['One']))\n",
    "data"
   ]
  },
  {
   "cell_type": "code",
   "execution_count": 7,
   "id": "0122760e",
   "metadata": {},
   "outputs": [
    {
     "name": "stdout",
     "output_type": "stream",
     "text": [
      "文件存在，直接覆盖 'data\\直接覆盖.xlsx'\n"
     ]
    }
   ],
   "source": [
    "# 直接覆盖，可重复运行\n",
    "\n",
    "save_ex(data , r'data\\直接覆盖.xlsx')"
   ]
  },
  {
   "cell_type": "code",
   "execution_count": 8,
   "id": "6999eb22",
   "metadata": {},
   "outputs": [
    {
     "name": "stdout",
     "output_type": "stream",
     "text": [
      "[1, '2', 3.0]\n",
      "<class 'str'>\n"
     ]
    },
    {
     "data": {
      "text/html": [
       "<div>\n",
       "<style scoped>\n",
       "    .dataframe tbody tr th:only-of-type {\n",
       "        vertical-align: middle;\n",
       "    }\n",
       "\n",
       "    .dataframe tbody tr th {\n",
       "        vertical-align: top;\n",
       "    }\n",
       "\n",
       "    .dataframe thead th {\n",
       "        text-align: right;\n",
       "    }\n",
       "</style>\n",
       "<table border=\"1\" class=\"dataframe\">\n",
       "  <thead>\n",
       "    <tr style=\"text-align: right;\">\n",
       "      <th></th>\n",
       "      <th>Index</th>\n",
       "      <th>One</th>\n",
       "      <th>Two</th>\n",
       "    </tr>\n",
       "  </thead>\n",
       "  <tbody>\n",
       "    <tr>\n",
       "      <th>0</th>\n",
       "      <td>X</td>\n",
       "      <td>A</td>\n",
       "      <td>1</td>\n",
       "    </tr>\n",
       "    <tr>\n",
       "      <th>1</th>\n",
       "      <td>Y</td>\n",
       "      <td>B</td>\n",
       "      <td>2</td>\n",
       "    </tr>\n",
       "    <tr>\n",
       "      <th>2</th>\n",
       "      <td>Z</td>\n",
       "      <td>[1, '2', 3.0]</td>\n",
       "      <td>3</td>\n",
       "    </tr>\n",
       "  </tbody>\n",
       "</table>\n",
       "</div>"
      ],
      "text/plain": [
       "  Index            One  Two\n",
       "0     X              A    1\n",
       "1     Y              B    2\n",
       "2     Z  [1, '2', 3.0]    3"
      ]
     },
     "execution_count": 8,
     "metadata": {},
     "output_type": "execute_result"
    }
   ],
   "source": [
    "# 读取\n",
    "# List 已经变为 String 数据类型\n",
    "\n",
    "data = read_ex(r'data\\直接覆盖.xlsx')\n",
    "print(data.iloc[2]['One'])\n",
    "print(type(data.iloc[2]['One']))\n",
    "data"
   ]
  },
  {
   "cell_type": "code",
   "execution_count": 9,
   "id": "da62f6eb",
   "metadata": {},
   "outputs": [
    {
     "data": {
      "text/html": [
       "<div>\n",
       "<style scoped>\n",
       "    .dataframe tbody tr th:only-of-type {\n",
       "        vertical-align: middle;\n",
       "    }\n",
       "\n",
       "    .dataframe tbody tr th {\n",
       "        vertical-align: top;\n",
       "    }\n",
       "\n",
       "    .dataframe thead th {\n",
       "        text-align: right;\n",
       "    }\n",
       "</style>\n",
       "<table border=\"1\" class=\"dataframe\">\n",
       "  <thead>\n",
       "    <tr style=\"text-align: right;\">\n",
       "      <th></th>\n",
       "      <th>One</th>\n",
       "      <th>Two</th>\n",
       "    </tr>\n",
       "    <tr>\n",
       "      <th>Index</th>\n",
       "      <th></th>\n",
       "      <th></th>\n",
       "    </tr>\n",
       "  </thead>\n",
       "  <tbody>\n",
       "    <tr>\n",
       "      <th>X</th>\n",
       "      <td>A</td>\n",
       "      <td>1</td>\n",
       "    </tr>\n",
       "    <tr>\n",
       "      <th>Y</th>\n",
       "      <td>B</td>\n",
       "      <td>2</td>\n",
       "    </tr>\n",
       "    <tr>\n",
       "      <th>Z</th>\n",
       "      <td>[1, '2', 3.0]</td>\n",
       "      <td>3</td>\n",
       "    </tr>\n",
       "  </tbody>\n",
       "</table>\n",
       "</div>"
      ],
      "text/plain": [
       "                 One  Two\n",
       "Index                    \n",
       "X                  A    1\n",
       "Y                  B    2\n",
       "Z      [1, '2', 3.0]    3"
      ]
     },
     "execution_count": 9,
     "metadata": {},
     "output_type": "execute_result"
    }
   ],
   "source": [
    "# 重置行索引\n",
    "\n",
    "data = data.set_index('Index')\n",
    "data"
   ]
  },
  {
   "cell_type": "markdown",
   "id": "5358af97",
   "metadata": {},
   "source": [
    "## 多 sheet"
   ]
  },
  {
   "cell_type": "code",
   "execution_count": 10,
   "id": "e24eb4ae",
   "metadata": {},
   "outputs": [
    {
     "data": {
      "text/plain": [
       "['Sheet1']"
      ]
     },
     "execution_count": 10,
     "metadata": {},
     "output_type": "execute_result"
    }
   ],
   "source": [
    "# 读取所有的 sheetName\n",
    "\n",
    "read_all_sheets(r'data\\直接覆盖.xlsx')"
   ]
  },
  {
   "cell_type": "code",
   "execution_count": 11,
   "id": "f3881ef3",
   "metadata": {},
   "outputs": [
    {
     "data": {
      "text/html": [
       "<div>\n",
       "<style scoped>\n",
       "    .dataframe tbody tr th:only-of-type {\n",
       "        vertical-align: middle;\n",
       "    }\n",
       "\n",
       "    .dataframe tbody tr th {\n",
       "        vertical-align: top;\n",
       "    }\n",
       "\n",
       "    .dataframe thead th {\n",
       "        text-align: right;\n",
       "    }\n",
       "</style>\n",
       "<table border=\"1\" class=\"dataframe\">\n",
       "  <thead>\n",
       "    <tr style=\"text-align: right;\">\n",
       "      <th></th>\n",
       "      <th>Index</th>\n",
       "      <th>One</th>\n",
       "      <th>Two</th>\n",
       "    </tr>\n",
       "  </thead>\n",
       "  <tbody>\n",
       "    <tr>\n",
       "      <th>0</th>\n",
       "      <td>X</td>\n",
       "      <td>A</td>\n",
       "      <td>1</td>\n",
       "    </tr>\n",
       "    <tr>\n",
       "      <th>1</th>\n",
       "      <td>Y</td>\n",
       "      <td>B</td>\n",
       "      <td>2</td>\n",
       "    </tr>\n",
       "    <tr>\n",
       "      <th>2</th>\n",
       "      <td>Z</td>\n",
       "      <td>[1, '2', 3.0]</td>\n",
       "      <td>3</td>\n",
       "    </tr>\n",
       "  </tbody>\n",
       "</table>\n",
       "</div>"
      ],
      "text/plain": [
       "  Index            One  Two\n",
       "0     X              A    1\n",
       "1     Y              B    2\n",
       "2     Z  [1, '2', 3.0]    3"
      ]
     },
     "execution_count": 11,
     "metadata": {},
     "output_type": "execute_result"
    }
   ],
   "source": [
    "# 读取指定 sheetName 的数据\n",
    "\n",
    "read_ex_sheet(r'data\\直接覆盖.xlsx' , 'Sheet1')"
   ]
  },
  {
   "cell_type": "markdown",
   "id": "2f0d0861",
   "metadata": {},
   "source": [
    "# 测试 `Json`"
   ]
  },
  {
   "cell_type": "code",
   "execution_count": 12,
   "id": "695e02aa",
   "metadata": {},
   "outputs": [
    {
     "name": "stdout",
     "output_type": "stream",
     "text": [
      "[1, '2', 3.0]\n",
      "<class 'list'>\n"
     ]
    },
    {
     "data": {
      "text/html": [
       "<div>\n",
       "<style scoped>\n",
       "    .dataframe tbody tr th:only-of-type {\n",
       "        vertical-align: middle;\n",
       "    }\n",
       "\n",
       "    .dataframe tbody tr th {\n",
       "        vertical-align: top;\n",
       "    }\n",
       "\n",
       "    .dataframe thead th {\n",
       "        text-align: right;\n",
       "    }\n",
       "</style>\n",
       "<table border=\"1\" class=\"dataframe\">\n",
       "  <thead>\n",
       "    <tr style=\"text-align: right;\">\n",
       "      <th></th>\n",
       "      <th>One</th>\n",
       "      <th>Two</th>\n",
       "    </tr>\n",
       "  </thead>\n",
       "  <tbody>\n",
       "    <tr>\n",
       "      <th>X</th>\n",
       "      <td>A</td>\n",
       "      <td>1</td>\n",
       "    </tr>\n",
       "    <tr>\n",
       "      <th>Y</th>\n",
       "      <td>B</td>\n",
       "      <td>2</td>\n",
       "    </tr>\n",
       "    <tr>\n",
       "      <th>Z</th>\n",
       "      <td>[1, 2, 3.0]</td>\n",
       "      <td>3</td>\n",
       "    </tr>\n",
       "  </tbody>\n",
       "</table>\n",
       "</div>"
      ],
      "text/plain": [
       "           One  Two\n",
       "X            A    1\n",
       "Y            B    2\n",
       "Z  [1, 2, 3.0]    3"
      ]
     },
     "execution_count": 12,
     "metadata": {},
     "output_type": "execute_result"
    }
   ],
   "source": [
    "data = pd.DataFrame({'One' : ['A' , 'B' , [1 , '2' , 3.0]] , 'Two' : [1 , 2 , 3]} , index = ['X' , 'Y' , 'Z'])\n",
    "print(data.iloc[2]['One'])\n",
    "print(type(data.iloc[2]['One']))\n",
    "data"
   ]
  },
  {
   "cell_type": "code",
   "execution_count": 13,
   "id": "6a9bb1a1",
   "metadata": {},
   "outputs": [
    {
     "name": "stdout",
     "output_type": "stream",
     "text": [
      "文件存在，直接覆盖 'data\\直接覆盖.json'\n"
     ]
    }
   ],
   "source": [
    "# 直接覆盖，可重复运行\n",
    "\n",
    "save_json(data , r'data\\直接覆盖.json')"
   ]
  },
  {
   "cell_type": "code",
   "execution_count": 14,
   "id": "199a712e",
   "metadata": {},
   "outputs": [
    {
     "name": "stdout",
     "output_type": "stream",
     "text": [
      "[1, '2', 3.0]\n",
      "<class 'list'>\n"
     ]
    },
    {
     "data": {
      "text/html": [
       "<div>\n",
       "<style scoped>\n",
       "    .dataframe tbody tr th:only-of-type {\n",
       "        vertical-align: middle;\n",
       "    }\n",
       "\n",
       "    .dataframe tbody tr th {\n",
       "        vertical-align: top;\n",
       "    }\n",
       "\n",
       "    .dataframe thead th {\n",
       "        text-align: right;\n",
       "    }\n",
       "</style>\n",
       "<table border=\"1\" class=\"dataframe\">\n",
       "  <thead>\n",
       "    <tr style=\"text-align: right;\">\n",
       "      <th></th>\n",
       "      <th>One</th>\n",
       "      <th>Two</th>\n",
       "    </tr>\n",
       "  </thead>\n",
       "  <tbody>\n",
       "    <tr>\n",
       "      <th>0</th>\n",
       "      <td>A</td>\n",
       "      <td>1</td>\n",
       "    </tr>\n",
       "    <tr>\n",
       "      <th>1</th>\n",
       "      <td>B</td>\n",
       "      <td>2</td>\n",
       "    </tr>\n",
       "    <tr>\n",
       "      <th>2</th>\n",
       "      <td>[1, 2, 3.0]</td>\n",
       "      <td>3</td>\n",
       "    </tr>\n",
       "  </tbody>\n",
       "</table>\n",
       "</div>"
      ],
      "text/plain": [
       "           One  Two\n",
       "0            A    1\n",
       "1            B    2\n",
       "2  [1, 2, 3.0]    3"
      ]
     },
     "execution_count": 14,
     "metadata": {},
     "output_type": "execute_result"
    }
   ],
   "source": [
    "# 读取\n",
    "# 依旧保持 List 数据类型\n",
    "\n",
    "data = read_json(r'data\\直接覆盖.json')\n",
    "print(data.iloc[2]['One'])\n",
    "print(type(data.iloc[2]['One']))\n",
    "data"
   ]
  },
  {
   "cell_type": "markdown",
   "id": "ab69cdf1",
   "metadata": {},
   "source": [
    "# 测试数据类型"
   ]
  },
  {
   "cell_type": "markdown",
   "id": "b9f88802",
   "metadata": {},
   "source": [
    "## 从 `.xlsx` 中读取\n",
    ">- 详见 `README_Soft` 的 `WPS`"
   ]
  },
  {
   "cell_type": "code",
   "execution_count": 15,
   "id": "42b71ef0",
   "metadata": {},
   "outputs": [],
   "source": [
    "data = read_ex(r'data\\Python 读取 Excel 文件.xlsx')"
   ]
  },
  {
   "cell_type": "code",
   "execution_count": 16,
   "id": "58b91d0c",
   "metadata": {},
   "outputs": [
    {
     "data": {
      "text/plain": [
       "日期一           datetime64[ns]\n",
       "日期二           datetime64[ns]\n",
       "日期三           datetime64[ns]\n",
       "Number 数值              int64\n",
       "Decimal 数值           float64\n",
       "Str 字符串               object\n",
       "dtype: object"
      ]
     },
     "execution_count": 16,
     "metadata": {},
     "output_type": "execute_result"
    }
   ],
   "source": [
    "data.dtypes"
   ]
  },
  {
   "cell_type": "code",
   "execution_count": 17,
   "id": "d7054435",
   "metadata": {},
   "outputs": [
    {
     "name": "stdout",
     "output_type": "stream",
     "text": [
      "(10 行 ,  6 列)\n"
     ]
    },
    {
     "data": {
      "text/html": [
       "<div>\n",
       "<style scoped>\n",
       "    .dataframe tbody tr th:only-of-type {\n",
       "        vertical-align: middle;\n",
       "    }\n",
       "\n",
       "    .dataframe tbody tr th {\n",
       "        vertical-align: top;\n",
       "    }\n",
       "\n",
       "    .dataframe thead th {\n",
       "        text-align: right;\n",
       "    }\n",
       "</style>\n",
       "<table border=\"1\" class=\"dataframe\">\n",
       "  <thead>\n",
       "    <tr style=\"text-align: right;\">\n",
       "      <th></th>\n",
       "      <th>列名</th>\n",
       "      <th>数据类型</th>\n",
       "      <th>NaN 个数</th>\n",
       "      <th>NaN 占比</th>\n",
       "    </tr>\n",
       "  </thead>\n",
       "  <tbody>\n",
       "    <tr>\n",
       "      <th>0</th>\n",
       "      <td>日期一</td>\n",
       "      <td>pandas._libs.tslibs.timestamps.Timestamp</td>\n",
       "      <td>0</td>\n",
       "      <td>0.00%</td>\n",
       "    </tr>\n",
       "    <tr>\n",
       "      <th>1</th>\n",
       "      <td>日期二</td>\n",
       "      <td>pandas._libs.tslibs.timestamps.Timestamp</td>\n",
       "      <td>0</td>\n",
       "      <td>0.00%</td>\n",
       "    </tr>\n",
       "    <tr>\n",
       "      <th>2</th>\n",
       "      <td>日期三</td>\n",
       "      <td>pandas._libs.tslibs.timestamps.Timestamp</td>\n",
       "      <td>0</td>\n",
       "      <td>0.00%</td>\n",
       "    </tr>\n",
       "    <tr>\n",
       "      <th>3</th>\n",
       "      <td>Number 数值</td>\n",
       "      <td>numpy.int64</td>\n",
       "      <td>0</td>\n",
       "      <td>0.00%</td>\n",
       "    </tr>\n",
       "    <tr>\n",
       "      <th>4</th>\n",
       "      <td>Decimal 数值</td>\n",
       "      <td>numpy.float64</td>\n",
       "      <td>0</td>\n",
       "      <td>0.00%</td>\n",
       "    </tr>\n",
       "    <tr>\n",
       "      <th>5</th>\n",
       "      <td>Str 字符串</td>\n",
       "      <td>str</td>\n",
       "      <td>0</td>\n",
       "      <td>0.00%</td>\n",
       "    </tr>\n",
       "  </tbody>\n",
       "</table>\n",
       "</div>"
      ],
      "text/plain": [
       "           列名                                      数据类型  NaN 个数  NaN 占比\n",
       "0         日期一  pandas._libs.tslibs.timestamps.Timestamp       0   0.00%\n",
       "1         日期二  pandas._libs.tslibs.timestamps.Timestamp       0   0.00%\n",
       "2         日期三  pandas._libs.tslibs.timestamps.Timestamp       0   0.00%\n",
       "3   Number 数值                               numpy.int64       0   0.00%\n",
       "4  Decimal 数值                             numpy.float64       0   0.00%\n",
       "5     Str 字符串                                       str       0   0.00%"
      ]
     },
     "metadata": {},
     "output_type": "display_data"
    }
   ],
   "source": [
    "cols = allCol(data)"
   ]
  },
  {
   "cell_type": "code",
   "execution_count": 18,
   "id": "05fdf84e",
   "metadata": {
    "scrolled": true
   },
   "outputs": [
    {
     "data": {
      "text/plain": [
       "[pandas._libs.tslibs.timestamps.Timestamp,\n",
       " pandas._libs.tslibs.timestamps.Timestamp,\n",
       " pandas._libs.tslibs.timestamps.Timestamp,\n",
       " numpy.int64,\n",
       " numpy.float64,\n",
       " str]"
      ]
     },
     "execution_count": 18,
     "metadata": {},
     "output_type": "execute_result"
    }
   ],
   "source": [
    "allCol_simple(data)"
   ]
  },
  {
   "cell_type": "code",
   "execution_count": 19,
   "id": "6a8edbb0",
   "metadata": {},
   "outputs": [
    {
     "data": {
      "text/plain": [
       "True"
      ]
     },
     "execution_count": 19,
     "metadata": {},
     "output_type": "execute_result"
    }
   ],
   "source": [
    "str in allCol_simple(data)"
   ]
  },
  {
   "cell_type": "code",
   "execution_count": 20,
   "id": "6ea88766",
   "metadata": {},
   "outputs": [
    {
     "data": {
      "text/plain": [
       "True"
      ]
     },
     "execution_count": 20,
     "metadata": {},
     "output_type": "execute_result"
    }
   ],
   "source": [
    "np.int64 in allCol_simple(data)"
   ]
  },
  {
   "cell_type": "code",
   "execution_count": 21,
   "id": "0a96386a",
   "metadata": {},
   "outputs": [
    {
     "data": {
      "text/plain": [
       "True"
      ]
     },
     "execution_count": 21,
     "metadata": {},
     "output_type": "execute_result"
    }
   ],
   "source": [
    "pd._libs.tslibs.timestamps.Timestamp in allCol_simple(data)"
   ]
  },
  {
   "cell_type": "code",
   "execution_count": 22,
   "id": "86c69049",
   "metadata": {},
   "outputs": [
    {
     "data": {
      "text/html": [
       "<div>\n",
       "<style scoped>\n",
       "    .dataframe tbody tr th:only-of-type {\n",
       "        vertical-align: middle;\n",
       "    }\n",
       "\n",
       "    .dataframe tbody tr th {\n",
       "        vertical-align: top;\n",
       "    }\n",
       "\n",
       "    .dataframe thead th {\n",
       "        text-align: right;\n",
       "    }\n",
       "</style>\n",
       "<table border=\"1\" class=\"dataframe\">\n",
       "  <thead>\n",
       "    <tr style=\"text-align: right;\">\n",
       "      <th></th>\n",
       "      <th>日期一</th>\n",
       "      <th>日期二</th>\n",
       "      <th>日期三</th>\n",
       "      <th>Number 数值</th>\n",
       "      <th>Decimal 数值</th>\n",
       "      <th>Str 字符串</th>\n",
       "    </tr>\n",
       "  </thead>\n",
       "  <tbody>\n",
       "    <tr>\n",
       "      <th>0</th>\n",
       "      <td>2022-07-25</td>\n",
       "      <td>2022-07-25</td>\n",
       "      <td>2022-07-25</td>\n",
       "      <td>1</td>\n",
       "      <td>-1.45230</td>\n",
       "      <td>我；</td>\n",
       "    </tr>\n",
       "    <tr>\n",
       "      <th>1</th>\n",
       "      <td>2022-07-26</td>\n",
       "      <td>2022-07-26</td>\n",
       "      <td>2022-07-26</td>\n",
       "      <td>-4523</td>\n",
       "      <td>439.70300</td>\n",
       "      <td>你。</td>\n",
       "    </tr>\n",
       "    <tr>\n",
       "      <th>2</th>\n",
       "      <td>2022-07-27</td>\n",
       "      <td>2022-07-27</td>\n",
       "      <td>2022-07-27</td>\n",
       "      <td>3</td>\n",
       "      <td>5.64000</td>\n",
       "      <td>他！</td>\n",
       "    </tr>\n",
       "    <tr>\n",
       "      <th>3</th>\n",
       "      <td>2022-07-28</td>\n",
       "      <td>2022-07-28</td>\n",
       "      <td>2022-07-28</td>\n",
       "      <td>7435431</td>\n",
       "      <td>1234.58000</td>\n",
       "      <td>她？</td>\n",
       "    </tr>\n",
       "    <tr>\n",
       "      <th>4</th>\n",
       "      <td>2022-07-29</td>\n",
       "      <td>2022-07-29</td>\n",
       "      <td>2022-07-29</td>\n",
       "      <td>-543</td>\n",
       "      <td>-3.14159</td>\n",
       "      <td>它￥￥￥</td>\n",
       "    </tr>\n",
       "    <tr>\n",
       "      <th>5</th>\n",
       "      <td>2022-07-30</td>\n",
       "      <td>2022-07-30</td>\n",
       "      <td>2022-07-30</td>\n",
       "      <td>3</td>\n",
       "      <td>0.90100</td>\n",
       "      <td>*&amp;#……</td>\n",
       "    </tr>\n",
       "    <tr>\n",
       "      <th>6</th>\n",
       "      <td>2022-07-31</td>\n",
       "      <td>2022-07-31</td>\n",
       "      <td>2022-07-31</td>\n",
       "      <td>-4178</td>\n",
       "      <td>99.10100</td>\n",
       "      <td>Achilles Prime</td>\n",
       "    </tr>\n",
       "    <tr>\n",
       "      <th>7</th>\n",
       "      <td>2022-08-01</td>\n",
       "      <td>2022-08-01</td>\n",
       "      <td>2022-08-01</td>\n",
       "      <td>99</td>\n",
       "      <td>0.00000</td>\n",
       "      <td>OK-OK-OK</td>\n",
       "    </tr>\n",
       "    <tr>\n",
       "      <th>8</th>\n",
       "      <td>2022-08-02</td>\n",
       "      <td>2022-08-02</td>\n",
       "      <td>2022-08-02</td>\n",
       "      <td>100</td>\n",
       "      <td>-19768.28600</td>\n",
       "      <td>$$$$$$</td>\n",
       "    </tr>\n",
       "    <tr>\n",
       "      <th>9</th>\n",
       "      <td>2022-08-03</td>\n",
       "      <td>2022-08-03</td>\n",
       "      <td>2022-08-03</td>\n",
       "      <td>0</td>\n",
       "      <td>62.93000</td>\n",
       "      <td>日记</td>\n",
       "    </tr>\n",
       "  </tbody>\n",
       "</table>\n",
       "</div>"
      ],
      "text/plain": [
       "         日期一        日期二        日期三  Number 数值   Decimal 数值         Str 字符串\n",
       "0 2022-07-25 2022-07-25 2022-07-25          1     -1.45230              我；\n",
       "1 2022-07-26 2022-07-26 2022-07-26      -4523    439.70300              你。\n",
       "2 2022-07-27 2022-07-27 2022-07-27          3      5.64000              他！\n",
       "3 2022-07-28 2022-07-28 2022-07-28    7435431   1234.58000              她？\n",
       "4 2022-07-29 2022-07-29 2022-07-29       -543     -3.14159            它￥￥￥\n",
       "5 2022-07-30 2022-07-30 2022-07-30          3      0.90100           *&#……\n",
       "6 2022-07-31 2022-07-31 2022-07-31      -4178     99.10100  Achilles Prime\n",
       "7 2022-08-01 2022-08-01 2022-08-01         99      0.00000        OK-OK-OK\n",
       "8 2022-08-02 2022-08-02 2022-08-02        100 -19768.28600          $$$$$$\n",
       "9 2022-08-03 2022-08-03 2022-08-03          0     62.93000              日记"
      ]
     },
     "execution_count": 22,
     "metadata": {},
     "output_type": "execute_result"
    }
   ],
   "source": [
    "data"
   ]
  },
  {
   "cell_type": "markdown",
   "id": "74d4a414",
   "metadata": {},
   "source": [
    "## 从 `.json` 中读取"
   ]
  },
  {
   "cell_type": "code",
   "execution_count": 23,
   "id": "fa842b48",
   "metadata": {},
   "outputs": [
    {
     "name": "stdout",
     "output_type": "stream",
     "text": [
      "(23162行 ,  5 列)\n"
     ]
    },
    {
     "data": {
      "text/html": [
       "<div>\n",
       "<style scoped>\n",
       "    .dataframe tbody tr th:only-of-type {\n",
       "        vertical-align: middle;\n",
       "    }\n",
       "\n",
       "    .dataframe tbody tr th {\n",
       "        vertical-align: top;\n",
       "    }\n",
       "\n",
       "    .dataframe thead th {\n",
       "        text-align: right;\n",
       "    }\n",
       "</style>\n",
       "<table border=\"1\" class=\"dataframe\">\n",
       "  <thead>\n",
       "    <tr style=\"text-align: right;\">\n",
       "      <th></th>\n",
       "      <th>列名</th>\n",
       "      <th>数据类型</th>\n",
       "      <th>NaN 个数</th>\n",
       "      <th>NaN 占比</th>\n",
       "    </tr>\n",
       "  </thead>\n",
       "  <tbody>\n",
       "    <tr>\n",
       "      <th>0</th>\n",
       "      <td>id</td>\n",
       "      <td>numpy.int64</td>\n",
       "      <td>0</td>\n",
       "      <td>0.00%</td>\n",
       "    </tr>\n",
       "    <tr>\n",
       "      <th>1</th>\n",
       "      <td>original_text</td>\n",
       "      <td>str</td>\n",
       "      <td>0</td>\n",
       "      <td>0.00%</td>\n",
       "    </tr>\n",
       "    <tr>\n",
       "      <th>2</th>\n",
       "      <td>segmented_text</td>\n",
       "      <td>str</td>\n",
       "      <td>0</td>\n",
       "      <td>0.00%</td>\n",
       "    </tr>\n",
       "    <tr>\n",
       "      <th>3</th>\n",
       "      <td>equation</td>\n",
       "      <td>str</td>\n",
       "      <td>0</td>\n",
       "      <td>0.00%</td>\n",
       "    </tr>\n",
       "    <tr>\n",
       "      <th>4</th>\n",
       "      <td>ans</td>\n",
       "      <td>str</td>\n",
       "      <td>0</td>\n",
       "      <td>0.00%</td>\n",
       "    </tr>\n",
       "  </tbody>\n",
       "</table>\n",
       "</div>"
      ],
      "text/plain": [
       "               列名         数据类型  NaN 个数  NaN 占比\n",
       "0              id  numpy.int64       0   0.00%\n",
       "1   original_text          str       0   0.00%\n",
       "2  segmented_text          str       0   0.00%\n",
       "3        equation          str       0   0.00%\n",
       "4             ans          str       0   0.00%"
      ]
     },
     "metadata": {},
     "output_type": "display_data"
    }
   ],
   "source": [
    "# 读取\n",
    "# 因为 ans 列有些为 '...%' 百分数形式，所以也为 String 类型\n",
    "\n",
    "data  = read_json(r'data\\Math23K.json')\n",
    "cols = allCol(data)"
   ]
  },
  {
   "cell_type": "code",
   "execution_count": 24,
   "id": "3e3de721",
   "metadata": {},
   "outputs": [
    {
     "data": {
      "text/html": [
       "<div>\n",
       "<style scoped>\n",
       "    .dataframe tbody tr th:only-of-type {\n",
       "        vertical-align: middle;\n",
       "    }\n",
       "\n",
       "    .dataframe tbody tr th {\n",
       "        vertical-align: top;\n",
       "    }\n",
       "\n",
       "    .dataframe thead th {\n",
       "        text-align: right;\n",
       "    }\n",
       "</style>\n",
       "<table border=\"1\" class=\"dataframe\">\n",
       "  <thead>\n",
       "    <tr style=\"text-align: right;\">\n",
       "      <th></th>\n",
       "      <th>id</th>\n",
       "      <th>original_text</th>\n",
       "      <th>segmented_text</th>\n",
       "      <th>equation</th>\n",
       "      <th>ans</th>\n",
       "    </tr>\n",
       "  </thead>\n",
       "  <tbody>\n",
       "    <tr>\n",
       "      <th>6</th>\n",
       "      <td>7</td>\n",
       "      <td>象山学校原有学生700人，7月份毕业280人，9月份招入新生350人，这时象山学校的学生比原...</td>\n",
       "      <td>象山 学校 原有 学生 700 人 ， 7 月份 毕业 280 人 ， 9 月份 招 入 新...</td>\n",
       "      <td>x=(350-280)/700</td>\n",
       "      <td>10%</td>\n",
       "    </tr>\n",
       "  </tbody>\n",
       "</table>\n",
       "</div>"
      ],
      "text/plain": [
       "   id                                      original_text  \\\n",
       "6   7  象山学校原有学生700人，7月份毕业280人，9月份招入新生350人，这时象山学校的学生比原...   \n",
       "\n",
       "                                      segmented_text         equation  ans  \n",
       "6  象山 学校 原有 学生 700 人 ， 7 月份 毕业 280 人 ， 9 月份 招 入 新...  x=(350-280)/700  10%  "
      ]
     },
     "execution_count": 24,
     "metadata": {},
     "output_type": "execute_result"
    }
   ],
   "source": [
    "data.iloc[[6]]"
   ]
  },
  {
   "cell_type": "markdown",
   "id": "31b78ce5",
   "metadata": {},
   "source": [
    "# 测试搜索"
   ]
  },
  {
   "cell_type": "code",
   "execution_count": 25,
   "id": "8c0ceb82",
   "metadata": {},
   "outputs": [
    {
     "name": "stdout",
     "output_type": "stream",
     "text": [
      "( 6 行 ,  3 列)\n"
     ]
    },
    {
     "data": {
      "text/html": [
       "<div>\n",
       "<style scoped>\n",
       "    .dataframe tbody tr th:only-of-type {\n",
       "        vertical-align: middle;\n",
       "    }\n",
       "\n",
       "    .dataframe tbody tr th {\n",
       "        vertical-align: top;\n",
       "    }\n",
       "\n",
       "    .dataframe thead th {\n",
       "        text-align: right;\n",
       "    }\n",
       "</style>\n",
       "<table border=\"1\" class=\"dataframe\">\n",
       "  <thead>\n",
       "    <tr style=\"text-align: right;\">\n",
       "      <th></th>\n",
       "      <th>列名</th>\n",
       "      <th>数据类型</th>\n",
       "      <th>NaN 个数</th>\n",
       "      <th>NaN 占比</th>\n",
       "    </tr>\n",
       "  </thead>\n",
       "  <tbody>\n",
       "    <tr>\n",
       "      <th>0</th>\n",
       "      <td>i</td>\n",
       "      <td>numpy.int64</td>\n",
       "      <td>0</td>\n",
       "      <td>0.00%</td>\n",
       "    </tr>\n",
       "    <tr>\n",
       "      <th>1</th>\n",
       "      <td>S</td>\n",
       "      <td>str</td>\n",
       "      <td>0</td>\n",
       "      <td>0.00%</td>\n",
       "    </tr>\n",
       "    <tr>\n",
       "      <th>2</th>\n",
       "      <td>L</td>\n",
       "      <td>list</td>\n",
       "      <td>0</td>\n",
       "      <td>0.00%</td>\n",
       "    </tr>\n",
       "  </tbody>\n",
       "</table>\n",
       "</div>"
      ],
      "text/plain": [
       "  列名         数据类型  NaN 个数  NaN 占比\n",
       "0  i  numpy.int64       0   0.00%\n",
       "1  S          str       0   0.00%\n",
       "2  L         list       0   0.00%"
      ]
     },
     "metadata": {},
     "output_type": "display_data"
    },
    {
     "data": {
      "text/html": [
       "<div>\n",
       "<style scoped>\n",
       "    .dataframe tbody tr th:only-of-type {\n",
       "        vertical-align: middle;\n",
       "    }\n",
       "\n",
       "    .dataframe tbody tr th {\n",
       "        vertical-align: top;\n",
       "    }\n",
       "\n",
       "    .dataframe thead th {\n",
       "        text-align: right;\n",
       "    }\n",
       "</style>\n",
       "<table border=\"1\" class=\"dataframe\">\n",
       "  <thead>\n",
       "    <tr style=\"text-align: right;\">\n",
       "      <th></th>\n",
       "      <th>i</th>\n",
       "      <th>S</th>\n",
       "      <th>L</th>\n",
       "    </tr>\n",
       "  </thead>\n",
       "  <tbody>\n",
       "    <tr>\n",
       "      <th>A</th>\n",
       "      <td>1</td>\n",
       "      <td>aba</td>\n",
       "      <td>[1, 2, 3]</td>\n",
       "    </tr>\n",
       "    <tr>\n",
       "      <th>B</th>\n",
       "      <td>2</td>\n",
       "      <td>bAb</td>\n",
       "      <td>[4, 5, 6]</td>\n",
       "    </tr>\n",
       "    <tr>\n",
       "      <th>C</th>\n",
       "      <td>3</td>\n",
       "      <td>cdc</td>\n",
       "      <td>[7, 8, 9]</td>\n",
       "    </tr>\n",
       "    <tr>\n",
       "      <th>D</th>\n",
       "      <td>4</td>\n",
       "      <td>dCd</td>\n",
       "      <td>[1, 3, 5]</td>\n",
       "    </tr>\n",
       "    <tr>\n",
       "      <th>E</th>\n",
       "      <td>5</td>\n",
       "      <td>efe</td>\n",
       "      <td>[2, 4, 6]</td>\n",
       "    </tr>\n",
       "    <tr>\n",
       "      <th>F</th>\n",
       "      <td>6</td>\n",
       "      <td>fFf</td>\n",
       "      <td>[3, 5, 7]</td>\n",
       "    </tr>\n",
       "  </tbody>\n",
       "</table>\n",
       "</div>"
      ],
      "text/plain": [
       "   i    S          L\n",
       "A  1  aba  [1, 2, 3]\n",
       "B  2  bAb  [4, 5, 6]\n",
       "C  3  cdc  [7, 8, 9]\n",
       "D  4  dCd  [1, 3, 5]\n",
       "E  5  efe  [2, 4, 6]\n",
       "F  6  fFf  [3, 5, 7]"
      ]
     },
     "execution_count": 25,
     "metadata": {},
     "output_type": "execute_result"
    }
   ],
   "source": [
    "data  = pd.DataFrame()\n",
    "data['i'] = list(range(1 , 7 , 1))\n",
    "data['S'] = ['aba' , 'bAb' , 'cdc' , 'dCd' , 'efe' , 'fFf']\n",
    "data['L'] = [[1 , 2 , '3'] , [4 , 5 , '6'] , [7 , 8 , '9'] , [1 , 3 , '5'] , [2 , 4 , '6'] , [3 , 5 , '7']]\n",
    "data.index = ['A' , 'B' , 'C' , 'D' , 'E' , 'F']\n",
    "cols = allCol(data)\n",
    "data"
   ]
  },
  {
   "cell_type": "markdown",
   "id": "2a4eebe1",
   "metadata": {},
   "source": [
    "## 单个 `sub`"
   ]
  },
  {
   "cell_type": "code",
   "execution_count": 26,
   "id": "a7dafb07",
   "metadata": {},
   "outputs": [
    {
     "data": {
      "text/html": [
       "<div>\n",
       "<style scoped>\n",
       "    .dataframe tbody tr th:only-of-type {\n",
       "        vertical-align: middle;\n",
       "    }\n",
       "\n",
       "    .dataframe tbody tr th {\n",
       "        vertical-align: top;\n",
       "    }\n",
       "\n",
       "    .dataframe thead th {\n",
       "        text-align: right;\n",
       "    }\n",
       "</style>\n",
       "<table border=\"1\" class=\"dataframe\">\n",
       "  <thead>\n",
       "    <tr style=\"text-align: right;\">\n",
       "      <th></th>\n",
       "      <th>i</th>\n",
       "      <th>S</th>\n",
       "      <th>exist</th>\n",
       "    </tr>\n",
       "  </thead>\n",
       "  <tbody>\n",
       "    <tr>\n",
       "      <th>C</th>\n",
       "      <td>3</td>\n",
       "      <td>cdc</td>\n",
       "      <td>True</td>\n",
       "    </tr>\n",
       "    <tr>\n",
       "      <th>D</th>\n",
       "      <td>4</td>\n",
       "      <td>dCd</td>\n",
       "      <td>True</td>\n",
       "    </tr>\n",
       "  </tbody>\n",
       "</table>\n",
       "</div>"
      ],
      "text/plain": [
       "   i    S  exist\n",
       "C  3  cdc   True\n",
       "D  4  dCd   True"
      ]
     },
     "execution_count": 26,
     "metadata": {},
     "output_type": "execute_result"
    }
   ],
   "source": [
    "# 在 S 列中搜索字符串 'd'\n",
    "\n",
    "find_sub(data[['i' , 'S']] , 'S' , 'd')"
   ]
  },
  {
   "cell_type": "code",
   "execution_count": 27,
   "id": "28020c1b",
   "metadata": {},
   "outputs": [
    {
     "data": {
      "text/html": [
       "<div>\n",
       "<style scoped>\n",
       "    .dataframe tbody tr th:only-of-type {\n",
       "        vertical-align: middle;\n",
       "    }\n",
       "\n",
       "    .dataframe tbody tr th {\n",
       "        vertical-align: top;\n",
       "    }\n",
       "\n",
       "    .dataframe thead th {\n",
       "        text-align: right;\n",
       "    }\n",
       "</style>\n",
       "<table border=\"1\" class=\"dataframe\">\n",
       "  <thead>\n",
       "    <tr style=\"text-align: right;\">\n",
       "      <th></th>\n",
       "      <th>i</th>\n",
       "      <th>L</th>\n",
       "      <th>exist</th>\n",
       "    </tr>\n",
       "  </thead>\n",
       "  <tbody>\n",
       "    <tr>\n",
       "      <th>D</th>\n",
       "      <td>4</td>\n",
       "      <td>[1, 3, 5]</td>\n",
       "      <td>True</td>\n",
       "    </tr>\n",
       "    <tr>\n",
       "      <th>F</th>\n",
       "      <td>6</td>\n",
       "      <td>[3, 5, 7]</td>\n",
       "      <td>True</td>\n",
       "    </tr>\n",
       "  </tbody>\n",
       "</table>\n",
       "</div>"
      ],
      "text/plain": [
       "   i          L  exist\n",
       "D  4  [1, 3, 5]   True\n",
       "F  6  [3, 5, 7]   True"
      ]
     },
     "execution_count": 27,
     "metadata": {},
     "output_type": "execute_result"
    }
   ],
   "source": [
    "# 在 L 列中搜索数字 3\n",
    "\n",
    "find_sub(data[['i' , 'L']] , 'L' , 3)"
   ]
  },
  {
   "cell_type": "code",
   "execution_count": 28,
   "id": "b934f299",
   "metadata": {},
   "outputs": [
    {
     "data": {
      "text/html": [
       "<div>\n",
       "<style scoped>\n",
       "    .dataframe tbody tr th:only-of-type {\n",
       "        vertical-align: middle;\n",
       "    }\n",
       "\n",
       "    .dataframe tbody tr th {\n",
       "        vertical-align: top;\n",
       "    }\n",
       "\n",
       "    .dataframe thead th {\n",
       "        text-align: right;\n",
       "    }\n",
       "</style>\n",
       "<table border=\"1\" class=\"dataframe\">\n",
       "  <thead>\n",
       "    <tr style=\"text-align: right;\">\n",
       "      <th></th>\n",
       "      <th>i</th>\n",
       "      <th>L</th>\n",
       "      <th>exist</th>\n",
       "    </tr>\n",
       "  </thead>\n",
       "  <tbody>\n",
       "    <tr>\n",
       "      <th>A</th>\n",
       "      <td>1</td>\n",
       "      <td>[1, 2, 3]</td>\n",
       "      <td>True</td>\n",
       "    </tr>\n",
       "  </tbody>\n",
       "</table>\n",
       "</div>"
      ],
      "text/plain": [
       "   i          L  exist\n",
       "A  1  [1, 2, 3]   True"
      ]
     },
     "execution_count": 28,
     "metadata": {},
     "output_type": "execute_result"
    }
   ],
   "source": [
    "# 在 L 列中搜索字符串 '3'\n",
    "\n",
    "find_sub(data[['i' , 'L']] , 'L' , '3')"
   ]
  },
  {
   "cell_type": "markdown",
   "id": "dde1b955",
   "metadata": {},
   "source": [
    "## 多个 `subs`"
   ]
  },
  {
   "cell_type": "code",
   "execution_count": 29,
   "id": "9b598cf3",
   "metadata": {},
   "outputs": [
    {
     "data": {
      "text/html": [
       "<div>\n",
       "<style scoped>\n",
       "    .dataframe tbody tr th:only-of-type {\n",
       "        vertical-align: middle;\n",
       "    }\n",
       "\n",
       "    .dataframe tbody tr th {\n",
       "        vertical-align: top;\n",
       "    }\n",
       "\n",
       "    .dataframe thead th {\n",
       "        text-align: right;\n",
       "    }\n",
       "</style>\n",
       "<table border=\"1\" class=\"dataframe\">\n",
       "  <thead>\n",
       "    <tr style=\"text-align: right;\">\n",
       "      <th></th>\n",
       "      <th>L</th>\n",
       "      <th>exist</th>\n",
       "    </tr>\n",
       "  </thead>\n",
       "  <tbody>\n",
       "    <tr>\n",
       "      <th>A</th>\n",
       "      <td>[1, 2, 3]</td>\n",
       "      <td>True</td>\n",
       "    </tr>\n",
       "    <tr>\n",
       "      <th>D</th>\n",
       "      <td>[1, 3, 5]</td>\n",
       "      <td>True</td>\n",
       "    </tr>\n",
       "    <tr>\n",
       "      <th>D</th>\n",
       "      <td>[1, 3, 5]</td>\n",
       "      <td>True</td>\n",
       "    </tr>\n",
       "    <tr>\n",
       "      <th>F</th>\n",
       "      <td>[3, 5, 7]</td>\n",
       "      <td>True</td>\n",
       "    </tr>\n",
       "    <tr>\n",
       "      <th>A</th>\n",
       "      <td>[1, 2, 3]</td>\n",
       "      <td>True</td>\n",
       "    </tr>\n",
       "  </tbody>\n",
       "</table>\n",
       "</div>"
      ],
      "text/plain": [
       "           L  exist\n",
       "A  [1, 2, 3]   True\n",
       "D  [1, 3, 5]   True\n",
       "D  [1, 3, 5]   True\n",
       "F  [3, 5, 7]   True\n",
       "A  [1, 2, 3]   True"
      ]
     },
     "execution_count": 29,
     "metadata": {},
     "output_type": "execute_result"
    }
   ],
   "source": [
    "# 在 L 列中搜索数字 1 ，3 和字符串 '3'\n",
    "# 同时含有多个元素的行会重复，可依据行索引观察到\n",
    "\n",
    "find_subs(data[['L']] , 'L' , [1 , 3 , '3'])"
   ]
  },
  {
   "cell_type": "code",
   "execution_count": 30,
   "id": "5a04514f",
   "metadata": {},
   "outputs": [
    {
     "name": "stdout",
     "output_type": "stream",
     "text": [
      "含有 List 列，无法去重，仅能重置行索引！！！\n"
     ]
    },
    {
     "data": {
      "text/html": [
       "<div>\n",
       "<style scoped>\n",
       "    .dataframe tbody tr th:only-of-type {\n",
       "        vertical-align: middle;\n",
       "    }\n",
       "\n",
       "    .dataframe tbody tr th {\n",
       "        vertical-align: top;\n",
       "    }\n",
       "\n",
       "    .dataframe thead th {\n",
       "        text-align: right;\n",
       "    }\n",
       "</style>\n",
       "<table border=\"1\" class=\"dataframe\">\n",
       "  <thead>\n",
       "    <tr style=\"text-align: right;\">\n",
       "      <th></th>\n",
       "      <th>L</th>\n",
       "      <th>exist</th>\n",
       "    </tr>\n",
       "  </thead>\n",
       "  <tbody>\n",
       "    <tr>\n",
       "      <th>0</th>\n",
       "      <td>[1, 2, 3]</td>\n",
       "      <td>True</td>\n",
       "    </tr>\n",
       "    <tr>\n",
       "      <th>1</th>\n",
       "      <td>[1, 3, 5]</td>\n",
       "      <td>True</td>\n",
       "    </tr>\n",
       "    <tr>\n",
       "      <th>2</th>\n",
       "      <td>[1, 3, 5]</td>\n",
       "      <td>True</td>\n",
       "    </tr>\n",
       "    <tr>\n",
       "      <th>3</th>\n",
       "      <td>[3, 5, 7]</td>\n",
       "      <td>True</td>\n",
       "    </tr>\n",
       "    <tr>\n",
       "      <th>4</th>\n",
       "      <td>[1, 2, 3]</td>\n",
       "      <td>True</td>\n",
       "    </tr>\n",
       "  </tbody>\n",
       "</table>\n",
       "</div>"
      ],
      "text/plain": [
       "           L  exist\n",
       "0  [1, 2, 3]   True\n",
       "1  [1, 3, 5]   True\n",
       "2  [1, 3, 5]   True\n",
       "3  [3, 5, 7]   True\n",
       "4  [1, 2, 3]   True"
      ]
     },
     "execution_count": 30,
     "metadata": {},
     "output_type": "execute_result"
    }
   ],
   "source": [
    "# 含有 List 列，仅重置行索引，无法去重\n",
    "\n",
    "find_subs_nodul(data[['L']] , 'L' , [1 , 3 , '3'])"
   ]
  },
  {
   "cell_type": "code",
   "execution_count": 31,
   "id": "3c1a84c0",
   "metadata": {},
   "outputs": [
    {
     "data": {
      "text/html": [
       "<div>\n",
       "<style scoped>\n",
       "    .dataframe tbody tr th:only-of-type {\n",
       "        vertical-align: middle;\n",
       "    }\n",
       "\n",
       "    .dataframe tbody tr th {\n",
       "        vertical-align: top;\n",
       "    }\n",
       "\n",
       "    .dataframe thead th {\n",
       "        text-align: right;\n",
       "    }\n",
       "</style>\n",
       "<table border=\"1\" class=\"dataframe\">\n",
       "  <thead>\n",
       "    <tr style=\"text-align: right;\">\n",
       "      <th></th>\n",
       "      <th>S</th>\n",
       "      <th>exist</th>\n",
       "    </tr>\n",
       "  </thead>\n",
       "  <tbody>\n",
       "    <tr>\n",
       "      <th>E</th>\n",
       "      <td>efe</td>\n",
       "      <td>True</td>\n",
       "    </tr>\n",
       "    <tr>\n",
       "      <th>E</th>\n",
       "      <td>efe</td>\n",
       "      <td>True</td>\n",
       "    </tr>\n",
       "    <tr>\n",
       "      <th>F</th>\n",
       "      <td>fFf</td>\n",
       "      <td>True</td>\n",
       "    </tr>\n",
       "  </tbody>\n",
       "</table>\n",
       "</div>"
      ],
      "text/plain": [
       "     S  exist\n",
       "E  efe   True\n",
       "E  efe   True\n",
       "F  fFf   True"
      ]
     },
     "execution_count": 31,
     "metadata": {},
     "output_type": "execute_result"
    }
   ],
   "source": [
    "# 在 S 列中搜索字符串 'e' , 'f'\n",
    "# 同时含有多个元素的行会重复，可依据行索引观察到\n",
    "\n",
    "find_subs(data[['S']] , 'S' , ['e' , 'f'])"
   ]
  },
  {
   "cell_type": "code",
   "execution_count": 32,
   "id": "ef688316",
   "metadata": {},
   "outputs": [
    {
     "data": {
      "text/html": [
       "<div>\n",
       "<style scoped>\n",
       "    .dataframe tbody tr th:only-of-type {\n",
       "        vertical-align: middle;\n",
       "    }\n",
       "\n",
       "    .dataframe tbody tr th {\n",
       "        vertical-align: top;\n",
       "    }\n",
       "\n",
       "    .dataframe thead th {\n",
       "        text-align: right;\n",
       "    }\n",
       "</style>\n",
       "<table border=\"1\" class=\"dataframe\">\n",
       "  <thead>\n",
       "    <tr style=\"text-align: right;\">\n",
       "      <th></th>\n",
       "      <th>S</th>\n",
       "      <th>exist</th>\n",
       "    </tr>\n",
       "  </thead>\n",
       "  <tbody>\n",
       "    <tr>\n",
       "      <th>0</th>\n",
       "      <td>efe</td>\n",
       "      <td>True</td>\n",
       "    </tr>\n",
       "    <tr>\n",
       "      <th>1</th>\n",
       "      <td>fFf</td>\n",
       "      <td>True</td>\n",
       "    </tr>\n",
       "  </tbody>\n",
       "</table>\n",
       "</div>"
      ],
      "text/plain": [
       "     S  exist\n",
       "0  efe   True\n",
       "1  fFf   True"
      ]
     },
     "execution_count": 32,
     "metadata": {},
     "output_type": "execute_result"
    }
   ],
   "source": [
    "# 不含 List 列，既可以重置行索引，又可以去重\n",
    "\n",
    "find_subs_nodul(data[['S']] , 'S' , ['e' , 'f'])"
   ]
  },
  {
   "cell_type": "markdown",
   "id": "457bf19a",
   "metadata": {},
   "source": [
    "# 测试提取"
   ]
  },
  {
   "cell_type": "markdown",
   "id": "40dc32d9",
   "metadata": {},
   "source": [
    "## 目标函数"
   ]
  },
  {
   "cell_type": "code",
   "execution_count": 33,
   "id": "6e551fdc",
   "metadata": {},
   "outputs": [
    {
     "name": "stdout",
     "output_type": "stream",
     "text": [
      "True  True  True  True  True  True  True  True  True  True  True  True  True  True  True  True  True  True  True  True  True  "
     ]
    }
   ],
   "source": [
    "# 判断字符串是否为数字\n",
    "\n",
    "for ch in '.0.1.2.3.4.5.6.7.8.9.':\n",
    "    print(Needed_Num(ch) , end = '  ')"
   ]
  },
  {
   "cell_type": "markdown",
   "id": "ca5b6c40",
   "metadata": {},
   "source": [
    "## 数值转换"
   ]
  },
  {
   "cell_type": "code",
   "execution_count": 34,
   "id": "d8635d4e",
   "metadata": {},
   "outputs": [],
   "source": [
    "L = ['33' , '33.199' , '33.299' , '33.399' , '33.499' , '33.500' , '33.600' , '33.700' , '33.800' , '33.900']"
   ]
  },
  {
   "cell_type": "code",
   "execution_count": 35,
   "id": "b4c6a64f",
   "metadata": {
    "scrolled": true
   },
   "outputs": [
    {
     "data": {
      "text/plain": [
       "[33.0, 33.199, 33.299, 33.399, 33.499, 33.5, 33.6, 33.7, 33.8, 33.9]"
      ]
     },
     "execution_count": 35,
     "metadata": {},
     "output_type": "execute_result"
    }
   ],
   "source": [
    "trans_flo_all(L)"
   ]
  },
  {
   "cell_type": "code",
   "execution_count": 36,
   "id": "af8f67dd",
   "metadata": {},
   "outputs": [
    {
     "data": {
      "text/plain": [
       "[33.0, 33.0, 33.0, 33.0, 33.0, 34.0, 34.0, 34.0, 34.0, 34.0]"
      ]
     },
     "execution_count": 36,
     "metadata": {},
     "output_type": "execute_result"
    }
   ],
   "source": [
    "trans_flo_round(L , 0)"
   ]
  },
  {
   "cell_type": "code",
   "execution_count": 37,
   "id": "2bd29460",
   "metadata": {},
   "outputs": [
    {
     "data": {
      "text/plain": [
       "[33, 33, 33, 33, 33, 33, 33, 33, 33, 33]"
      ]
     },
     "execution_count": 37,
     "metadata": {},
     "output_type": "execute_result"
    }
   ],
   "source": [
    "trans_int(trans_flo_all(L))"
   ]
  },
  {
   "cell_type": "code",
   "execution_count": 38,
   "id": "5c394bf0",
   "metadata": {},
   "outputs": [
    {
     "data": {
      "text/plain": [
       "[33, 33, 33, 33, 33, 34, 34, 34, 34, 34]"
      ]
     },
     "execution_count": 38,
     "metadata": {},
     "output_type": "execute_result"
    }
   ],
   "source": [
    "trans_int(trans_flo_round(L , 0))"
   ]
  },
  {
   "cell_type": "code",
   "execution_count": 39,
   "id": "efa9138a",
   "metadata": {},
   "outputs": [
    {
     "data": {
      "text/plain": [
       "[33, 33, 33, 33, 33, 34, 34, 34, 34, 34]"
      ]
     },
     "execution_count": 39,
     "metadata": {},
     "output_type": "execute_result"
    }
   ],
   "source": [
    "trans_often(L)"
   ]
  },
  {
   "cell_type": "code",
   "execution_count": 40,
   "id": "d18ab81f",
   "metadata": {},
   "outputs": [
    {
     "data": {
      "text/plain": [
       "6"
      ]
     },
     "execution_count": 40,
     "metadata": {},
     "output_type": "execute_result"
    }
   ],
   "source": [
    "addListTool([1 , 2 , 3])"
   ]
  },
  {
   "cell_type": "code",
   "execution_count": 41,
   "id": "3b1aa70e",
   "metadata": {},
   "outputs": [
    {
     "data": {
      "text/plain": [
       "6.0"
      ]
     },
     "execution_count": 41,
     "metadata": {},
     "output_type": "execute_result"
    }
   ],
   "source": [
    "addListTool([1 , 2 , 3.0])"
   ]
  },
  {
   "cell_type": "code",
   "execution_count": 42,
   "id": "1ac0ddbd",
   "metadata": {},
   "outputs": [
    {
     "data": {
      "text/plain": [
       "0"
      ]
     },
     "execution_count": 42,
     "metadata": {},
     "output_type": "execute_result"
    }
   ],
   "source": [
    "addListTool([ ])"
   ]
  },
  {
   "cell_type": "code",
   "execution_count": 7,
   "id": "cb23924a",
   "metadata": {},
   "outputs": [
    {
     "data": {
      "text/plain": [
       "[1, None, 1, None, 1, None]"
      ]
     },
     "execution_count": 7,
     "metadata": {},
     "output_type": "execute_result"
    }
   ],
   "source": [
    "# 0 & 0.0  -->  None\n",
    "\n",
    "trans_Y_for_Viz([1 , 0 , 1 , 0.0 , 1 , 0.00000])"
   ]
  },
  {
   "cell_type": "markdown",
   "id": "ef495a8e",
   "metadata": {},
   "source": [
    "## 提取过程"
   ]
  },
  {
   "cell_type": "code",
   "execution_count": 43,
   "id": "7e740b42",
   "metadata": {},
   "outputs": [],
   "source": [
    "line = '1.111aA提取Aa，2.222aA提取Aa，aA提取Aa3.333，4.444aA提取Aa5.555，aA提取Aa6.666'"
   ]
  },
  {
   "cell_type": "code",
   "execution_count": 44,
   "id": "1a315ec2",
   "metadata": {},
   "outputs": [
    {
     "data": {
      "text/plain": [
       "['1.111', '2.222', '3.333', '4.444', '5.555', '6.666']"
      ]
     },
     "execution_count": 44,
     "metadata": {},
     "output_type": "execute_result"
    }
   ],
   "source": [
    "Extract_Needed(line , Needed_Num)"
   ]
  },
  {
   "cell_type": "code",
   "execution_count": 45,
   "id": "f1124591",
   "metadata": {},
   "outputs": [
    {
     "data": {
      "text/plain": [
       "[1, 2, 3, 4, 6, 7]"
      ]
     },
     "execution_count": 45,
     "metadata": {},
     "output_type": "execute_result"
    }
   ],
   "source": [
    "trans_often(Extract_Needed(line , Needed_Num))"
   ]
  },
  {
   "cell_type": "markdown",
   "id": "0f1529ca",
   "metadata": {},
   "source": [
    "# 测试标准化"
   ]
  },
  {
   "cell_type": "markdown",
   "id": "d1f1c2da",
   "metadata": {},
   "source": [
    "## `min-max`"
   ]
  },
  {
   "cell_type": "code",
   "execution_count": 46,
   "id": "5c8216f8",
   "metadata": {
    "scrolled": true
   },
   "outputs": [
    {
     "data": {
      "text/html": [
       "<div>\n",
       "<style scoped>\n",
       "    .dataframe tbody tr th:only-of-type {\n",
       "        vertical-align: middle;\n",
       "    }\n",
       "\n",
       "    .dataframe tbody tr th {\n",
       "        vertical-align: top;\n",
       "    }\n",
       "\n",
       "    .dataframe thead th {\n",
       "        text-align: right;\n",
       "    }\n",
       "</style>\n",
       "<table border=\"1\" class=\"dataframe\">\n",
       "  <thead>\n",
       "    <tr style=\"text-align: right;\">\n",
       "      <th></th>\n",
       "      <th>酒精含量(%)</th>\n",
       "      <th>苹果酸含量(%)</th>\n",
       "    </tr>\n",
       "  </thead>\n",
       "  <tbody>\n",
       "    <tr>\n",
       "      <th>0</th>\n",
       "      <td>50</td>\n",
       "      <td>2</td>\n",
       "    </tr>\n",
       "    <tr>\n",
       "      <th>1</th>\n",
       "      <td>60</td>\n",
       "      <td>1</td>\n",
       "    </tr>\n",
       "    <tr>\n",
       "      <th>2</th>\n",
       "      <td>40</td>\n",
       "      <td>1</td>\n",
       "    </tr>\n",
       "    <tr>\n",
       "      <th>3</th>\n",
       "      <td>80</td>\n",
       "      <td>3</td>\n",
       "    </tr>\n",
       "    <tr>\n",
       "      <th>4</th>\n",
       "      <td>100</td>\n",
       "      <td>2</td>\n",
       "    </tr>\n",
       "  </tbody>\n",
       "</table>\n",
       "</div>"
      ],
      "text/plain": [
       "   酒精含量(%)  苹果酸含量(%)\n",
       "0       50         2\n",
       "1       60         1\n",
       "2       40         1\n",
       "3       80         3\n",
       "4      100         2"
      ]
     },
     "execution_count": 46,
     "metadata": {},
     "output_type": "execute_result"
    }
   ],
   "source": [
    "data = pd.DataFrame({'酒精含量(%)': [50, 60, 40, 80, 100], '苹果酸含量(%)': [2, 1, 1, 3, 2]})\n",
    "data"
   ]
  },
  {
   "cell_type": "code",
   "execution_count": 47,
   "id": "6755672e",
   "metadata": {},
   "outputs": [
    {
     "data": {
      "text/html": [
       "<div>\n",
       "<style scoped>\n",
       "    .dataframe tbody tr th:only-of-type {\n",
       "        vertical-align: middle;\n",
       "    }\n",
       "\n",
       "    .dataframe tbody tr th {\n",
       "        vertical-align: top;\n",
       "    }\n",
       "\n",
       "    .dataframe thead th {\n",
       "        text-align: right;\n",
       "    }\n",
       "</style>\n",
       "<table border=\"1\" class=\"dataframe\">\n",
       "  <thead>\n",
       "    <tr style=\"text-align: right;\">\n",
       "      <th></th>\n",
       "      <th>酒精含量(%)</th>\n",
       "    </tr>\n",
       "  </thead>\n",
       "  <tbody>\n",
       "    <tr>\n",
       "      <th>0</th>\n",
       "      <td>0.166667</td>\n",
       "    </tr>\n",
       "    <tr>\n",
       "      <th>1</th>\n",
       "      <td>0.333333</td>\n",
       "    </tr>\n",
       "    <tr>\n",
       "      <th>2</th>\n",
       "      <td>0.000000</td>\n",
       "    </tr>\n",
       "    <tr>\n",
       "      <th>3</th>\n",
       "      <td>0.666667</td>\n",
       "    </tr>\n",
       "    <tr>\n",
       "      <th>4</th>\n",
       "      <td>1.000000</td>\n",
       "    </tr>\n",
       "  </tbody>\n",
       "</table>\n",
       "</div>"
      ],
      "text/plain": [
       "    酒精含量(%)\n",
       "0  0.166667\n",
       "1  0.333333\n",
       "2  0.000000\n",
       "3  0.666667\n",
       "4  1.000000"
      ]
     },
     "execution_count": 47,
     "metadata": {},
     "output_type": "execute_result"
    }
   ],
   "source": [
    "# 参数必须得是 DataFrame\n",
    "\n",
    "standardize_min_max(data[['酒精含量(%)']])"
   ]
  },
  {
   "cell_type": "code",
   "execution_count": 48,
   "id": "93a015e1",
   "metadata": {},
   "outputs": [
    {
     "data": {
      "text/html": [
       "<div>\n",
       "<style scoped>\n",
       "    .dataframe tbody tr th:only-of-type {\n",
       "        vertical-align: middle;\n",
       "    }\n",
       "\n",
       "    .dataframe tbody tr th {\n",
       "        vertical-align: top;\n",
       "    }\n",
       "\n",
       "    .dataframe thead th {\n",
       "        text-align: right;\n",
       "    }\n",
       "</style>\n",
       "<table border=\"1\" class=\"dataframe\">\n",
       "  <thead>\n",
       "    <tr style=\"text-align: right;\">\n",
       "      <th></th>\n",
       "      <th>酒精含量(%)</th>\n",
       "      <th>苹果酸含量(%)</th>\n",
       "    </tr>\n",
       "  </thead>\n",
       "  <tbody>\n",
       "    <tr>\n",
       "      <th>0</th>\n",
       "      <td>0.166667</td>\n",
       "      <td>0.5</td>\n",
       "    </tr>\n",
       "    <tr>\n",
       "      <th>1</th>\n",
       "      <td>0.333333</td>\n",
       "      <td>0.0</td>\n",
       "    </tr>\n",
       "    <tr>\n",
       "      <th>2</th>\n",
       "      <td>0.000000</td>\n",
       "      <td>0.0</td>\n",
       "    </tr>\n",
       "    <tr>\n",
       "      <th>3</th>\n",
       "      <td>0.666667</td>\n",
       "      <td>1.0</td>\n",
       "    </tr>\n",
       "    <tr>\n",
       "      <th>4</th>\n",
       "      <td>1.000000</td>\n",
       "      <td>0.5</td>\n",
       "    </tr>\n",
       "  </tbody>\n",
       "</table>\n",
       "</div>"
      ],
      "text/plain": [
       "    酒精含量(%)  苹果酸含量(%)\n",
       "0  0.166667       0.5\n",
       "1  0.333333       0.0\n",
       "2  0.000000       0.0\n",
       "3  0.666667       1.0\n",
       "4  1.000000       0.5"
      ]
     },
     "execution_count": 48,
     "metadata": {},
     "output_type": "execute_result"
    }
   ],
   "source": [
    "# 参数必须得是 DataFrame\n",
    "\n",
    "standardize_min_max(data)"
   ]
  },
  {
   "cell_type": "markdown",
   "id": "8945b47b",
   "metadata": {},
   "source": [
    "## `z-score`"
   ]
  },
  {
   "cell_type": "code",
   "execution_count": 49,
   "id": "20650674",
   "metadata": {},
   "outputs": [
    {
     "data": {
      "text/html": [
       "<div>\n",
       "<style scoped>\n",
       "    .dataframe tbody tr th:only-of-type {\n",
       "        vertical-align: middle;\n",
       "    }\n",
       "\n",
       "    .dataframe tbody tr th {\n",
       "        vertical-align: top;\n",
       "    }\n",
       "\n",
       "    .dataframe thead th {\n",
       "        text-align: right;\n",
       "    }\n",
       "</style>\n",
       "<table border=\"1\" class=\"dataframe\">\n",
       "  <thead>\n",
       "    <tr style=\"text-align: right;\">\n",
       "      <th></th>\n",
       "      <th>酒精含量(%)</th>\n",
       "      <th>苹果酸含量(%)</th>\n",
       "    </tr>\n",
       "  </thead>\n",
       "  <tbody>\n",
       "    <tr>\n",
       "      <th>0</th>\n",
       "      <td>50</td>\n",
       "      <td>2</td>\n",
       "    </tr>\n",
       "    <tr>\n",
       "      <th>1</th>\n",
       "      <td>60</td>\n",
       "      <td>1</td>\n",
       "    </tr>\n",
       "    <tr>\n",
       "      <th>2</th>\n",
       "      <td>40</td>\n",
       "      <td>1</td>\n",
       "    </tr>\n",
       "    <tr>\n",
       "      <th>3</th>\n",
       "      <td>80</td>\n",
       "      <td>3</td>\n",
       "    </tr>\n",
       "    <tr>\n",
       "      <th>4</th>\n",
       "      <td>100</td>\n",
       "      <td>2</td>\n",
       "    </tr>\n",
       "  </tbody>\n",
       "</table>\n",
       "</div>"
      ],
      "text/plain": [
       "   酒精含量(%)  苹果酸含量(%)\n",
       "0       50         2\n",
       "1       60         1\n",
       "2       40         1\n",
       "3       80         3\n",
       "4      100         2"
      ]
     },
     "execution_count": 49,
     "metadata": {},
     "output_type": "execute_result"
    }
   ],
   "source": [
    "data = pd.DataFrame({'酒精含量(%)': [50, 60, 40, 80, 100], '苹果酸含量(%)': [2, 1, 1, 3, 2]})\n",
    "data"
   ]
  },
  {
   "cell_type": "code",
   "execution_count": 50,
   "id": "b33d8ea6",
   "metadata": {},
   "outputs": [
    {
     "data": {
      "text/html": [
       "<div>\n",
       "<style scoped>\n",
       "    .dataframe tbody tr th:only-of-type {\n",
       "        vertical-align: middle;\n",
       "    }\n",
       "\n",
       "    .dataframe tbody tr th {\n",
       "        vertical-align: top;\n",
       "    }\n",
       "\n",
       "    .dataframe thead th {\n",
       "        text-align: right;\n",
       "    }\n",
       "</style>\n",
       "<table border=\"1\" class=\"dataframe\">\n",
       "  <thead>\n",
       "    <tr style=\"text-align: right;\">\n",
       "      <th></th>\n",
       "      <th>酒精含量(%)</th>\n",
       "    </tr>\n",
       "  </thead>\n",
       "  <tbody>\n",
       "    <tr>\n",
       "      <th>0</th>\n",
       "      <td>-0.742781</td>\n",
       "    </tr>\n",
       "    <tr>\n",
       "      <th>1</th>\n",
       "      <td>-0.278543</td>\n",
       "    </tr>\n",
       "    <tr>\n",
       "      <th>2</th>\n",
       "      <td>-1.207020</td>\n",
       "    </tr>\n",
       "    <tr>\n",
       "      <th>3</th>\n",
       "      <td>0.649934</td>\n",
       "    </tr>\n",
       "    <tr>\n",
       "      <th>4</th>\n",
       "      <td>1.578410</td>\n",
       "    </tr>\n",
       "  </tbody>\n",
       "</table>\n",
       "</div>"
      ],
      "text/plain": [
       "    酒精含量(%)\n",
       "0 -0.742781\n",
       "1 -0.278543\n",
       "2 -1.207020\n",
       "3  0.649934\n",
       "4  1.578410"
      ]
     },
     "execution_count": 50,
     "metadata": {},
     "output_type": "execute_result"
    }
   ],
   "source": [
    "# 参数必须得是 DataFrame\n",
    "\n",
    "standardize_mean_var(data[['酒精含量(%)']])"
   ]
  },
  {
   "cell_type": "code",
   "execution_count": 51,
   "id": "da1b370e",
   "metadata": {},
   "outputs": [
    {
     "data": {
      "text/html": [
       "<div>\n",
       "<style scoped>\n",
       "    .dataframe tbody tr th:only-of-type {\n",
       "        vertical-align: middle;\n",
       "    }\n",
       "\n",
       "    .dataframe tbody tr th {\n",
       "        vertical-align: top;\n",
       "    }\n",
       "\n",
       "    .dataframe thead th {\n",
       "        text-align: right;\n",
       "    }\n",
       "</style>\n",
       "<table border=\"1\" class=\"dataframe\">\n",
       "  <thead>\n",
       "    <tr style=\"text-align: right;\">\n",
       "      <th></th>\n",
       "      <th>酒精含量(%)</th>\n",
       "      <th>苹果酸含量(%)</th>\n",
       "    </tr>\n",
       "  </thead>\n",
       "  <tbody>\n",
       "    <tr>\n",
       "      <th>0</th>\n",
       "      <td>-0.742781</td>\n",
       "      <td>0.267261</td>\n",
       "    </tr>\n",
       "    <tr>\n",
       "      <th>1</th>\n",
       "      <td>-0.278543</td>\n",
       "      <td>-1.069045</td>\n",
       "    </tr>\n",
       "    <tr>\n",
       "      <th>2</th>\n",
       "      <td>-1.207020</td>\n",
       "      <td>-1.069045</td>\n",
       "    </tr>\n",
       "    <tr>\n",
       "      <th>3</th>\n",
       "      <td>0.649934</td>\n",
       "      <td>1.603567</td>\n",
       "    </tr>\n",
       "    <tr>\n",
       "      <th>4</th>\n",
       "      <td>1.578410</td>\n",
       "      <td>0.267261</td>\n",
       "    </tr>\n",
       "  </tbody>\n",
       "</table>\n",
       "</div>"
      ],
      "text/plain": [
       "    酒精含量(%)  苹果酸含量(%)\n",
       "0 -0.742781  0.267261\n",
       "1 -0.278543 -1.069045\n",
       "2 -1.207020 -1.069045\n",
       "3  0.649934  1.603567\n",
       "4  1.578410  0.267261"
      ]
     },
     "execution_count": 51,
     "metadata": {},
     "output_type": "execute_result"
    }
   ],
   "source": [
    "# 参数必须得是 DataFrame\n",
    "\n",
    "standardize_mean_var(data)"
   ]
  },
  {
   "cell_type": "code",
   "execution_count": 52,
   "id": "a409c7d3",
   "metadata": {},
   "outputs": [],
   "source": [
    "# 均值（0 或与 0 极其接近）\n",
    "# 方差（1 或与 1 极其接近）"
   ]
  },
  {
   "cell_type": "code",
   "execution_count": 53,
   "id": "680be67c",
   "metadata": {},
   "outputs": [
    {
     "name": "stdout",
     "output_type": "stream",
     "text": [
      "1.0\n",
      "1.0\n",
      "1.0\n",
      "1.0\n"
     ]
    },
    {
     "data": {
      "text/plain": [
       "酒精含量(%)     4.440892e-17\n",
       "苹果酸含量(%)   -8.881784e-17\n",
       "dtype: float64"
      ]
     },
     "execution_count": 53,
     "metadata": {},
     "output_type": "execute_result"
    }
   ],
   "source": [
    "# 总体，有偏\n",
    "\n",
    "print(standardize_mean_var(data)['酒精含量(%)'].values.var())\n",
    "print(standardize_mean_var(data)['酒精含量(%)'].values.std())\n",
    "print(standardize_mean_var(data)['苹果酸含量(%)'].values.var())\n",
    "print(standardize_mean_var(data)['苹果酸含量(%)'].values.std())\n",
    "standardize_mean_var(data).mean()"
   ]
  },
  {
   "cell_type": "code",
   "execution_count": 54,
   "id": "2dec2d6e",
   "metadata": {},
   "outputs": [
    {
     "name": "stdout",
     "output_type": "stream",
     "text": [
      "1.25\n",
      "1.118033988749895\n",
      "1.25\n",
      "1.118033988749895\n"
     ]
    },
    {
     "data": {
      "text/plain": [
       "酒精含量(%)     4.440892e-17\n",
       "苹果酸含量(%)   -8.881784e-17\n",
       "dtype: float64"
      ]
     },
     "execution_count": 54,
     "metadata": {},
     "output_type": "execute_result"
    }
   ],
   "source": [
    "# 样本，无偏\n",
    "\n",
    "print(standardize_mean_var(data)['酒精含量(%)'].var())\n",
    "print(standardize_mean_var(data)['酒精含量(%)'].std())\n",
    "print(standardize_mean_var(data)['苹果酸含量(%)'].var())\n",
    "print(standardize_mean_var(data)['苹果酸含量(%)'].std())\n",
    "standardize_mean_var(data).mean()"
   ]
  },
  {
   "cell_type": "markdown",
   "id": "9f34c134",
   "metadata": {},
   "source": [
    "# 测试相似性"
   ]
  },
  {
   "cell_type": "markdown",
   "id": "00b31caf",
   "metadata": {},
   "source": [
    "## 欧氏距离"
   ]
  },
  {
   "cell_type": "code",
   "execution_count": 55,
   "id": "583b7081",
   "metadata": {},
   "outputs": [
    {
     "data": {
      "text/html": [
       "<div>\n",
       "<style scoped>\n",
       "    .dataframe tbody tr th:only-of-type {\n",
       "        vertical-align: middle;\n",
       "    }\n",
       "\n",
       "    .dataframe tbody tr th {\n",
       "        vertical-align: top;\n",
       "    }\n",
       "\n",
       "    .dataframe thead th {\n",
       "        text-align: right;\n",
       "    }\n",
       "</style>\n",
       "<table border=\"1\" class=\"dataframe\">\n",
       "  <thead>\n",
       "    <tr style=\"text-align: right;\">\n",
       "      <th></th>\n",
       "      <th>用户1</th>\n",
       "      <th>用户2</th>\n",
       "      <th>用户3</th>\n",
       "    </tr>\n",
       "  </thead>\n",
       "  <tbody>\n",
       "    <tr>\n",
       "      <th>物品A</th>\n",
       "      <td>5</td>\n",
       "      <td>1</td>\n",
       "      <td>5</td>\n",
       "    </tr>\n",
       "    <tr>\n",
       "      <th>物品B</th>\n",
       "      <td>4</td>\n",
       "      <td>2</td>\n",
       "      <td>2</td>\n",
       "    </tr>\n",
       "    <tr>\n",
       "      <th>物品C</th>\n",
       "      <td>4</td>\n",
       "      <td>2</td>\n",
       "      <td>1</td>\n",
       "    </tr>\n",
       "  </tbody>\n",
       "</table>\n",
       "</div>"
      ],
      "text/plain": [
       "     用户1  用户2  用户3\n",
       "物品A    5    1    5\n",
       "物品B    4    2    2\n",
       "物品C    4    2    1"
      ]
     },
     "execution_count": 55,
     "metadata": {},
     "output_type": "execute_result"
    }
   ],
   "source": [
    "data = pd.DataFrame([[5 , 1 , 5] , [4 , 2 , 2] , [4 , 2 , 1]])\n",
    "data.columns = ['用户1', '用户2', '用户3']\n",
    "data.index = ['物品A', '物品B', '物品C']\n",
    "data"
   ]
  },
  {
   "cell_type": "code",
   "execution_count": 56,
   "id": "2f7b15ec",
   "metadata": {},
   "outputs": [
    {
     "name": "stdout",
     "output_type": "stream",
     "text": [
      "3.3166247903554\n",
      "3.3166247903554\n",
      "4.242640687119285\n",
      "1.0\n"
     ]
    }
   ],
   "source": [
    "print(similarity_o(data.iloc[0] , data.iloc[1]))\n",
    "print(similarity_o(data.iloc[1] , data.iloc[0]))\n",
    "print(similarity_o(data.iloc[0] , data.iloc[2]))\n",
    "print(similarity_o(data.iloc[1] , data.iloc[2]))"
   ]
  },
  {
   "cell_type": "code",
   "execution_count": 57,
   "id": "59db17e6",
   "metadata": {},
   "outputs": [
    {
     "data": {
      "text/plain": [
       "3.3166247903554"
      ]
     },
     "execution_count": 57,
     "metadata": {},
     "output_type": "execute_result"
    }
   ],
   "source": [
    "similarity_o(np.array([5 , 1 , 5]) , np.array([4 , 2 , 2]))"
   ]
  },
  {
   "cell_type": "code",
   "execution_count": 58,
   "id": "d4c42883",
   "metadata": {},
   "outputs": [
    {
     "data": {
      "text/html": [
       "<div>\n",
       "<style scoped>\n",
       "    .dataframe tbody tr th:only-of-type {\n",
       "        vertical-align: middle;\n",
       "    }\n",
       "\n",
       "    .dataframe tbody tr th {\n",
       "        vertical-align: top;\n",
       "    }\n",
       "\n",
       "    .dataframe thead th {\n",
       "        text-align: right;\n",
       "    }\n",
       "</style>\n",
       "<table border=\"1\" class=\"dataframe\">\n",
       "  <thead>\n",
       "    <tr style=\"text-align: right;\">\n",
       "      <th></th>\n",
       "      <th>物品A</th>\n",
       "      <th>物品B</th>\n",
       "      <th>物品C</th>\n",
       "    </tr>\n",
       "  </thead>\n",
       "  <tbody>\n",
       "    <tr>\n",
       "      <th>物品A</th>\n",
       "      <td>0.000000</td>\n",
       "      <td>3.316625</td>\n",
       "      <td>4.242641</td>\n",
       "    </tr>\n",
       "    <tr>\n",
       "      <th>物品B</th>\n",
       "      <td>3.316625</td>\n",
       "      <td>0.000000</td>\n",
       "      <td>1.000000</td>\n",
       "    </tr>\n",
       "    <tr>\n",
       "      <th>物品C</th>\n",
       "      <td>4.242641</td>\n",
       "      <td>1.000000</td>\n",
       "      <td>0.000000</td>\n",
       "    </tr>\n",
       "  </tbody>\n",
       "</table>\n",
       "</div>"
      ],
      "text/plain": [
       "          物品A       物品B       物品C\n",
       "物品A  0.000000  3.316625  4.242641\n",
       "物品B  3.316625  0.000000  1.000000\n",
       "物品C  4.242641  1.000000  0.000000"
      ]
     },
     "execution_count": 58,
     "metadata": {},
     "output_type": "execute_result"
    }
   ],
   "source": [
    "similarity_o_all(data)"
   ]
  },
  {
   "cell_type": "code",
   "execution_count": 59,
   "id": "9b8afa2d",
   "metadata": {},
   "outputs": [
    {
     "data": {
      "text/html": [
       "<div>\n",
       "<style scoped>\n",
       "    .dataframe tbody tr th:only-of-type {\n",
       "        vertical-align: middle;\n",
       "    }\n",
       "\n",
       "    .dataframe tbody tr th {\n",
       "        vertical-align: top;\n",
       "    }\n",
       "\n",
       "    .dataframe thead th {\n",
       "        text-align: right;\n",
       "    }\n",
       "</style>\n",
       "<table border=\"1\" class=\"dataframe\">\n",
       "  <thead>\n",
       "    <tr style=\"text-align: right;\">\n",
       "      <th></th>\n",
       "      <th>vec1</th>\n",
       "      <th>vec2</th>\n",
       "      <th>vec3</th>\n",
       "    </tr>\n",
       "  </thead>\n",
       "  <tbody>\n",
       "    <tr>\n",
       "      <th>vec1</th>\n",
       "      <td>0.000000</td>\n",
       "      <td>3.316625</td>\n",
       "      <td>4.242641</td>\n",
       "    </tr>\n",
       "    <tr>\n",
       "      <th>vec2</th>\n",
       "      <td>3.316625</td>\n",
       "      <td>0.000000</td>\n",
       "      <td>1.000000</td>\n",
       "    </tr>\n",
       "    <tr>\n",
       "      <th>vec3</th>\n",
       "      <td>4.242641</td>\n",
       "      <td>1.000000</td>\n",
       "      <td>0.000000</td>\n",
       "    </tr>\n",
       "  </tbody>\n",
       "</table>\n",
       "</div>"
      ],
      "text/plain": [
       "          vec1      vec2      vec3\n",
       "vec1  0.000000  3.316625  4.242641\n",
       "vec2  3.316625  0.000000  1.000000\n",
       "vec3  4.242641  1.000000  0.000000"
      ]
     },
     "execution_count": 59,
     "metadata": {},
     "output_type": "execute_result"
    }
   ],
   "source": [
    "similarity_o_all(np.array([[5 , 1 , 5] , [4 , 2 , 2] , [4 , 2 , 1]]))"
   ]
  },
  {
   "cell_type": "markdown",
   "id": "c2782742",
   "metadata": {},
   "source": [
    "## 余弦相似度"
   ]
  },
  {
   "cell_type": "code",
   "execution_count": 60,
   "id": "1bf88098",
   "metadata": {},
   "outputs": [
    {
     "data": {
      "text/html": [
       "<div>\n",
       "<style scoped>\n",
       "    .dataframe tbody tr th:only-of-type {\n",
       "        vertical-align: middle;\n",
       "    }\n",
       "\n",
       "    .dataframe tbody tr th {\n",
       "        vertical-align: top;\n",
       "    }\n",
       "\n",
       "    .dataframe thead th {\n",
       "        text-align: right;\n",
       "    }\n",
       "</style>\n",
       "<table border=\"1\" class=\"dataframe\">\n",
       "  <thead>\n",
       "    <tr style=\"text-align: right;\">\n",
       "      <th></th>\n",
       "      <th>用户1</th>\n",
       "      <th>用户2</th>\n",
       "      <th>用户3</th>\n",
       "    </tr>\n",
       "  </thead>\n",
       "  <tbody>\n",
       "    <tr>\n",
       "      <th>物品A</th>\n",
       "      <td>5</td>\n",
       "      <td>1</td>\n",
       "      <td>5</td>\n",
       "    </tr>\n",
       "    <tr>\n",
       "      <th>物品B</th>\n",
       "      <td>4</td>\n",
       "      <td>2</td>\n",
       "      <td>2</td>\n",
       "    </tr>\n",
       "    <tr>\n",
       "      <th>物品C</th>\n",
       "      <td>4</td>\n",
       "      <td>2</td>\n",
       "      <td>1</td>\n",
       "    </tr>\n",
       "  </tbody>\n",
       "</table>\n",
       "</div>"
      ],
      "text/plain": [
       "     用户1  用户2  用户3\n",
       "物品A    5    1    5\n",
       "物品B    4    2    2\n",
       "物品C    4    2    1"
      ]
     },
     "execution_count": 60,
     "metadata": {},
     "output_type": "execute_result"
    }
   ],
   "source": [
    "data = pd.DataFrame([[5 , 1 , 5] , [4 , 2 , 2] , [4 , 2 , 1]])\n",
    "data.columns = ['用户1', '用户2', '用户3']\n",
    "data.index = ['物品A', '物品B', '物品C']\n",
    "data"
   ]
  },
  {
   "cell_type": "code",
   "execution_count": 61,
   "id": "140c2655",
   "metadata": {},
   "outputs": [
    {
     "data": {
      "text/html": [
       "<div>\n",
       "<style scoped>\n",
       "    .dataframe tbody tr th:only-of-type {\n",
       "        vertical-align: middle;\n",
       "    }\n",
       "\n",
       "    .dataframe tbody tr th {\n",
       "        vertical-align: top;\n",
       "    }\n",
       "\n",
       "    .dataframe thead th {\n",
       "        text-align: right;\n",
       "    }\n",
       "</style>\n",
       "<table border=\"1\" class=\"dataframe\">\n",
       "  <thead>\n",
       "    <tr style=\"text-align: right;\">\n",
       "      <th></th>\n",
       "      <th>物品A</th>\n",
       "      <th>物品B</th>\n",
       "      <th>物品C</th>\n",
       "    </tr>\n",
       "  </thead>\n",
       "  <tbody>\n",
       "    <tr>\n",
       "      <th>物品A</th>\n",
       "      <td>1.000000</td>\n",
       "      <td>0.914659</td>\n",
       "      <td>0.825029</td>\n",
       "    </tr>\n",
       "    <tr>\n",
       "      <th>物品B</th>\n",
       "      <td>0.914659</td>\n",
       "      <td>1.000000</td>\n",
       "      <td>0.979958</td>\n",
       "    </tr>\n",
       "    <tr>\n",
       "      <th>物品C</th>\n",
       "      <td>0.825029</td>\n",
       "      <td>0.979958</td>\n",
       "      <td>1.000000</td>\n",
       "    </tr>\n",
       "  </tbody>\n",
       "</table>\n",
       "</div>"
      ],
      "text/plain": [
       "          物品A       物品B       物品C\n",
       "物品A  1.000000  0.914659  0.825029\n",
       "物品B  0.914659  1.000000  0.979958\n",
       "物品C  0.825029  0.979958  1.000000"
      ]
     },
     "execution_count": 61,
     "metadata": {},
     "output_type": "execute_result"
    }
   ],
   "source": [
    "similarity_cos_all(data)"
   ]
  },
  {
   "cell_type": "code",
   "execution_count": 62,
   "id": "141d3f83",
   "metadata": {},
   "outputs": [
    {
     "data": {
      "text/html": [
       "<div>\n",
       "<style scoped>\n",
       "    .dataframe tbody tr th:only-of-type {\n",
       "        vertical-align: middle;\n",
       "    }\n",
       "\n",
       "    .dataframe tbody tr th {\n",
       "        vertical-align: top;\n",
       "    }\n",
       "\n",
       "    .dataframe thead th {\n",
       "        text-align: right;\n",
       "    }\n",
       "</style>\n",
       "<table border=\"1\" class=\"dataframe\">\n",
       "  <thead>\n",
       "    <tr style=\"text-align: right;\">\n",
       "      <th></th>\n",
       "      <th>vec1</th>\n",
       "      <th>vec2</th>\n",
       "      <th>vec3</th>\n",
       "    </tr>\n",
       "  </thead>\n",
       "  <tbody>\n",
       "    <tr>\n",
       "      <th>vec1</th>\n",
       "      <td>1.000000</td>\n",
       "      <td>0.914659</td>\n",
       "      <td>0.825029</td>\n",
       "    </tr>\n",
       "    <tr>\n",
       "      <th>vec2</th>\n",
       "      <td>0.914659</td>\n",
       "      <td>1.000000</td>\n",
       "      <td>0.979958</td>\n",
       "    </tr>\n",
       "    <tr>\n",
       "      <th>vec3</th>\n",
       "      <td>0.825029</td>\n",
       "      <td>0.979958</td>\n",
       "      <td>1.000000</td>\n",
       "    </tr>\n",
       "  </tbody>\n",
       "</table>\n",
       "</div>"
      ],
      "text/plain": [
       "          vec1      vec2      vec3\n",
       "vec1  1.000000  0.914659  0.825029\n",
       "vec2  0.914659  1.000000  0.979958\n",
       "vec3  0.825029  0.979958  1.000000"
      ]
     },
     "execution_count": 62,
     "metadata": {},
     "output_type": "execute_result"
    }
   ],
   "source": [
    "similarity_cos_all(np.array([[5 , 1 , 5] , [4 , 2 , 2] , [4 , 2 , 1]]))"
   ]
  },
  {
   "cell_type": "markdown",
   "id": "e6b874c8",
   "metadata": {},
   "source": [
    "## 余弦距离"
   ]
  },
  {
   "cell_type": "code",
   "execution_count": 63,
   "id": "bf11c3e1",
   "metadata": {},
   "outputs": [
    {
     "data": {
      "text/html": [
       "<div>\n",
       "<style scoped>\n",
       "    .dataframe tbody tr th:only-of-type {\n",
       "        vertical-align: middle;\n",
       "    }\n",
       "\n",
       "    .dataframe tbody tr th {\n",
       "        vertical-align: top;\n",
       "    }\n",
       "\n",
       "    .dataframe thead th {\n",
       "        text-align: right;\n",
       "    }\n",
       "</style>\n",
       "<table border=\"1\" class=\"dataframe\">\n",
       "  <thead>\n",
       "    <tr style=\"text-align: right;\">\n",
       "      <th></th>\n",
       "      <th>物品A</th>\n",
       "      <th>物品B</th>\n",
       "      <th>物品C</th>\n",
       "    </tr>\n",
       "  </thead>\n",
       "  <tbody>\n",
       "    <tr>\n",
       "      <th>物品A</th>\n",
       "      <td>2.220446e-16</td>\n",
       "      <td>0.085341</td>\n",
       "      <td>0.174971</td>\n",
       "    </tr>\n",
       "    <tr>\n",
       "      <th>物品B</th>\n",
       "      <td>8.534088e-02</td>\n",
       "      <td>0.000000</td>\n",
       "      <td>0.020042</td>\n",
       "    </tr>\n",
       "    <tr>\n",
       "      <th>物品C</th>\n",
       "      <td>1.749714e-01</td>\n",
       "      <td>0.020042</td>\n",
       "      <td>0.000000</td>\n",
       "    </tr>\n",
       "  </tbody>\n",
       "</table>\n",
       "</div>"
      ],
      "text/plain": [
       "              物品A       物品B       物品C\n",
       "物品A  2.220446e-16  0.085341  0.174971\n",
       "物品B  8.534088e-02  0.000000  0.020042\n",
       "物品C  1.749714e-01  0.020042  0.000000"
      ]
     },
     "execution_count": 63,
     "metadata": {},
     "output_type": "execute_result"
    }
   ],
   "source": [
    "# 余弦距离 = 1 - 余弦相似度\n",
    "\n",
    "similarity_cos_dist_all(data)"
   ]
  },
  {
   "cell_type": "code",
   "execution_count": 64,
   "id": "fd469b25",
   "metadata": {},
   "outputs": [
    {
     "data": {
      "text/html": [
       "<div>\n",
       "<style scoped>\n",
       "    .dataframe tbody tr th:only-of-type {\n",
       "        vertical-align: middle;\n",
       "    }\n",
       "\n",
       "    .dataframe tbody tr th {\n",
       "        vertical-align: top;\n",
       "    }\n",
       "\n",
       "    .dataframe thead th {\n",
       "        text-align: right;\n",
       "    }\n",
       "</style>\n",
       "<table border=\"1\" class=\"dataframe\">\n",
       "  <thead>\n",
       "    <tr style=\"text-align: right;\">\n",
       "      <th></th>\n",
       "      <th>vec1</th>\n",
       "      <th>vec2</th>\n",
       "      <th>vec3</th>\n",
       "    </tr>\n",
       "  </thead>\n",
       "  <tbody>\n",
       "    <tr>\n",
       "      <th>vec1</th>\n",
       "      <td>0.000000</td>\n",
       "      <td>0.085341</td>\n",
       "      <td>0.174971</td>\n",
       "    </tr>\n",
       "    <tr>\n",
       "      <th>vec2</th>\n",
       "      <td>0.085341</td>\n",
       "      <td>0.000000</td>\n",
       "      <td>0.020042</td>\n",
       "    </tr>\n",
       "    <tr>\n",
       "      <th>vec3</th>\n",
       "      <td>0.174971</td>\n",
       "      <td>0.020042</td>\n",
       "      <td>0.000000</td>\n",
       "    </tr>\n",
       "  </tbody>\n",
       "</table>\n",
       "</div>"
      ],
      "text/plain": [
       "          vec1      vec2      vec3\n",
       "vec1  0.000000  0.085341  0.174971\n",
       "vec2  0.085341  0.000000  0.020042\n",
       "vec3  0.174971  0.020042  0.000000"
      ]
     },
     "execution_count": 64,
     "metadata": {},
     "output_type": "execute_result"
    }
   ],
   "source": [
    "# 用 .values 转化为二维 ndarray 可读性更好\n",
    "\n",
    "similarity_cos_dist_all(data.values)"
   ]
  },
  {
   "cell_type": "code",
   "execution_count": 65,
   "id": "e224c5c5",
   "metadata": {},
   "outputs": [
    {
     "data": {
      "text/html": [
       "<div>\n",
       "<style scoped>\n",
       "    .dataframe tbody tr th:only-of-type {\n",
       "        vertical-align: middle;\n",
       "    }\n",
       "\n",
       "    .dataframe tbody tr th {\n",
       "        vertical-align: top;\n",
       "    }\n",
       "\n",
       "    .dataframe thead th {\n",
       "        text-align: right;\n",
       "    }\n",
       "</style>\n",
       "<table border=\"1\" class=\"dataframe\">\n",
       "  <thead>\n",
       "    <tr style=\"text-align: right;\">\n",
       "      <th></th>\n",
       "      <th>vec1</th>\n",
       "      <th>vec2</th>\n",
       "      <th>vec3</th>\n",
       "    </tr>\n",
       "  </thead>\n",
       "  <tbody>\n",
       "    <tr>\n",
       "      <th>vec1</th>\n",
       "      <td>0.000000</td>\n",
       "      <td>0.085341</td>\n",
       "      <td>0.174971</td>\n",
       "    </tr>\n",
       "    <tr>\n",
       "      <th>vec2</th>\n",
       "      <td>0.085341</td>\n",
       "      <td>0.000000</td>\n",
       "      <td>0.020042</td>\n",
       "    </tr>\n",
       "    <tr>\n",
       "      <th>vec3</th>\n",
       "      <td>0.174971</td>\n",
       "      <td>0.020042</td>\n",
       "      <td>0.000000</td>\n",
       "    </tr>\n",
       "  </tbody>\n",
       "</table>\n",
       "</div>"
      ],
      "text/plain": [
       "          vec1      vec2      vec3\n",
       "vec1  0.000000  0.085341  0.174971\n",
       "vec2  0.085341  0.000000  0.020042\n",
       "vec3  0.174971  0.020042  0.000000"
      ]
     },
     "execution_count": 65,
     "metadata": {},
     "output_type": "execute_result"
    }
   ],
   "source": [
    "# 用二维 ndarray 可读性更好\n",
    "\n",
    "similarity_cos_dist_all(np.array([[5 , 1 , 5] , [4 , 2 , 2] , [4 , 2 , 1]]))"
   ]
  },
  {
   "cell_type": "markdown",
   "id": "8567f939",
   "metadata": {},
   "source": [
    "## 皮尔逊相关系数一"
   ]
  },
  {
   "cell_type": "code",
   "execution_count": 66,
   "id": "4f8de730",
   "metadata": {},
   "outputs": [
    {
     "name": "stdout",
     "output_type": "stream",
     "text": [
      "相关系数 r = -0.9938837346736188\n",
      "显著水平 P = 0.0005736731093322215   （显著相关）\n"
     ]
    }
   ],
   "source": [
    "# 可以传入两个 List\n",
    "\n",
    "similarity_r([1 , 3 , 5 , 7 , 9] , [9 , 8 , 6 , 4 , 2])"
   ]
  },
  {
   "cell_type": "code",
   "execution_count": 67,
   "id": "8b9e72dd",
   "metadata": {},
   "outputs": [
    {
     "name": "stdout",
     "output_type": "stream",
     "text": [
      "相关系数 r = -0.9938837346736188\n",
      "显著水平 P = 0.0005736731093322215   （显著相关）\n"
     ]
    }
   ],
   "source": [
    "# 可以传入两个 ndarray\n",
    "\n",
    "similarity_r(np.array([1 , 3 , 5 , 7 , 9]) , np.array([9 , 8 , 6 , 4 , 2]))"
   ]
  },
  {
   "cell_type": "code",
   "execution_count": 68,
   "id": "f0caa3b1",
   "metadata": {},
   "outputs": [
    {
     "data": {
      "text/html": [
       "<div>\n",
       "<style scoped>\n",
       "    .dataframe tbody tr th:only-of-type {\n",
       "        vertical-align: middle;\n",
       "    }\n",
       "\n",
       "    .dataframe tbody tr th {\n",
       "        vertical-align: top;\n",
       "    }\n",
       "\n",
       "    .dataframe thead th {\n",
       "        text-align: right;\n",
       "    }\n",
       "</style>\n",
       "<table border=\"1\" class=\"dataframe\">\n",
       "  <thead>\n",
       "    <tr style=\"text-align: right;\">\n",
       "      <th></th>\n",
       "      <th>0</th>\n",
       "      <th>1</th>\n",
       "      <th>2</th>\n",
       "      <th>3</th>\n",
       "      <th>4</th>\n",
       "    </tr>\n",
       "  </thead>\n",
       "  <tbody>\n",
       "    <tr>\n",
       "      <th>0</th>\n",
       "      <td>1</td>\n",
       "      <td>3</td>\n",
       "      <td>5</td>\n",
       "      <td>7</td>\n",
       "      <td>9</td>\n",
       "    </tr>\n",
       "    <tr>\n",
       "      <th>1</th>\n",
       "      <td>9</td>\n",
       "      <td>8</td>\n",
       "      <td>6</td>\n",
       "      <td>4</td>\n",
       "      <td>2</td>\n",
       "    </tr>\n",
       "  </tbody>\n",
       "</table>\n",
       "</div>"
      ],
      "text/plain": [
       "   0  1  2  3  4\n",
       "0  1  3  5  7  9\n",
       "1  9  8  6  4  2"
      ]
     },
     "metadata": {},
     "output_type": "display_data"
    },
    {
     "name": "stdout",
     "output_type": "stream",
     "text": [
      "相关系数 r = -0.9938837346736188\n",
      "显著水平 P = 0.0005736731093322215   （显著相关）\n"
     ]
    }
   ],
   "source": [
    "# 可以传入 DataFrame 的两行 Series（.iloc[]）\n",
    "\n",
    "data = pd.DataFrame([[1 , 3 , 5 , 7 , 9] , [9 , 8 , 6 , 4 , 2]])\n",
    "display(data)\n",
    "similarity_r(data.iloc[0] , data.iloc[1])"
   ]
  },
  {
   "cell_type": "markdown",
   "id": "092cc2d9",
   "metadata": {},
   "source": [
    "## 皮尔逊相关系数二"
   ]
  },
  {
   "cell_type": "code",
   "execution_count": 69,
   "id": "32ab94a8",
   "metadata": {},
   "outputs": [
    {
     "data": {
      "text/html": [
       "<div>\n",
       "<style scoped>\n",
       "    .dataframe tbody tr th:only-of-type {\n",
       "        vertical-align: middle;\n",
       "    }\n",
       "\n",
       "    .dataframe tbody tr th {\n",
       "        vertical-align: top;\n",
       "    }\n",
       "\n",
       "    .dataframe thead th {\n",
       "        text-align: right;\n",
       "    }\n",
       "</style>\n",
       "<table border=\"1\" class=\"dataframe\">\n",
       "  <thead>\n",
       "    <tr style=\"text-align: right;\">\n",
       "      <th></th>\n",
       "      <th>用户1</th>\n",
       "      <th>用户2</th>\n",
       "      <th>用户3</th>\n",
       "    </tr>\n",
       "  </thead>\n",
       "  <tbody>\n",
       "    <tr>\n",
       "      <th>物品A</th>\n",
       "      <td>5</td>\n",
       "      <td>1</td>\n",
       "      <td>5</td>\n",
       "    </tr>\n",
       "    <tr>\n",
       "      <th>物品B</th>\n",
       "      <td>4</td>\n",
       "      <td>2</td>\n",
       "      <td>2</td>\n",
       "    </tr>\n",
       "    <tr>\n",
       "      <th>物品C</th>\n",
       "      <td>4</td>\n",
       "      <td>2</td>\n",
       "      <td>1</td>\n",
       "    </tr>\n",
       "  </tbody>\n",
       "</table>\n",
       "</div>"
      ],
      "text/plain": [
       "     用户1  用户2  用户3\n",
       "物品A    5    1    5\n",
       "物品B    4    2    2\n",
       "物品C    4    2    1"
      ]
     },
     "execution_count": 69,
     "metadata": {},
     "output_type": "execute_result"
    }
   ],
   "source": [
    "data = pd.DataFrame([[5 , 1 , 5] , [4 , 2 , 2] , [4 , 2 , 1]])\n",
    "data.columns = ['用户1', '用户2', '用户3']\n",
    "data.index = ['物品A', '物品B', '物品C']\n",
    "data"
   ]
  },
  {
   "cell_type": "code",
   "execution_count": 70,
   "id": "51f9139f",
   "metadata": {},
   "outputs": [
    {
     "data": {
      "text/html": [
       "<div>\n",
       "<style scoped>\n",
       "    .dataframe tbody tr th:only-of-type {\n",
       "        vertical-align: middle;\n",
       "    }\n",
       "\n",
       "    .dataframe tbody tr th {\n",
       "        vertical-align: top;\n",
       "    }\n",
       "\n",
       "    .dataframe thead th {\n",
       "        text-align: right;\n",
       "    }\n",
       "</style>\n",
       "<table border=\"1\" class=\"dataframe\">\n",
       "  <thead>\n",
       "    <tr style=\"text-align: right;\">\n",
       "      <th></th>\n",
       "      <th>物品A</th>\n",
       "    </tr>\n",
       "  </thead>\n",
       "  <tbody>\n",
       "    <tr>\n",
       "      <th>物品A</th>\n",
       "      <td>1.000000</td>\n",
       "    </tr>\n",
       "    <tr>\n",
       "      <th>物品B</th>\n",
       "      <td>0.500000</td>\n",
       "    </tr>\n",
       "    <tr>\n",
       "      <th>物品C</th>\n",
       "      <td>0.188982</td>\n",
       "    </tr>\n",
       "  </tbody>\n",
       "</table>\n",
       "</div>"
      ],
      "text/plain": [
       "          物品A\n",
       "物品A  1.000000\n",
       "物品B  0.500000\n",
       "物品C  0.188982"
      ]
     },
     "execution_count": 70,
     "metadata": {},
     "output_type": "execute_result"
    }
   ],
   "source": [
    "similarity_r_one(data , '物品A')"
   ]
  },
  {
   "cell_type": "code",
   "execution_count": 71,
   "id": "5c148d5b",
   "metadata": {},
   "outputs": [
    {
     "name": "stdout",
     "output_type": "stream",
     "text": [
      "相关系数 r = 0.5000000000000001\n",
      "显著水平 P = 0.6666666666666666   （非显著相关）\n",
      "相关系数 r = 0.5000000000000001\n",
      "显著水平 P = 0.6666666666666666   （非显著相关）\n"
     ]
    }
   ],
   "source": [
    "similarity_r(data.iloc[0] , data.iloc[1])\n",
    "similarity_r([5 , 1 , 5] , [4 , 2 , 2])"
   ]
  },
  {
   "cell_type": "code",
   "execution_count": 72,
   "id": "3f23d08f",
   "metadata": {},
   "outputs": [
    {
     "data": {
      "text/html": [
       "<div>\n",
       "<style scoped>\n",
       "    .dataframe tbody tr th:only-of-type {\n",
       "        vertical-align: middle;\n",
       "    }\n",
       "\n",
       "    .dataframe tbody tr th {\n",
       "        vertical-align: top;\n",
       "    }\n",
       "\n",
       "    .dataframe thead th {\n",
       "        text-align: right;\n",
       "    }\n",
       "</style>\n",
       "<table border=\"1\" class=\"dataframe\">\n",
       "  <thead>\n",
       "    <tr style=\"text-align: right;\">\n",
       "      <th></th>\n",
       "      <th>物品A</th>\n",
       "      <th>物品B</th>\n",
       "      <th>物品C</th>\n",
       "    </tr>\n",
       "  </thead>\n",
       "  <tbody>\n",
       "    <tr>\n",
       "      <th>物品A</th>\n",
       "      <td>1.000000</td>\n",
       "      <td>0.500000</td>\n",
       "      <td>0.188982</td>\n",
       "    </tr>\n",
       "    <tr>\n",
       "      <th>物品B</th>\n",
       "      <td>0.500000</td>\n",
       "      <td>1.000000</td>\n",
       "      <td>0.944911</td>\n",
       "    </tr>\n",
       "    <tr>\n",
       "      <th>物品C</th>\n",
       "      <td>0.188982</td>\n",
       "      <td>0.944911</td>\n",
       "      <td>1.000000</td>\n",
       "    </tr>\n",
       "  </tbody>\n",
       "</table>\n",
       "</div>"
      ],
      "text/plain": [
       "          物品A       物品B       物品C\n",
       "物品A  1.000000  0.500000  0.188982\n",
       "物品B  0.500000  1.000000  0.944911\n",
       "物品C  0.188982  0.944911  1.000000"
      ]
     },
     "execution_count": 72,
     "metadata": {},
     "output_type": "execute_result"
    }
   ],
   "source": [
    "similarity_r_all(data)"
   ]
  },
  {
   "cell_type": "code",
   "execution_count": 73,
   "id": "c12c6ec3",
   "metadata": {},
   "outputs": [
    {
     "name": "stdout",
     "output_type": "stream",
     "text": [
      "相关系数 r = 0.944911182523068\n",
      "显著水平 P = 0.21229561500965669   （非显著相关）\n",
      "相关系数 r = 0.944911182523068\n",
      "显著水平 P = 0.21229561500965669   （非显著相关）\n"
     ]
    }
   ],
   "source": [
    "similarity_r(data.iloc[1] , data.iloc[2])\n",
    "similarity_r([4 , 2 , 2] , [4 , 2 , 1])"
   ]
  },
  {
   "cell_type": "markdown",
   "id": "89074b98",
   "metadata": {},
   "source": [
    "# 分组\n",
    ">- `groupby( 参数一 )[ 参数二 ].函数`\n",
    ">  - 参数一：`['分组列名' , '分组列名' , ...]`\n",
    ">    - 分组后，参数一的分组列名将作为行索引\n",
    ">  - 参数二：`['分组后选取列名' , '分组后选取列名' , ...]`\n",
    ">    - 若参数二使用单层 `[]` ，则函数运算后结果为 Series\n",
    ">    - 若参数二使用双层 `[[]]` ，则函数运算后结果为 DataFrame\n",
    ">    - 见下述结果整合\n",
    ">  - 函数：见下述四种\n",
    ">- 本质\n",
    ">  - 按参数一的列依次分组\n",
    ">  - 然后在每个组内选取参数二的列\n",
    ">  - 最后对参数二的列在组内进行函数运算"
   ]
  },
  {
   "cell_type": "code",
   "execution_count": 74,
   "id": "39a30029",
   "metadata": {},
   "outputs": [
    {
     "data": {
      "text/html": [
       "<div>\n",
       "<style scoped>\n",
       "    .dataframe tbody tr th:only-of-type {\n",
       "        vertical-align: middle;\n",
       "    }\n",
       "\n",
       "    .dataframe tbody tr th {\n",
       "        vertical-align: top;\n",
       "    }\n",
       "\n",
       "    .dataframe thead th {\n",
       "        text-align: right;\n",
       "    }\n",
       "</style>\n",
       "<table border=\"1\" class=\"dataframe\">\n",
       "  <thead>\n",
       "    <tr style=\"text-align: right;\">\n",
       "      <th></th>\n",
       "      <th>一</th>\n",
       "      <th>二</th>\n",
       "      <th>n1</th>\n",
       "      <th>n2</th>\n",
       "    </tr>\n",
       "  </thead>\n",
       "  <tbody>\n",
       "    <tr>\n",
       "      <th>0</th>\n",
       "      <td>A</td>\n",
       "      <td>a1</td>\n",
       "      <td>1</td>\n",
       "      <td>5</td>\n",
       "    </tr>\n",
       "    <tr>\n",
       "      <th>1</th>\n",
       "      <td>A</td>\n",
       "      <td>a2</td>\n",
       "      <td>2</td>\n",
       "      <td>4</td>\n",
       "    </tr>\n",
       "    <tr>\n",
       "      <th>2</th>\n",
       "      <td>A</td>\n",
       "      <td>a2</td>\n",
       "      <td>3</td>\n",
       "      <td>3</td>\n",
       "    </tr>\n",
       "    <tr>\n",
       "      <th>3</th>\n",
       "      <td>A</td>\n",
       "      <td>a2</td>\n",
       "      <td>4</td>\n",
       "      <td>2</td>\n",
       "    </tr>\n",
       "    <tr>\n",
       "      <th>4</th>\n",
       "      <td>A</td>\n",
       "      <td>a2</td>\n",
       "      <td>5</td>\n",
       "      <td>1</td>\n",
       "    </tr>\n",
       "    <tr>\n",
       "      <th>5</th>\n",
       "      <td>B</td>\n",
       "      <td>b1</td>\n",
       "      <td>11</td>\n",
       "      <td>55</td>\n",
       "    </tr>\n",
       "    <tr>\n",
       "      <th>6</th>\n",
       "      <td>B</td>\n",
       "      <td>b1</td>\n",
       "      <td>22</td>\n",
       "      <td>44</td>\n",
       "    </tr>\n",
       "    <tr>\n",
       "      <th>7</th>\n",
       "      <td>B</td>\n",
       "      <td>b2</td>\n",
       "      <td>33</td>\n",
       "      <td>33</td>\n",
       "    </tr>\n",
       "    <tr>\n",
       "      <th>8</th>\n",
       "      <td>B</td>\n",
       "      <td>b2</td>\n",
       "      <td>44</td>\n",
       "      <td>22</td>\n",
       "    </tr>\n",
       "    <tr>\n",
       "      <th>9</th>\n",
       "      <td>B</td>\n",
       "      <td>b2</td>\n",
       "      <td>55</td>\n",
       "      <td>11</td>\n",
       "    </tr>\n",
       "    <tr>\n",
       "      <th>10</th>\n",
       "      <td>C</td>\n",
       "      <td>c1</td>\n",
       "      <td>111</td>\n",
       "      <td>555</td>\n",
       "    </tr>\n",
       "    <tr>\n",
       "      <th>11</th>\n",
       "      <td>C</td>\n",
       "      <td>c1</td>\n",
       "      <td>222</td>\n",
       "      <td>444</td>\n",
       "    </tr>\n",
       "    <tr>\n",
       "      <th>12</th>\n",
       "      <td>C</td>\n",
       "      <td>c1</td>\n",
       "      <td>333</td>\n",
       "      <td>333</td>\n",
       "    </tr>\n",
       "    <tr>\n",
       "      <th>13</th>\n",
       "      <td>C</td>\n",
       "      <td>c2</td>\n",
       "      <td>444</td>\n",
       "      <td>222</td>\n",
       "    </tr>\n",
       "    <tr>\n",
       "      <th>14</th>\n",
       "      <td>C</td>\n",
       "      <td>c2</td>\n",
       "      <td>555</td>\n",
       "      <td>111</td>\n",
       "    </tr>\n",
       "  </tbody>\n",
       "</table>\n",
       "</div>"
      ],
      "text/plain": [
       "    一   二   n1   n2\n",
       "0   A  a1    1    5\n",
       "1   A  a2    2    4\n",
       "2   A  a2    3    3\n",
       "3   A  a2    4    2\n",
       "4   A  a2    5    1\n",
       "5   B  b1   11   55\n",
       "6   B  b1   22   44\n",
       "7   B  b2   33   33\n",
       "8   B  b2   44   22\n",
       "9   B  b2   55   11\n",
       "10  C  c1  111  555\n",
       "11  C  c1  222  444\n",
       "12  C  c1  333  333\n",
       "13  C  c2  444  222\n",
       "14  C  c2  555  111"
      ]
     },
     "execution_count": 74,
     "metadata": {},
     "output_type": "execute_result"
    }
   ],
   "source": [
    "data = pd.DataFrame([\n",
    "    ['A' , 'a1' , 1 , 5] , \n",
    "    ['A' , 'a2' , 2 , 4] , \n",
    "    ['A' , 'a2' , 3 , 3] , \n",
    "    ['A' , 'a2' , 4 , 2] , \n",
    "    ['A' , 'a2' , 5 , 1] , \n",
    "    \n",
    "    ['B' , 'b1' , 11 , 55] , \n",
    "    ['B' , 'b1' , 22 , 44] , \n",
    "    ['B' , 'b2' , 33 , 33] , \n",
    "    ['B' , 'b2' , 44 , 22] , \n",
    "    ['B' , 'b2' , 55 , 11] , \n",
    "    \n",
    "    ['C' , 'c1' , 111 , 555] , \n",
    "    ['C' , 'c1' , 222 , 444] , \n",
    "    ['C' , 'c1' , 333 , 333] , \n",
    "    ['C' , 'c2' , 444 , 222] , \n",
    "    ['C' , 'c2' , 555 , 111] , \n",
    "])\n",
    "data.columns = ['一', '二', 'n1', 'n2']\n",
    "data"
   ]
  },
  {
   "cell_type": "markdown",
   "id": "9d76721a",
   "metadata": {},
   "source": [
    "## 单列分组"
   ]
  },
  {
   "cell_type": "code",
   "execution_count": 75,
   "id": "cb976ff8",
   "metadata": {},
   "outputs": [
    {
     "data": {
      "text/plain": [
       "<pandas.core.groupby.generic.DataFrameGroupBy object at 0x0000025F27C4F5B0>"
      ]
     },
     "execution_count": 75,
     "metadata": {},
     "output_type": "execute_result"
    }
   ],
   "source": [
    "G1 = data.groupby(['一'])[['n1']]\n",
    "G1"
   ]
  },
  {
   "cell_type": "code",
   "execution_count": 76,
   "id": "26d96b39",
   "metadata": {},
   "outputs": [
    {
     "data": {
      "text/plain": [
       "<pandas.core.groupby.generic.DataFrameGroupBy object at 0x0000025F27C4F8B0>"
      ]
     },
     "execution_count": 76,
     "metadata": {},
     "output_type": "execute_result"
    }
   ],
   "source": [
    "G2 = data.groupby(['一'])[['n1' , 'n2']]\n",
    "G2"
   ]
  },
  {
   "cell_type": "markdown",
   "id": "fadfb6dd",
   "metadata": {},
   "source": [
    "## 多列分组"
   ]
  },
  {
   "cell_type": "code",
   "execution_count": 77,
   "id": "3c1537e2",
   "metadata": {},
   "outputs": [
    {
     "data": {
      "text/plain": [
       "<pandas.core.groupby.generic.DataFrameGroupBy object at 0x0000025F27C32F10>"
      ]
     },
     "execution_count": 77,
     "metadata": {},
     "output_type": "execute_result"
    }
   ],
   "source": [
    "G3 = data.groupby(['一' , '二'])[['n1']]\n",
    "G3"
   ]
  },
  {
   "cell_type": "code",
   "execution_count": 78,
   "id": "4e0197be",
   "metadata": {},
   "outputs": [
    {
     "data": {
      "text/plain": [
       "<pandas.core.groupby.generic.DataFrameGroupBy object at 0x0000025F27C32DF0>"
      ]
     },
     "execution_count": 78,
     "metadata": {},
     "output_type": "execute_result"
    }
   ],
   "source": [
    "G4 = data.groupby(['一' , '二'])[['n1' , 'n2']]\n",
    "G4"
   ]
  },
  {
   "cell_type": "markdown",
   "id": "b62d2d1a",
   "metadata": {},
   "source": [
    "## 分组后求 `min`"
   ]
  },
  {
   "cell_type": "code",
   "execution_count": 79,
   "id": "8b948a02",
   "metadata": {},
   "outputs": [
    {
     "data": {
      "text/html": [
       "<div>\n",
       "<style scoped>\n",
       "    .dataframe tbody tr th:only-of-type {\n",
       "        vertical-align: middle;\n",
       "    }\n",
       "\n",
       "    .dataframe tbody tr th {\n",
       "        vertical-align: top;\n",
       "    }\n",
       "\n",
       "    .dataframe thead th {\n",
       "        text-align: right;\n",
       "    }\n",
       "</style>\n",
       "<table border=\"1\" class=\"dataframe\">\n",
       "  <thead>\n",
       "    <tr style=\"text-align: right;\">\n",
       "      <th></th>\n",
       "      <th>n1</th>\n",
       "    </tr>\n",
       "    <tr>\n",
       "      <th>一</th>\n",
       "      <th></th>\n",
       "    </tr>\n",
       "  </thead>\n",
       "  <tbody>\n",
       "    <tr>\n",
       "      <th>A</th>\n",
       "      <td>1</td>\n",
       "    </tr>\n",
       "    <tr>\n",
       "      <th>B</th>\n",
       "      <td>11</td>\n",
       "    </tr>\n",
       "    <tr>\n",
       "      <th>C</th>\n",
       "      <td>111</td>\n",
       "    </tr>\n",
       "  </tbody>\n",
       "</table>\n",
       "</div>"
      ],
      "text/plain": [
       "    n1\n",
       "一     \n",
       "A    1\n",
       "B   11\n",
       "C  111"
      ]
     },
     "execution_count": 79,
     "metadata": {},
     "output_type": "execute_result"
    }
   ],
   "source": [
    "G1.min()"
   ]
  },
  {
   "cell_type": "code",
   "execution_count": 80,
   "id": "2fadafdc",
   "metadata": {},
   "outputs": [
    {
     "data": {
      "text/html": [
       "<div>\n",
       "<style scoped>\n",
       "    .dataframe tbody tr th:only-of-type {\n",
       "        vertical-align: middle;\n",
       "    }\n",
       "\n",
       "    .dataframe tbody tr th {\n",
       "        vertical-align: top;\n",
       "    }\n",
       "\n",
       "    .dataframe thead th {\n",
       "        text-align: right;\n",
       "    }\n",
       "</style>\n",
       "<table border=\"1\" class=\"dataframe\">\n",
       "  <thead>\n",
       "    <tr style=\"text-align: right;\">\n",
       "      <th></th>\n",
       "      <th></th>\n",
       "      <th>n1</th>\n",
       "    </tr>\n",
       "    <tr>\n",
       "      <th>一</th>\n",
       "      <th>二</th>\n",
       "      <th></th>\n",
       "    </tr>\n",
       "  </thead>\n",
       "  <tbody>\n",
       "    <tr>\n",
       "      <th rowspan=\"2\" valign=\"top\">A</th>\n",
       "      <th>a1</th>\n",
       "      <td>1</td>\n",
       "    </tr>\n",
       "    <tr>\n",
       "      <th>a2</th>\n",
       "      <td>2</td>\n",
       "    </tr>\n",
       "    <tr>\n",
       "      <th rowspan=\"2\" valign=\"top\">B</th>\n",
       "      <th>b1</th>\n",
       "      <td>11</td>\n",
       "    </tr>\n",
       "    <tr>\n",
       "      <th>b2</th>\n",
       "      <td>33</td>\n",
       "    </tr>\n",
       "    <tr>\n",
       "      <th rowspan=\"2\" valign=\"top\">C</th>\n",
       "      <th>c1</th>\n",
       "      <td>111</td>\n",
       "    </tr>\n",
       "    <tr>\n",
       "      <th>c2</th>\n",
       "      <td>444</td>\n",
       "    </tr>\n",
       "  </tbody>\n",
       "</table>\n",
       "</div>"
      ],
      "text/plain": [
       "       n1\n",
       "一 二      \n",
       "A a1    1\n",
       "  a2    2\n",
       "B b1   11\n",
       "  b2   33\n",
       "C c1  111\n",
       "  c2  444"
      ]
     },
     "execution_count": 80,
     "metadata": {},
     "output_type": "execute_result"
    }
   ],
   "source": [
    "G3.min()"
   ]
  },
  {
   "cell_type": "markdown",
   "id": "23564e23",
   "metadata": {},
   "source": [
    "## 分组后求 `max`"
   ]
  },
  {
   "cell_type": "code",
   "execution_count": 81,
   "id": "0deb6d50",
   "metadata": {},
   "outputs": [
    {
     "data": {
      "text/html": [
       "<div>\n",
       "<style scoped>\n",
       "    .dataframe tbody tr th:only-of-type {\n",
       "        vertical-align: middle;\n",
       "    }\n",
       "\n",
       "    .dataframe tbody tr th {\n",
       "        vertical-align: top;\n",
       "    }\n",
       "\n",
       "    .dataframe thead th {\n",
       "        text-align: right;\n",
       "    }\n",
       "</style>\n",
       "<table border=\"1\" class=\"dataframe\">\n",
       "  <thead>\n",
       "    <tr style=\"text-align: right;\">\n",
       "      <th></th>\n",
       "      <th>n1</th>\n",
       "      <th>n2</th>\n",
       "    </tr>\n",
       "    <tr>\n",
       "      <th>一</th>\n",
       "      <th></th>\n",
       "      <th></th>\n",
       "    </tr>\n",
       "  </thead>\n",
       "  <tbody>\n",
       "    <tr>\n",
       "      <th>A</th>\n",
       "      <td>5</td>\n",
       "      <td>5</td>\n",
       "    </tr>\n",
       "    <tr>\n",
       "      <th>B</th>\n",
       "      <td>55</td>\n",
       "      <td>55</td>\n",
       "    </tr>\n",
       "    <tr>\n",
       "      <th>C</th>\n",
       "      <td>555</td>\n",
       "      <td>555</td>\n",
       "    </tr>\n",
       "  </tbody>\n",
       "</table>\n",
       "</div>"
      ],
      "text/plain": [
       "    n1   n2\n",
       "一          \n",
       "A    5    5\n",
       "B   55   55\n",
       "C  555  555"
      ]
     },
     "execution_count": 81,
     "metadata": {},
     "output_type": "execute_result"
    }
   ],
   "source": [
    "G2.max()"
   ]
  },
  {
   "cell_type": "code",
   "execution_count": 82,
   "id": "ae6ac4a0",
   "metadata": {},
   "outputs": [
    {
     "data": {
      "text/html": [
       "<div>\n",
       "<style scoped>\n",
       "    .dataframe tbody tr th:only-of-type {\n",
       "        vertical-align: middle;\n",
       "    }\n",
       "\n",
       "    .dataframe tbody tr th {\n",
       "        vertical-align: top;\n",
       "    }\n",
       "\n",
       "    .dataframe thead th {\n",
       "        text-align: right;\n",
       "    }\n",
       "</style>\n",
       "<table border=\"1\" class=\"dataframe\">\n",
       "  <thead>\n",
       "    <tr style=\"text-align: right;\">\n",
       "      <th></th>\n",
       "      <th></th>\n",
       "      <th>n1</th>\n",
       "      <th>n2</th>\n",
       "    </tr>\n",
       "    <tr>\n",
       "      <th>一</th>\n",
       "      <th>二</th>\n",
       "      <th></th>\n",
       "      <th></th>\n",
       "    </tr>\n",
       "  </thead>\n",
       "  <tbody>\n",
       "    <tr>\n",
       "      <th rowspan=\"2\" valign=\"top\">A</th>\n",
       "      <th>a1</th>\n",
       "      <td>1</td>\n",
       "      <td>5</td>\n",
       "    </tr>\n",
       "    <tr>\n",
       "      <th>a2</th>\n",
       "      <td>5</td>\n",
       "      <td>4</td>\n",
       "    </tr>\n",
       "    <tr>\n",
       "      <th rowspan=\"2\" valign=\"top\">B</th>\n",
       "      <th>b1</th>\n",
       "      <td>22</td>\n",
       "      <td>55</td>\n",
       "    </tr>\n",
       "    <tr>\n",
       "      <th>b2</th>\n",
       "      <td>55</td>\n",
       "      <td>33</td>\n",
       "    </tr>\n",
       "    <tr>\n",
       "      <th rowspan=\"2\" valign=\"top\">C</th>\n",
       "      <th>c1</th>\n",
       "      <td>333</td>\n",
       "      <td>555</td>\n",
       "    </tr>\n",
       "    <tr>\n",
       "      <th>c2</th>\n",
       "      <td>555</td>\n",
       "      <td>222</td>\n",
       "    </tr>\n",
       "  </tbody>\n",
       "</table>\n",
       "</div>"
      ],
      "text/plain": [
       "       n1   n2\n",
       "一 二           \n",
       "A a1    1    5\n",
       "  a2    5    4\n",
       "B b1   22   55\n",
       "  b2   55   33\n",
       "C c1  333  555\n",
       "  c2  555  222"
      ]
     },
     "execution_count": 82,
     "metadata": {},
     "output_type": "execute_result"
    }
   ],
   "source": [
    "G4.max()"
   ]
  },
  {
   "cell_type": "markdown",
   "id": "b5f80739",
   "metadata": {},
   "source": [
    "## 分组后求 `cnt`"
   ]
  },
  {
   "cell_type": "code",
   "execution_count": 83,
   "id": "96c1ab7c",
   "metadata": {},
   "outputs": [
    {
     "data": {
      "text/html": [
       "<div>\n",
       "<style scoped>\n",
       "    .dataframe tbody tr th:only-of-type {\n",
       "        vertical-align: middle;\n",
       "    }\n",
       "\n",
       "    .dataframe tbody tr th {\n",
       "        vertical-align: top;\n",
       "    }\n",
       "\n",
       "    .dataframe thead th {\n",
       "        text-align: right;\n",
       "    }\n",
       "</style>\n",
       "<table border=\"1\" class=\"dataframe\">\n",
       "  <thead>\n",
       "    <tr style=\"text-align: right;\">\n",
       "      <th></th>\n",
       "      <th>n1</th>\n",
       "    </tr>\n",
       "    <tr>\n",
       "      <th>一</th>\n",
       "      <th></th>\n",
       "    </tr>\n",
       "  </thead>\n",
       "  <tbody>\n",
       "    <tr>\n",
       "      <th>A</th>\n",
       "      <td>5</td>\n",
       "    </tr>\n",
       "    <tr>\n",
       "      <th>B</th>\n",
       "      <td>5</td>\n",
       "    </tr>\n",
       "    <tr>\n",
       "      <th>C</th>\n",
       "      <td>5</td>\n",
       "    </tr>\n",
       "  </tbody>\n",
       "</table>\n",
       "</div>"
      ],
      "text/plain": [
       "   n1\n",
       "一    \n",
       "A   5\n",
       "B   5\n",
       "C   5"
      ]
     },
     "execution_count": 83,
     "metadata": {},
     "output_type": "execute_result"
    }
   ],
   "source": [
    "G1.count()"
   ]
  },
  {
   "cell_type": "code",
   "execution_count": 84,
   "id": "96d61c75",
   "metadata": {},
   "outputs": [
    {
     "data": {
      "text/html": [
       "<div>\n",
       "<style scoped>\n",
       "    .dataframe tbody tr th:only-of-type {\n",
       "        vertical-align: middle;\n",
       "    }\n",
       "\n",
       "    .dataframe tbody tr th {\n",
       "        vertical-align: top;\n",
       "    }\n",
       "\n",
       "    .dataframe thead th {\n",
       "        text-align: right;\n",
       "    }\n",
       "</style>\n",
       "<table border=\"1\" class=\"dataframe\">\n",
       "  <thead>\n",
       "    <tr style=\"text-align: right;\">\n",
       "      <th></th>\n",
       "      <th></th>\n",
       "      <th>n1</th>\n",
       "      <th>n2</th>\n",
       "    </tr>\n",
       "    <tr>\n",
       "      <th>一</th>\n",
       "      <th>二</th>\n",
       "      <th></th>\n",
       "      <th></th>\n",
       "    </tr>\n",
       "  </thead>\n",
       "  <tbody>\n",
       "    <tr>\n",
       "      <th rowspan=\"2\" valign=\"top\">A</th>\n",
       "      <th>a1</th>\n",
       "      <td>1</td>\n",
       "      <td>1</td>\n",
       "    </tr>\n",
       "    <tr>\n",
       "      <th>a2</th>\n",
       "      <td>4</td>\n",
       "      <td>4</td>\n",
       "    </tr>\n",
       "    <tr>\n",
       "      <th rowspan=\"2\" valign=\"top\">B</th>\n",
       "      <th>b1</th>\n",
       "      <td>2</td>\n",
       "      <td>2</td>\n",
       "    </tr>\n",
       "    <tr>\n",
       "      <th>b2</th>\n",
       "      <td>3</td>\n",
       "      <td>3</td>\n",
       "    </tr>\n",
       "    <tr>\n",
       "      <th rowspan=\"2\" valign=\"top\">C</th>\n",
       "      <th>c1</th>\n",
       "      <td>3</td>\n",
       "      <td>3</td>\n",
       "    </tr>\n",
       "    <tr>\n",
       "      <th>c2</th>\n",
       "      <td>2</td>\n",
       "      <td>2</td>\n",
       "    </tr>\n",
       "  </tbody>\n",
       "</table>\n",
       "</div>"
      ],
      "text/plain": [
       "      n1  n2\n",
       "一 二         \n",
       "A a1   1   1\n",
       "  a2   4   4\n",
       "B b1   2   2\n",
       "  b2   3   3\n",
       "C c1   3   3\n",
       "  c2   2   2"
      ]
     },
     "execution_count": 84,
     "metadata": {},
     "output_type": "execute_result"
    }
   ],
   "source": [
    "G4.count()"
   ]
  },
  {
   "cell_type": "markdown",
   "id": "9d5ba608",
   "metadata": {},
   "source": [
    "## 分组后求 `mean`"
   ]
  },
  {
   "cell_type": "code",
   "execution_count": 85,
   "id": "4af0bda9",
   "metadata": {},
   "outputs": [
    {
     "data": {
      "text/html": [
       "<div>\n",
       "<style scoped>\n",
       "    .dataframe tbody tr th:only-of-type {\n",
       "        vertical-align: middle;\n",
       "    }\n",
       "\n",
       "    .dataframe tbody tr th {\n",
       "        vertical-align: top;\n",
       "    }\n",
       "\n",
       "    .dataframe thead th {\n",
       "        text-align: right;\n",
       "    }\n",
       "</style>\n",
       "<table border=\"1\" class=\"dataframe\">\n",
       "  <thead>\n",
       "    <tr style=\"text-align: right;\">\n",
       "      <th></th>\n",
       "      <th>n1</th>\n",
       "      <th>n2</th>\n",
       "    </tr>\n",
       "    <tr>\n",
       "      <th>一</th>\n",
       "      <th></th>\n",
       "      <th></th>\n",
       "    </tr>\n",
       "  </thead>\n",
       "  <tbody>\n",
       "    <tr>\n",
       "      <th>A</th>\n",
       "      <td>3.0</td>\n",
       "      <td>3.0</td>\n",
       "    </tr>\n",
       "    <tr>\n",
       "      <th>B</th>\n",
       "      <td>33.0</td>\n",
       "      <td>33.0</td>\n",
       "    </tr>\n",
       "    <tr>\n",
       "      <th>C</th>\n",
       "      <td>333.0</td>\n",
       "      <td>333.0</td>\n",
       "    </tr>\n",
       "  </tbody>\n",
       "</table>\n",
       "</div>"
      ],
      "text/plain": [
       "      n1     n2\n",
       "一              \n",
       "A    3.0    3.0\n",
       "B   33.0   33.0\n",
       "C  333.0  333.0"
      ]
     },
     "execution_count": 85,
     "metadata": {},
     "output_type": "execute_result"
    }
   ],
   "source": [
    "G2.mean()"
   ]
  },
  {
   "cell_type": "code",
   "execution_count": 86,
   "id": "7c0c35d4",
   "metadata": {},
   "outputs": [
    {
     "data": {
      "text/html": [
       "<div>\n",
       "<style scoped>\n",
       "    .dataframe tbody tr th:only-of-type {\n",
       "        vertical-align: middle;\n",
       "    }\n",
       "\n",
       "    .dataframe tbody tr th {\n",
       "        vertical-align: top;\n",
       "    }\n",
       "\n",
       "    .dataframe thead th {\n",
       "        text-align: right;\n",
       "    }\n",
       "</style>\n",
       "<table border=\"1\" class=\"dataframe\">\n",
       "  <thead>\n",
       "    <tr style=\"text-align: right;\">\n",
       "      <th></th>\n",
       "      <th></th>\n",
       "      <th>n1</th>\n",
       "    </tr>\n",
       "    <tr>\n",
       "      <th>一</th>\n",
       "      <th>二</th>\n",
       "      <th></th>\n",
       "    </tr>\n",
       "  </thead>\n",
       "  <tbody>\n",
       "    <tr>\n",
       "      <th rowspan=\"2\" valign=\"top\">A</th>\n",
       "      <th>a1</th>\n",
       "      <td>1.0</td>\n",
       "    </tr>\n",
       "    <tr>\n",
       "      <th>a2</th>\n",
       "      <td>3.5</td>\n",
       "    </tr>\n",
       "    <tr>\n",
       "      <th rowspan=\"2\" valign=\"top\">B</th>\n",
       "      <th>b1</th>\n",
       "      <td>16.5</td>\n",
       "    </tr>\n",
       "    <tr>\n",
       "      <th>b2</th>\n",
       "      <td>44.0</td>\n",
       "    </tr>\n",
       "    <tr>\n",
       "      <th rowspan=\"2\" valign=\"top\">C</th>\n",
       "      <th>c1</th>\n",
       "      <td>222.0</td>\n",
       "    </tr>\n",
       "    <tr>\n",
       "      <th>c2</th>\n",
       "      <td>499.5</td>\n",
       "    </tr>\n",
       "  </tbody>\n",
       "</table>\n",
       "</div>"
      ],
      "text/plain": [
       "         n1\n",
       "一 二        \n",
       "A a1    1.0\n",
       "  a2    3.5\n",
       "B b1   16.5\n",
       "  b2   44.0\n",
       "C c1  222.0\n",
       "  c2  499.5"
      ]
     },
     "execution_count": 86,
     "metadata": {},
     "output_type": "execute_result"
    }
   ],
   "source": [
    "G3.mean()"
   ]
  },
  {
   "cell_type": "markdown",
   "id": "205c0550",
   "metadata": {},
   "source": [
    "## 结果整合"
   ]
  },
  {
   "cell_type": "code",
   "execution_count": 87,
   "id": "eb71b3db",
   "metadata": {},
   "outputs": [
    {
     "name": "stdout",
     "output_type": "stream",
     "text": [
      "<class 'pandas.core.series.Series'>\n"
     ]
    },
    {
     "data": {
      "text/plain": [
       "一\n",
       "A      1\n",
       "B     11\n",
       "C    111\n",
       "Name: n1, dtype: int64"
      ]
     },
     "execution_count": 87,
     "metadata": {},
     "output_type": "execute_result"
    }
   ],
   "source": [
    "G1 = data.groupby(['一'])['n1']\n",
    "print(type(G1.min()))\n",
    "G1.min()"
   ]
  },
  {
   "cell_type": "code",
   "execution_count": 88,
   "id": "4b0689ed",
   "metadata": {},
   "outputs": [
    {
     "name": "stdout",
     "output_type": "stream",
     "text": [
      "<class 'pandas.core.frame.DataFrame'>\n"
     ]
    },
    {
     "data": {
      "text/html": [
       "<div>\n",
       "<style scoped>\n",
       "    .dataframe tbody tr th:only-of-type {\n",
       "        vertical-align: middle;\n",
       "    }\n",
       "\n",
       "    .dataframe tbody tr th {\n",
       "        vertical-align: top;\n",
       "    }\n",
       "\n",
       "    .dataframe thead th {\n",
       "        text-align: right;\n",
       "    }\n",
       "</style>\n",
       "<table border=\"1\" class=\"dataframe\">\n",
       "  <thead>\n",
       "    <tr style=\"text-align: right;\">\n",
       "      <th></th>\n",
       "      <th>n1</th>\n",
       "    </tr>\n",
       "    <tr>\n",
       "      <th>一</th>\n",
       "      <th></th>\n",
       "    </tr>\n",
       "  </thead>\n",
       "  <tbody>\n",
       "    <tr>\n",
       "      <th>A</th>\n",
       "      <td>3.0</td>\n",
       "    </tr>\n",
       "    <tr>\n",
       "      <th>B</th>\n",
       "      <td>33.0</td>\n",
       "    </tr>\n",
       "    <tr>\n",
       "      <th>C</th>\n",
       "      <td>333.0</td>\n",
       "    </tr>\n",
       "  </tbody>\n",
       "</table>\n",
       "</div>"
      ],
      "text/plain": [
       "      n1\n",
       "一       \n",
       "A    3.0\n",
       "B   33.0\n",
       "C  333.0"
      ]
     },
     "execution_count": 88,
     "metadata": {},
     "output_type": "execute_result"
    }
   ],
   "source": [
    "G2 = data.groupby(['一'])[['n1']]\n",
    "print(type(G2.mean()))\n",
    "G2.mean()"
   ]
  },
  {
   "cell_type": "code",
   "execution_count": 89,
   "id": "aa87388a",
   "metadata": {},
   "outputs": [
    {
     "data": {
      "text/html": [
       "<div>\n",
       "<style scoped>\n",
       "    .dataframe tbody tr th:only-of-type {\n",
       "        vertical-align: middle;\n",
       "    }\n",
       "\n",
       "    .dataframe tbody tr th {\n",
       "        vertical-align: top;\n",
       "    }\n",
       "\n",
       "    .dataframe thead th {\n",
       "        text-align: right;\n",
       "    }\n",
       "</style>\n",
       "<table border=\"1\" class=\"dataframe\">\n",
       "  <thead>\n",
       "    <tr style=\"text-align: right;\">\n",
       "      <th></th>\n",
       "      <th>最小值</th>\n",
       "      <th>最大值</th>\n",
       "    </tr>\n",
       "    <tr>\n",
       "      <th>一</th>\n",
       "      <th></th>\n",
       "      <th></th>\n",
       "    </tr>\n",
       "  </thead>\n",
       "  <tbody>\n",
       "    <tr>\n",
       "      <th>A</th>\n",
       "      <td>1</td>\n",
       "      <td>3.0</td>\n",
       "    </tr>\n",
       "    <tr>\n",
       "      <th>B</th>\n",
       "      <td>11</td>\n",
       "      <td>33.0</td>\n",
       "    </tr>\n",
       "    <tr>\n",
       "      <th>C</th>\n",
       "      <td>111</td>\n",
       "      <td>333.0</td>\n",
       "    </tr>\n",
       "  </tbody>\n",
       "</table>\n",
       "</div>"
      ],
      "text/plain": [
       "   最小值    最大值\n",
       "一            \n",
       "A    1    3.0\n",
       "B   11   33.0\n",
       "C  111  333.0"
      ]
     },
     "execution_count": 89,
     "metadata": {},
     "output_type": "execute_result"
    }
   ],
   "source": [
    "# 不管参数二是单层 [] （Series）还是双层 [[]] （DataFrame）\n",
    "# 函数运算后可以整合到 DataFrame 中\n",
    "\n",
    "# 不过老生常谈\n",
    "# 最好的方式还是推荐使用 Series + .values 的形式\n",
    "\n",
    "res = pd.DataFrame()\n",
    "res['最小值'] = G1.min()\n",
    "res['最大值'] = G2.mean()\n",
    "res"
   ]
  }
 ],
 "metadata": {
  "kernelspec": {
   "display_name": "MathBert",
   "language": "python",
   "name": "mathbert"
  },
  "language_info": {
   "codemirror_mode": {
    "name": "ipython",
    "version": 3
   },
   "file_extension": ".py",
   "mimetype": "text/x-python",
   "name": "python",
   "nbconvert_exporter": "python",
   "pygments_lexer": "ipython3",
   "version": "3.9.12"
  },
  "toc": {
   "base_numbering": 1,
   "nav_menu": {},
   "number_sections": false,
   "sideBar": true,
   "skip_h1_title": false,
   "title_cell": "Table of Contents",
   "title_sidebar": "Contents",
   "toc_cell": false,
   "toc_position": {
    "height": "calc(100% - 180px)",
    "left": "10px",
    "top": "150px",
    "width": "182.115px"
   },
   "toc_section_display": true,
   "toc_window_display": true
  }
 },
 "nbformat": 4,
 "nbformat_minor": 5
}
