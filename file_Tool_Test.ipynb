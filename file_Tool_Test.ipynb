{
 "cells": [
  {
   "cell_type": "markdown",
   "id": "14fbe295",
   "metadata": {},
   "source": [
    "# 测试 `file_Tool`"
   ]
  },
  {
   "cell_type": "code",
   "execution_count": null,
   "id": "0185252e",
   "metadata": {},
   "outputs": [],
   "source": [
    "%%capture\n",
    "%run \"file_Tool.ipynb\""
   ]
  },
  {
   "cell_type": "markdown",
   "id": "d7e54fd2",
   "metadata": {},
   "source": [
    "# 测试 `Text`"
   ]
  },
  {
   "cell_type": "code",
   "execution_count": null,
   "id": "cfa27a0d",
   "metadata": {},
   "outputs": [],
   "source": [
    "L = [1 , '222' , 3.0 , [1 , '222' , 3.0]]"
   ]
  },
  {
   "cell_type": "code",
   "execution_count": null,
   "id": "29a48acc",
   "metadata": {},
   "outputs": [],
   "source": [
    "# 直接覆盖，可重复运行\n",
    "\n",
    "cover_txt(L , r'data\\直接覆盖.txt')"
   ]
  },
  {
   "cell_type": "code",
   "execution_count": null,
   "id": "3e07f11e",
   "metadata": {},
   "outputs": [],
   "source": [
    "# 末尾追加，可重复运行\n",
    "\n",
    "append_txt(L , r'data\\末尾追加.txt')"
   ]
  },
  {
   "cell_type": "code",
   "execution_count": null,
   "id": "18011274",
   "metadata": {},
   "outputs": [],
   "source": [
    "# 读取\n",
    "\n",
    "lines = read_txt(r'data\\末尾追加.txt')\n",
    "for line in lines:\n",
    "    print(line)"
   ]
  },
  {
   "cell_type": "markdown",
   "id": "61dd136b",
   "metadata": {},
   "source": [
    "# 测试 `Excel`"
   ]
  },
  {
   "cell_type": "markdown",
   "id": "8bde0f22",
   "metadata": {},
   "source": [
    "## 单 sheet\n",
    ">- 注意：`List`  ==>  存储  ==>  Excel  ==>  读取  ==> `String`（详见 `file_Tool_Test.ipynb`）"
   ]
  },
  {
   "cell_type": "code",
   "execution_count": null,
   "id": "1360836d",
   "metadata": {},
   "outputs": [],
   "source": [
    "data = pd.DataFrame({'One' : ['A' , 'B' , [1 , '2' , 3.0]] , 'Two' : [1 , 2 , 3]} , index = ['X' , 'Y' , 'Z'])\n",
    "print(data.iloc[2]['One'])\n",
    "print(type(data.iloc[2]['One']))\n",
    "data"
   ]
  },
  {
   "cell_type": "code",
   "execution_count": null,
   "id": "0122760e",
   "metadata": {},
   "outputs": [],
   "source": [
    "# 直接覆盖，可重复运行\n",
    "\n",
    "save_ex(data , r'data\\直接覆盖.xlsx')"
   ]
  },
  {
   "cell_type": "code",
   "execution_count": null,
   "id": "6999eb22",
   "metadata": {},
   "outputs": [],
   "source": [
    "# 读取\n",
    "# List 已经变为 String 数据类型\n",
    "\n",
    "data = read_ex(r'data\\直接覆盖.xlsx')\n",
    "print(data.iloc[2]['One'])\n",
    "print(type(data.iloc[2]['One']))\n",
    "data"
   ]
  },
  {
   "cell_type": "code",
   "execution_count": null,
   "id": "da62f6eb",
   "metadata": {},
   "outputs": [],
   "source": [
    "# 重置行索引\n",
    "\n",
    "data = data.set_index('Index')\n",
    "data"
   ]
  },
  {
   "cell_type": "markdown",
   "id": "5358af97",
   "metadata": {},
   "source": [
    "## 多 sheet"
   ]
  },
  {
   "cell_type": "code",
   "execution_count": null,
   "id": "e24eb4ae",
   "metadata": {},
   "outputs": [],
   "source": [
    "# 读取所有的 sheetName\n",
    "\n",
    "read_all_sheets(r'data\\直接覆盖.xlsx')"
   ]
  },
  {
   "cell_type": "code",
   "execution_count": null,
   "id": "f3881ef3",
   "metadata": {},
   "outputs": [],
   "source": [
    "# 读取指定 sheetName 的数据\n",
    "\n",
    "read_ex_sheet(r'data\\直接覆盖.xlsx' , 'Sheet1')"
   ]
  },
  {
   "cell_type": "markdown",
   "id": "2f0d0861",
   "metadata": {},
   "source": [
    "# 测试 `Json`"
   ]
  },
  {
   "cell_type": "code",
   "execution_count": null,
   "id": "695e02aa",
   "metadata": {},
   "outputs": [],
   "source": [
    "data = pd.DataFrame({'One' : ['A' , 'B' , [1 , '2' , 3.0]] , 'Two' : [1 , 2 , 3]} , index = ['X' , 'Y' , 'Z'])\n",
    "print(data.iloc[2]['One'])\n",
    "print(type(data.iloc[2]['One']))\n",
    "data"
   ]
  },
  {
   "cell_type": "code",
   "execution_count": null,
   "id": "6a9bb1a1",
   "metadata": {},
   "outputs": [],
   "source": [
    "# 直接覆盖，可重复运行\n",
    "\n",
    "save_json(data , r'data\\直接覆盖.json')"
   ]
  },
  {
   "cell_type": "code",
   "execution_count": null,
   "id": "199a712e",
   "metadata": {},
   "outputs": [],
   "source": [
    "# 读取\n",
    "# 依旧保持 List 数据类型\n",
    "\n",
    "data = read_json(r'data\\直接覆盖.json')\n",
    "print(data.iloc[2]['One'])\n",
    "print(type(data.iloc[2]['One']))\n",
    "data"
   ]
  },
  {
   "cell_type": "markdown",
   "id": "ab69cdf1",
   "metadata": {},
   "source": [
    "# 测试属性"
   ]
  },
  {
   "cell_type": "markdown",
   "id": "b9f88802",
   "metadata": {},
   "source": [
    "## 从 `.xlsx` 中读取"
   ]
  },
  {
   "cell_type": "code",
   "execution_count": null,
   "id": "42b71ef0",
   "metadata": {},
   "outputs": [],
   "source": [
    "data = read_ex(r'data\\Python 读取 Excel 文件.xlsx')"
   ]
  },
  {
   "cell_type": "code",
   "execution_count": null,
   "id": "58b91d0c",
   "metadata": {},
   "outputs": [],
   "source": [
    "data.dtypes"
   ]
  },
  {
   "cell_type": "code",
   "execution_count": null,
   "id": "d7054435",
   "metadata": {},
   "outputs": [],
   "source": [
    "cols = allCols(data)"
   ]
  },
  {
   "cell_type": "code",
   "execution_count": null,
   "id": "86c69049",
   "metadata": {},
   "outputs": [],
   "source": [
    "data"
   ]
  },
  {
   "cell_type": "markdown",
   "id": "74d4a414",
   "metadata": {},
   "source": [
    "## 从 `.json` 中读取"
   ]
  },
  {
   "cell_type": "code",
   "execution_count": null,
   "id": "fa842b48",
   "metadata": {},
   "outputs": [],
   "source": [
    "# 读取\n",
    "# 因为 ans 列有些为 '...%' 百分数形式，所以也为 String 类型\n",
    "\n",
    "data  = read_json(r'data\\Math23K.json')\n",
    "cols = allCols(data)"
   ]
  },
  {
   "cell_type": "code",
   "execution_count": null,
   "id": "3e3de721",
   "metadata": {},
   "outputs": [],
   "source": [
    "data.iloc[[6]]"
   ]
  },
  {
   "cell_type": "code",
   "execution_count": null,
   "id": "d0d4ef1c",
   "metadata": {},
   "outputs": [],
   "source": []
  }
 ],
 "metadata": {
  "kernelspec": {
   "display_name": "MathBert",
   "language": "python",
   "name": "mathbert"
  },
  "language_info": {
   "codemirror_mode": {
    "name": "ipython",
    "version": 3
   },
   "file_extension": ".py",
   "mimetype": "text/x-python",
   "name": "python",
   "nbconvert_exporter": "python",
   "pygments_lexer": "ipython3",
   "version": "3.9.12"
  },
  "toc": {
   "base_numbering": 1,
   "nav_menu": {},
   "number_sections": false,
   "sideBar": true,
   "skip_h1_title": false,
   "title_cell": "Table of Contents",
   "title_sidebar": "Contents",
   "toc_cell": false,
   "toc_position": {
    "height": "calc(100% - 180px)",
    "left": "10px",
    "top": "150px",
    "width": "182.115px"
   },
   "toc_section_display": true,
   "toc_window_display": true
  }
 },
 "nbformat": 4,
 "nbformat_minor": 5
}
